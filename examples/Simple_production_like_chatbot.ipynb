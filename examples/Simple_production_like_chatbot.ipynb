{
  "nbformat": 4,
  "nbformat_minor": 0,
  "metadata": {
    "colab": {
      "name": "Production_like_chatbot.ipynb",
      "provenance": []
    },
    "kernelspec": {
      "name": "python3",
      "display_name": "Python 3"
    },
    "widgets": {
      "application/vnd.jupyter.widget-state+json": {
        "f1b6f8bfafea4d24b836675ccf1f914e": {
          "model_module": "@jupyter-widgets/controls",
          "model_name": "TextModel",
          "state": {
            "_view_name": "TextView",
            "style": "IPY_MODEL_a19949a57bd64ae584ef26ad2d8d840e",
            "_dom_classes": [],
            "description": "",
            "_model_name": "TextModel",
            "placeholder": "​",
            "_view_module": "@jupyter-widgets/controls",
            "_model_module_version": "1.5.0",
            "value": "",
            "_view_count": null,
            "disabled": false,
            "_view_module_version": "1.5.0",
            "continuous_update": true,
            "description_tooltip": null,
            "_model_module": "@jupyter-widgets/controls",
            "layout": "IPY_MODEL_01df32da9a754ee4a8ba54d2631bb283"
          }
        },
        "a19949a57bd64ae584ef26ad2d8d840e": {
          "model_module": "@jupyter-widgets/controls",
          "model_name": "DescriptionStyleModel",
          "state": {
            "_view_name": "StyleView",
            "_model_name": "DescriptionStyleModel",
            "description_width": "",
            "_view_module": "@jupyter-widgets/base",
            "_model_module_version": "1.5.0",
            "_view_count": null,
            "_view_module_version": "1.2.0",
            "_model_module": "@jupyter-widgets/controls"
          }
        },
        "01df32da9a754ee4a8ba54d2631bb283": {
          "model_module": "@jupyter-widgets/base",
          "model_name": "LayoutModel",
          "state": {
            "_view_name": "LayoutView",
            "grid_template_rows": null,
            "right": null,
            "justify_content": null,
            "_view_module": "@jupyter-widgets/base",
            "overflow": null,
            "_model_module_version": "1.2.0",
            "_view_count": null,
            "flex_flow": null,
            "width": null,
            "min_width": null,
            "border": null,
            "align_items": null,
            "bottom": null,
            "_model_module": "@jupyter-widgets/base",
            "top": null,
            "grid_column": null,
            "overflow_y": null,
            "overflow_x": null,
            "grid_auto_flow": null,
            "grid_area": null,
            "grid_template_columns": null,
            "flex": null,
            "_model_name": "LayoutModel",
            "justify_items": null,
            "grid_row": null,
            "max_height": null,
            "align_content": null,
            "visibility": null,
            "align_self": null,
            "height": null,
            "min_height": null,
            "padding": null,
            "grid_auto_rows": null,
            "grid_gap": null,
            "max_width": null,
            "order": null,
            "_view_module_version": "1.2.0",
            "grid_template_areas": null,
            "object_position": null,
            "object_fit": null,
            "grid_auto_columns": null,
            "margin": null,
            "display": null,
            "left": null
          }
        }
      }
    }
  },
  "cells": [
    {
      "cell_type": "markdown",
      "metadata": {
        "id": "EDwQZ2NIdjJz",
        "colab_type": "text"
      },
      "source": [
        "# Простой скилл для чат-бота на DeepPavlov\n",
        "\n",
        "В данном тюториале представлен один из самых простых вариантов чат-бота для разговора на общие тематики.\n",
        "Меняя/дополняя датасет для модели ответов на часто задаваемые вопросы, пользователь может улучшить своего чат-бота.\n",
        "\n",
        "Установим библиотеку и основные используемые зависимости. Также скачаем необходимые файлы."
      ]
    },
    {
      "cell_type": "code",
      "metadata": {
        "id": "sJx1jBE8dg49",
        "colab_type": "code",
        "colab": {}
      },
      "source": [
        "!pip install deeppavlov\n",
        "!python -m deeppavlov install rusentiment_convers_bert\n",
        "!python -m deeppavlov download rusentiment_convers_bert\n",
        "!python -m deeppavlov download ner_rus_bert\n",
        "!pip install pandas==1.0.1"
      ],
      "execution_count": null,
      "outputs": []
    },
    {
      "cell_type": "markdown",
      "metadata": {
        "id": "UOwSHa-sfhye",
        "colab_type": "text"
      },
      "source": [
        "## Анализ тональности\n",
        "\n",
        "Первым делом поднимем модель для анализа тональности на русском языке. Возьмем BERT-based модель для классификации, обученную на датасете постов/комментариев Вконтакте. BERT модель предобучена на большом корпусе русских разговорных текстов (BERT RU conversational).\n",
        "http://docs.deeppavlov.ai/en/master/features/models/bert.html"
      ]
    },
    {
      "cell_type": "code",
      "metadata": {
        "id": "aZUZ04Fbd6ri",
        "colab_type": "code",
        "colab": {}
      },
      "source": [
        "from deeppavlov import build_model\n",
        "from deeppavlov import configs\n",
        "\n",
        "\n",
        "sentiment_classifier =  build_model(configs.classifiers.rusentiment_convers_bert)"
      ],
      "execution_count": null,
      "outputs": []
    },
    {
      "cell_type": "markdown",
      "metadata": {
        "id": "Jc485lrtgsQb",
        "colab_type": "text"
      },
      "source": [
        "Посмотрим, что предсказывает модель. Модели на вход надо подавать батч (batch - лист примеров) текстовых строк, которые мы хотим проанализировать на тональность."
      ]
    },
    {
      "cell_type": "code",
      "metadata": {
        "id": "wDOAxiiCd-Wc",
        "colab_type": "code",
        "colab": {
          "base_uri": "https://localhost:8080/",
          "height": 34
        },
        "outputId": "bc682b2a-7388-4b18-e423-b2a5ca36bc97"
      },
      "source": [
        "sentiment_classifier([\"Привет\", \"Дела отлично, собираюсь на работу.\", \"Классные часы.\", \"Даже не знаю.\", \"Все отстой!\"])"
      ],
      "execution_count": 8,
      "outputs": [
        {
          "output_type": "execute_result",
          "data": {
            "text/plain": [
              "['speech', 'positive', 'positive', 'neutral', 'negative']"
            ]
          },
          "metadata": {
            "tags": []
          },
          "execution_count": 8
        }
      ]
    },
    {
      "cell_type": "markdown",
      "metadata": {
        "id": "ZPf3j0d0ieBy",
        "colab_type": "text"
      },
      "source": [
        "## Именованные сущности\n",
        "\n",
        "Также нам понадобится модель распознавания именованных сущностей для извлечения имен, названий городов и организаций."
      ]
    },
    {
      "cell_type": "code",
      "metadata": {
        "id": "nvEvr_pCgA2c",
        "colab_type": "code",
        "colab": {}
      },
      "source": [
        "ner =  build_model(configs.ner.ner_rus_bert)"
      ],
      "execution_count": null,
      "outputs": []
    },
    {
      "cell_type": "code",
      "metadata": {
        "id": "rH-0HrlehH2g",
        "colab_type": "code",
        "colab": {
          "base_uri": "https://localhost:8080/",
          "height": 119
        },
        "outputId": "375f4dcc-5a06-4011-ef3d-15d2e610baf5"
      },
      "source": [
        "ner([\"Кто такой Владимир Ленин?\",  \n",
        "     \"Была в ПАО Сбербанке, открыла счет.\", \n",
        "     \"Видела такой в Вене в Австрии.\"])"
      ],
      "execution_count": 96,
      "outputs": [
        {
          "output_type": "execute_result",
          "data": {
            "text/plain": [
              "[[['Кто', 'такой', 'Владимир', 'Ленин', '?'],\n",
              "  ['Была', 'в', 'ПАО', 'Сбербанке', ',', 'открыла', 'счет', '.'],\n",
              "  ['Видела', 'такой', 'в', 'Вене', 'в', 'Австрии', '.']],\n",
              " [['O', 'O', 'B-PER', 'I-PER', 'O'],\n",
              "  ['O', 'O', 'B-ORG', 'I-ORG', 'O', 'O', 'O', 'O'],\n",
              "  ['O', 'O', 'O', 'B-LOC', 'O', 'B-LOC', 'O']]]"
            ]
          },
          "metadata": {
            "tags": []
          },
          "execution_count": 96
        }
      ]
    },
    {
      "cell_type": "markdown",
      "metadata": {
        "id": "gBfC2Rij3Qjj",
        "colab_type": "text"
      },
      "source": [
        "## Часто задаваемые вопросы \n",
        "\n",
        "Frequently asked questions (FAQ) - модель ответов на вопросы, ответы к которым присутствуют в датасете."
      ]
    },
    {
      "cell_type": "code",
      "metadata": {
        "id": "4bN-pQcThXWA",
        "colab_type": "code",
        "colab": {}
      },
      "source": [
        "from pandas import DataFrame\n",
        "\n",
        "pairs = [[\"Привет.\", \"Привет!))\"], \n",
        "         [\"Добрый день!\", \"Привет!))\"], \n",
        "         [\"Здравствуйте!\", \"Привет!))\"], \n",
        "         [\"Доброе утро!\", \"Привет!))\"], \n",
        "         [\"Добрый вечер!\", \"Привет!))\"], \n",
        "         [\"Как дела?\", \"Замечательно! А у тебя как дела?\"], \n",
        "         [\"Как твои дела?\", \"Замечательно! А у тебя как дела?\"],\n",
        "         ]\n",
        "\n",
        "# соберем датафрейм из имеющихся данных\n",
        "df = DataFrame(pairs, columns=[\"Question\", \"Answer\"])\n",
        "# сохраним данные в файл, так как они понадобятся нам для обучения нашей модели\n",
        "df.to_csv(\"/my_data.csv\", index=False)"
      ],
      "execution_count": 65,
      "outputs": []
    },
    {
      "cell_type": "markdown",
      "metadata": {
        "id": "nNs4czg43sv0",
        "colab_type": "text"
      },
      "source": [
        "Возьмем имеющийся в библиотеке конфигурационный файл, содержащий в себе пайплайн для модели FAQ, основанной на cosine similarity. \n",
        "\n",
        "В файле надо заменить путь к датасету на тот, что мы определили выше, сохранив датасет. Также заменим путь к файлам моделей, чтобы не подгрузить/не перезаписать скачанные модели из данного конфига."
      ]
    },
    {
      "cell_type": "code",
      "metadata": {
        "id": "rJXP-xEXmIbG",
        "colab_type": "code",
        "colab": {}
      },
      "source": [
        "import json\n",
        "\n",
        "faq_config_path = configs.faq.tfidf_logreg_autofaq\n",
        "\n",
        "with open(faq_config_path, \"r\") as f:\n",
        "  faq_config = json.load(f)"
      ],
      "execution_count": 67,
      "outputs": []
    },
    {
      "cell_type": "code",
      "metadata": {
        "id": "X98mfwlOmIu6",
        "colab_type": "code",
        "colab": {
          "base_uri": "https://localhost:8080/",
          "height": 85
        },
        "outputId": "4ac91cc0-2952-45bc-dac3-3d6a1a4a198d"
      },
      "source": [
        "faq_config[\"dataset_reader\"]"
      ],
      "execution_count": 68,
      "outputs": [
        {
          "output_type": "execute_result",
          "data": {
            "text/plain": [
              "{'class_name': 'faq_reader',\n",
              " 'data_url': 'http://files.deeppavlov.ai/faq/school/faq_school.csv',\n",
              " 'x_col_name': 'Question',\n",
              " 'y_col_name': 'Answer'}"
            ]
          },
          "metadata": {
            "tags": []
          },
          "execution_count": 68
        }
      ]
    },
    {
      "cell_type": "code",
      "metadata": {
        "id": "n8EhjY6-mf5u",
        "colab_type": "code",
        "colab": {}
      },
      "source": [
        "faq_config[\"dataset_reader\"][\"data_url\"] = None\n",
        "faq_config[\"dataset_reader\"][\"data_path\"] = \"/my_data.csv\"\n",
        "faq_config[\"metadata\"][\"variables\"][\"MODELS_PATH\"] = \"{ROOT_PATH}/my_models\""
      ],
      "execution_count": 69,
      "outputs": []
    },
    {
      "cell_type": "markdown",
      "metadata": {
        "id": "obuk4ADL4aoS",
        "colab_type": "text"
      },
      "source": [
        "Обучим модель FAQ на сохраненных данных."
      ]
    },
    {
      "cell_type": "code",
      "metadata": {
        "id": "5mgXJ3fGoauM",
        "colab_type": "code",
        "colab": {}
      },
      "source": [
        "from deeppavlov import train_model\n",
        "\n",
        "faq_model = train_model(faq_config)"
      ],
      "execution_count": null,
      "outputs": []
    },
    {
      "cell_type": "markdown",
      "metadata": {
        "id": "gqyo-w1d4hWy",
        "colab_type": "text"
      },
      "source": [
        "Потестируем получившуюся модель."
      ]
    },
    {
      "cell_type": "code",
      "metadata": {
        "id": "HE5g-gg1opm5",
        "colab_type": "code",
        "colab": {
          "base_uri": "https://localhost:8080/",
          "height": 187
        },
        "outputId": "892e6ebe-b47c-471e-9788-c8ed45f63fbb"
      },
      "source": [
        "faq_model([\"привет\", \n",
        "           \"кто ты?\", \n",
        "           \"как ты?\",\n",
        "           \"какие дела?\", \n",
        "           \"как твои дела?\"])"
      ],
      "execution_count": 113,
      "outputs": [
        {
          "output_type": "execute_result",
          "data": {
            "text/plain": [
              "[['Привет!))',\n",
              "  'Привет!))',\n",
              "  'Замечательно! А у тебя как дела?',\n",
              "  'Замечательно! А у тебя как дела?',\n",
              "  'Замечательно! А у тебя как дела?'],\n",
              " [[0.996982189162366, 0.0030178108376339515],\n",
              "  [0.9430167449356117, 0.05698325506438824],\n",
              "  [0.048573286561535145, 0.9514267134384649],\n",
              "  [0.048573286561535145, 0.9514267134384649],\n",
              "  [0.00463466085327624, 0.9953653391467238]]]"
            ]
          },
          "metadata": {
            "tags": []
          },
          "execution_count": 113
        }
      ]
    },
    {
      "cell_type": "markdown",
      "metadata": {
        "id": "sb4ZPSq84krf",
        "colab_type": "text"
      },
      "source": [
        "### Следует отметить, что данная модель FAQ не multi-label, то есть нет варианта \"не принадлежит ни к одному классу\", поэтому будем использовать пороговое значение для уверенности (например, 0.96)."
      ]
    },
    {
      "cell_type": "code",
      "metadata": {
        "id": "D9mdQ8b7ouIP",
        "colab_type": "code",
        "colab": {}
      },
      "source": [
        "def generate_response(text):\n",
        "  faq_classification = faq_model([text])\n",
        "  faq_probas = faq_classification[1][0]\n",
        "  if any([p > 0.96 for p in faq_probas]):\n",
        "    # если faq модель сильно уверена в ответе, выдаем ее ответ пользователю\n",
        "    return faq_classification[0][0]\n",
        "\n",
        "  # определим тональность пришедшего на вход сообщения\n",
        "  sentim = sentiment_classifier([text])[0]\n",
        "  # определим именованные сущности в сообщении\n",
        "  entities = ner([text])\n",
        "  if any([ent != \"O\" for ent in entities[1][0]]):\n",
        "    # если хотя бы один из токенов помечен как именованная сущность\n",
        "    # здесь мы делаем послабление, что сущность у нас одна,\n",
        "    # и слепляем из нескольких токенов одну сущность\n",
        "    entity = \" \".join([ent for ent, ent_type in \n",
        "                       zip(entities[0][0], entities[1][0]) \n",
        "                       if ent_type != \"O\"])\n",
        "    if sentim == \"positive\":\n",
        "      # если у нас есть именованная сущность и позитивный сентимент,\n",
        "      # скажем, что нам тоже нравится эта сущность\n",
        "      return f\"Мне тоже нравится {entity}!\"\n",
        "    elif sentim == \"negative\":\n",
        "      # если у нас есть именованная сущность и негативный сентимент,\n",
        "      # скажем, что нам тоже не нравится эта сущность\n",
        "      return f\"Мне тоже не нравится {entity}!\"\n",
        "    else:\n",
        "      # если у нас есть именованная сущность,\n",
        "      # спросим, что пользователь думает о ней\n",
        "      return f\"Что ты думаешь о {entity}?\"\n",
        "  if sentim == \"positive\":\n",
        "    # если у нас нет именованных сущностей и есть позитивный сентимент,\n",
        "    # скажем классно\n",
        "    return \"Классно!\"\n",
        "  elif sentim == \"negative\":\n",
        "    # если у нас нет именованных сущностей и есть позитивный сентимент,\n",
        "    # скажем, что нам жаль\n",
        "    return \"Очень жаль..\"\n",
        "  # во всех остальных случаях, попросим рассказать нам что-нибудь\n",
        "  return \"Расскажи мне что-нибудь интересное, пожалуйста!\"\n"
      ],
      "execution_count": 117,
      "outputs": []
    },
    {
      "cell_type": "code",
      "metadata": {
        "id": "UGIb8DHPv-vh",
        "colab_type": "code",
        "colab": {
          "base_uri": "https://localhost:8080/",
          "height": 35
        },
        "outputId": "31ba5d87-b773-4fb6-eaaa-d4b8a8ceaede"
      },
      "source": [
        "generate_response(\"Ленин - классный мужик!\")"
      ],
      "execution_count": 115,
      "outputs": [
        {
          "output_type": "execute_result",
          "data": {
            "application/vnd.google.colaboratory.intrinsic+json": {
              "type": "string"
            },
            "text/plain": [
              "'Мне тоже нравится Ленин!'"
            ]
          },
          "metadata": {
            "tags": []
          },
          "execution_count": 115
        }
      ]
    },
    {
      "cell_type": "code",
      "metadata": {
        "id": "c13Cc3L7wB_Z",
        "colab_type": "code",
        "colab": {
          "base_uri": "https://localhost:8080/",
          "height": 49,
          "referenced_widgets": [
            "f1b6f8bfafea4d24b836675ccf1f914e",
            "a19949a57bd64ae584ef26ad2d8d840e",
            "01df32da9a754ee4a8ba54d2631bb283"
          ]
        },
        "outputId": "490c21f7-cdf5-4509-c5fb-e72be410ef29"
      },
      "source": [
        "from ipywidgets import widgets\n",
        "from IPython.display import display\n",
        "\n",
        "text = widgets.Text()\n",
        "display(text)\n",
        "\n",
        "def handle_submit(sender):\n",
        "  print(f\"Вы: {text.value}\")\n",
        "  print(f\"Бот: {generate_response(text.value)}\")\n",
        "\n",
        "text.on_submit(handle_submit)"
      ],
      "execution_count": 116,
      "outputs": [
        {
          "output_type": "display_data",
          "data": {
            "application/vnd.jupyter.widget-view+json": {
              "model_id": "f1b6f8bfafea4d24b836675ccf1f914e",
              "version_minor": 0,
              "version_major": 2
            },
            "text/plain": [
              "Text(value='')"
            ]
          },
          "metadata": {
            "tags": []
          }
        }
      ]
    },
    {
      "cell_type": "code",
      "metadata": {
        "id": "OVvgcfZw1JWT",
        "colab_type": "code",
        "colab": {}
      },
      "source": [
        ""
      ],
      "execution_count": null,
      "outputs": []
    }
  ]
}
{
 "cells": [
  {
   "cell_type": "markdown",
   "metadata": {
    "colab_type": "text",
    "id": "K7nBJnADTgUw"
   },
   "source": [
    "### You can also run the notebook in [COLAB](https://colab.research.google.com/github/deepmipt/DeepPavlov/blob/feat/new_tutors/examples/gobot_extended_tutorial_RU.ipynb)."
   ]
  },
  {
   "cell_type": "markdown",
   "metadata": {
    "colab_type": "text",
    "id": "iPbAiv8KTgU4"
   },
   "source": [
    "# Целеориентированный бот на DeepPavlov"
   ]
  },
  {
   "cell_type": "markdown",
   "metadata": {
    "colab_type": "text",
    "id": "us6IsTUETgU5"
   },
   "source": [
    "Данный тюториал описывает, как построить целеориентированную диалоговую систему с использованием фреймворка DeepPavlov на примере ресторанного домена. Тюториал покрывает следующие шаги:\n",
    "\n",
    "0. [Подготовка Данных](#0.-Подготовка-Данных)\n",
    "1. [Построение Базы Данных](#1.-Построение-Базы-Данных)\n",
    "2. [Построение Заполнителя Слотов](#2.-Построение-Заполнителя-Слотов)\n",
    "3. [Построение и Обучение Бота](#3.-Построение-и-Обучение-Бота)\n",
    "4. [Взаимодействие с Ботом](#4.-Взаимодействие-с-Ботом)\n",
    "\n",
    "Пример финальной модели доступен как бот в Телеграм:\n",
    "\n",
    "![gobot_example.png](https://github.com/deepmipt/DeepPavlov/blob/master/examples/img/gobot_example.png?raw=1)"
   ]
  },
  {
   "cell_type": "code",
   "execution_count": null,
   "metadata": {
    "colab": {
     "base_uri": "https://localhost:8080/",
     "height": 806
    },
    "colab_type": "code",
    "id": "Vtu-7ns2TgUz",
    "outputId": "8cdc252f-1a35-4ed3-bf0a-f54046d8c6a8"
   },
   "outputs": [],
   "source": [
    "!pip install deeppavlov\n",
    "!python -m deeppavlov install gobot_simple_dstc2"
   ]
  },
  {
   "cell_type": "markdown",
   "metadata": {
    "colab_type": "text",
    "id": "4R066YWhTgU6"
   },
   "source": [
    "## 0. Подготовка Данных"
   ]
  },
  {
   "cell_type": "markdown",
   "metadata": {
    "colab_type": "text",
    "id": "gppbVe-HTgU7"
   },
   "source": [
    "В данном тюториале мы строим чат-бота для бронирования ресторана. Чтобы обучить чат-бота мы используем датасет [Dialogue State Tracking Challenge 2 (DSTC-2)](http://camdial.org/~mh521/dstc/). DSTC-2 содержит разговоры людей в системе бронирования ресторанов, размеченные по слотам и диалоговым актам. Эта разметка будет использована для обучения нейросети (dialogue policy network).\n",
    "\n",
    "Для начала, давайте заглянем в выбранный датасет."
   ]
  },
  {
   "cell_type": "code",
   "execution_count": null,
   "metadata": {
    "colab": {
     "base_uri": "https://localhost:8080/",
     "height": 137
    },
    "colab_type": "code",
    "id": "K9lF3QFJTgU8",
    "outputId": "6ab259e2-3f88-4b25-9371-21d3f38fcef3"
   },
   "outputs": [],
   "source": [
    "from deeppavlov.dataset_readers.dstc2_reader import SimpleDSTC2DatasetReader\n",
    "\n",
    "data = SimpleDSTC2DatasetReader().read('my_data')"
   ]
  },
  {
   "cell_type": "code",
   "execution_count": null,
   "metadata": {
    "colab": {
     "base_uri": "https://localhost:8080/",
     "height": 50
    },
    "colab_type": "code",
    "id": "uu56jAGJTgVD",
    "outputId": "1536bb2c-6c1f-45a6-c0a7-a92106ed7dfe"
   },
   "outputs": [],
   "source": [
    "!ls my_data"
   ]
  },
  {
   "cell_type": "markdown",
   "metadata": {
    "colab_type": "text",
    "id": "HmNmE80MTgVG"
   },
   "source": [
    "Обучающая, валидационная и тестовые выборки хранятся в json файлах (`simple-dstc2-trn.json`, `simple-dstc2-val.json` и `simple-dstc2-tst.json`):"
   ]
  },
  {
   "cell_type": "code",
   "execution_count": null,
   "metadata": {
    "colab": {
     "base_uri": "https://localhost:8080/",
     "height": 1000
    },
    "colab_type": "code",
    "id": "LIm9DQyzTgVH",
    "outputId": "0a82c3f1-8afb-42d5-e3e3-0e9dd9178a20"
   },
   "outputs": [],
   "source": [
    "!head -n 101 my_data/simple-dstc2-trn.json"
   ]
  },
  {
   "cell_type": "markdown",
   "metadata": {
    "colab_type": "text",
    "id": "zO4CWg0XYNSw"
   },
   "source": [
    "Чтобы итерироваться по батчам предобработанного DSTC-2, нам необходимо импортировать `DatasetIterator` из `DeepPavlov`."
   ]
  },
  {
   "cell_type": "code",
   "execution_count": null,
   "metadata": {
    "colab": {},
    "colab_type": "code",
    "id": "piBBcw9ZTgVK",
    "scrolled": true
   },
   "outputs": [],
   "source": [
    "from deeppavlov.dataset_iterators.dialog_iterator import DialogDatasetIterator\n",
    "\n",
    "iterator = DialogDatasetIterator(data)"
   ]
  },
  {
   "cell_type": "markdown",
   "metadata": {
    "colab_type": "text",
    "id": "jVU5JGnTTgVM"
   },
   "source": [
    "Теперь мы можем итерироваться по батчам предобработанных диалогов DSTC-2:"
   ]
  },
  {
   "cell_type": "code",
   "execution_count": null,
   "metadata": {
    "colab": {
     "base_uri": "https://localhost:8080/",
     "height": 1000
    },
    "colab_type": "code",
    "id": "1RSwEH3CTgVN",
    "outputId": "b2a0ecdb-89d1-4784-eeb9-749f7b754ff6"
   },
   "outputs": [],
   "source": [
    "from pprint import pprint\n",
    "\n",
    "for dialog in iterator.gen_batches(batch_size=1, data_type='train'):\n",
    "    turns_x, turns_y = dialog\n",
    "    \n",
    "    print(\"User utterances:\\n----------------\\n\")\n",
    "    pprint(turns_x[0], indent=4)\n",
    "    print(\"\\nSystem responses:\\n-----------------\\n\")\n",
    "    pprint(turns_y[0], indent=4)\n",
    "    \n",
    "    break"
   ]
  },
  {
   "cell_type": "markdown",
   "metadata": {
    "colab_type": "text",
    "id": "AKTZWtm8ZtPi"
   },
   "source": [
    "В реальной жизни качественное аннотирование данных стоит дорого. Для приближения нашего тюториала к реалистичному сценарию использования, используем только 50 диалогов."
   ]
  },
  {
   "cell_type": "code",
   "execution_count": null,
   "metadata": {
    "colab": {},
    "colab_type": "code",
    "id": "UlappYTbTgVT"
   },
   "outputs": [],
   "source": [
    "!cp my_data/simple-dstc2-trn.json my_data/simple-dstc2-trn.full.json"
   ]
  },
  {
   "cell_type": "code",
   "execution_count": null,
   "metadata": {
    "colab": {
     "base_uri": "https://localhost:8080/",
     "height": 33
    },
    "colab_type": "code",
    "id": "tTU9yM-CTgVX",
    "outputId": "1568aaed-7f8e-4f77-a637-cda5a9556740"
   },
   "outputs": [],
   "source": [
    "import json\n",
    "\n",
    "NUM_TRAIN = 50\n",
    "\n",
    "with open('my_data/simple-dstc2-trn.full.json', 'rt') as fin:\n",
    "    data = json.load(fin)\n",
    "with open('my_data/simple-dstc2-trn.json', 'wt') as fout:\n",
    "    json.dump(data[:NUM_TRAIN], fout, indent=2)\n",
    "print(f\"Train set is reduced to {NUM_TRAIN} dialogues (out of {len(data)}).\")"
   ]
  },
  {
   "cell_type": "markdown",
   "metadata": {
    "colab_type": "text",
    "id": "l5mjRphbTgVb"
   },
   "source": [
    "## 1. Построение Базы Данных"
   ]
  },
  {
   "cell_type": "markdown",
   "metadata": {
    "colab_type": "text",
    "id": "n597CLhqjqcd"
   },
   "source": [
    "### Построение базы данных ресторанов"
   ]
  },
  {
   "cell_type": "markdown",
   "metadata": {
    "colab_type": "text",
    "id": "nJFkgfjTTgVf"
   },
   "source": [
    "Чтобы выполнить задачу бронирования ресторанов чат-бот должен иметь доступ к базе данных  ресторанов `database`. База данных `database`содержит специфичную информацию, такую как к какой кухне относится еда, ценовой диапазон, расположение ресторана и другое.\n",
    "\n",
    "    >> database([{'pricerange': 'cheap', 'area': 'south'}])\n",
    "    \n",
    "    Out[1]: \n",
    "        [[{'name': 'the lucky star',\n",
    "           'food': 'chinese',\n",
    "           'pricerange': 'cheap',\n",
    "           'area': 'south',\n",
    "           'addr': 'cambridge leisure park clifton way cherry hinton',\n",
    "           'phone': '01223 244277',\n",
    "           'postcode': 'c.b 1, 7 d.y'},\n",
    "          {'name': 'nandos',\n",
    "           'food': 'portuguese',\n",
    "           'pricerange': 'cheap',\n",
    "           'area': 'south',\n",
    "           'addr': 'cambridge leisure park clifton way',\n",
    "           'phone': '01223 327908',\n",
    "           'postcode': 'c.b 1, 7 d.y'}]]\n",
    "           "
   ]
  },
  {
   "cell_type": "markdown",
   "metadata": {
    "colab_type": "text",
    "id": "rNpewHp-TgVd"
   },
   "source": [
    "&nbsp;\n",
    "![gobot_database.png](https://github.com/deepmipt/DeepPavlov/blob/master/examples/img/gobot_database.png?raw=1)\n",
    "&nbsp;"
   ]
  },
  {
   "cell_type": "markdown",
   "metadata": {
    "colab_type": "text",
    "id": "-TU-NLnNa9tk"
   },
   "source": [
    "Чат-бот должен быть обучен делать запросы к API. Для этого тренировочный датасет содержит словарь с ключами`\"db_result\"`. Он аннотирует диалоговые шаги (dialog turn - ровно 1 пара реплик собеседников: реплика одного участника диалога и следующая за ней реплика другого участника диалога), когда система делает запрос к API базы данных. Результирующее значение хранится в  `\"db_result\"`."
   ]
  },
  {
   "cell_type": "code",
   "execution_count": null,
   "metadata": {
    "colab": {
     "base_uri": "https://localhost:8080/"
    },
    "colab_type": "code",
    "id": "EVNRZmeiTgVh",
    "outputId": "edba5e2b-235f-423f-8bfa-8d02506c4c7e"
   },
   "outputs": [],
   "source": [
    "!head -n 78 my_data/simple-dstc2-trn.json | tail +51"
   ]
  },
  {
   "cell_type": "markdown",
   "metadata": {
    "colab_type": "text",
    "id": "GT4YBHMnl0Xd"
   },
   "source": [
    "Передадим в `primary_keys`  лист названий слотов, которые имеют уникальные значения для различных элементов базы. Для случая базы данных ресторанов DSTC-2 основной слот - это название ресторана."
   ]
  },
  {
   "cell_type": "code",
   "execution_count": null,
   "metadata": {
    "colab": {
     "base_uri": "https://localhost:8080/"
    },
    "colab_type": "code",
    "id": "JjKbIAyaTgVk",
    "outputId": "07620401-80f5-490a-cff2-5d5f013a365b"
   },
   "outputs": [],
   "source": [
    "from deeppavlov.core.data.sqlite_database import Sqlite3Database\n",
    "\n",
    "database = Sqlite3Database(primary_keys=[\"name\"],\n",
    "                           save_path=\"my_bot/db.sqlite\")"
   ]
  },
  {
   "cell_type": "markdown",
   "metadata": {
    "colab_type": "text",
    "id": "a2e1u-z0TgVo"
   },
   "source": [
    "Давайте найдем все результирующие значения запроса к API базы данных `\"db_result\"` и добавим их в нашу базу данных ресторанов:"
   ]
  },
  {
   "cell_type": "code",
   "execution_count": null,
   "metadata": {
    "colab": {
     "base_uri": "https://localhost:8080/"
    },
    "colab_type": "code",
    "id": "RlKg5UtqTgVp",
    "outputId": "a387df1f-4418-498b-a125-9e351a8e0cf9"
   },
   "outputs": [],
   "source": [
    "db_results = []\n",
    "\n",
    "for dialog in iterator.gen_batches(batch_size=1, data_type='all'):\n",
    "    turns_x, turns_y = dialog\n",
    "    db_results.extend(x['db_result'] for x in turns_x[0] if x.get('db_result'))\n",
    "\n",
    "print(f\"Adding {len(db_results)} items.\")\n",
    "if db_results:\n",
    "    database.fit(db_results)"
   ]
  },
  {
   "cell_type": "markdown",
   "metadata": {
    "colab_type": "text",
    "id": "XeJMI9qaTgVt"
   },
   "source": [
    "### Взаимодействие с базой данных"
   ]
  },
  {
   "cell_type": "markdown",
   "metadata": {
    "colab_type": "text",
    "id": "2JLUF2b_TgVu"
   },
   "source": [
    "Тепреь можно попробовать сделать различные запросы к нашей базе данных ресторанов:"
   ]
  },
  {
   "cell_type": "code",
   "execution_count": null,
   "metadata": {
    "colab": {
     "base_uri": "https://localhost:8080/"
    },
    "colab_type": "code",
    "id": "VRCU_MJnTgVv",
    "outputId": "017803c4-36ab-49bc-ae40-7df87356f5c2"
   },
   "outputs": [],
   "source": [
    "database([{'pricerange': 'cheap', 'area': 'south'}])"
   ]
  },
  {
   "cell_type": "code",
   "execution_count": null,
   "metadata": {
    "colab": {
     "base_uri": "https://localhost:8080/"
    },
    "colab_type": "code",
    "id": "U2wOAIlpTgV1",
    "outputId": "e83e53b9-3431-4d1c-9bed-0e841d2b6fc4"
   },
   "outputs": [],
   "source": [
    "!ls my_bot"
   ]
  },
  {
   "cell_type": "markdown",
   "metadata": {
    "colab_type": "text",
    "id": "mBoO34NzTgV4"
   },
   "source": [
    "## 2. Построение Заполнителя Слотов"
   ]
  },
  {
   "cell_type": "markdown",
   "metadata": {
    "colab_type": "text",
    "id": "TGlJRwTCYkiQ"
   },
   "source": [
    "Заполнитель слотов `Slot Filler` - это компонента, которая находит знаечния слотов в реплике пользователя:\n",
    "\n",
    "    >> slot_filler(['I would like some chineese food'])\n",
    "    \n",
    "    Out[1]: [{'food': 'chinese'}]\n"
   ]
  },
  {
   "cell_type": "markdown",
   "metadata": {
    "colab_type": "text",
    "id": "5RqXeLdTTgV4"
   },
   "source": [
    "&nbsp;\n",
    "![gobot_slotfiller.png](https://github.com/deepmipt/DeepPavlov/blob/master/examples/img/gobot_slotfiller.png?raw=1)\n",
    "&nbsp;"
   ]
  },
  {
   "cell_type": "markdown",
   "metadata": {
    "colab_type": "text",
    "id": "TcJGPFq4TgV5"
   },
   "source": [
    "Чтобы имплементировать `Slot Filler`, нам необхолимо обозначить:\n",
    "\n",
    " - типа слотов (**slot types**),\n",
    " - все возможные значения слотов (**slot values**),\n",
    " - также хорошо иметь примеры упоминания каждого значения каждого слота.\n",
    " \n",
    "В данном тюториале разметка типов слотов `slot types` и значений слотов `slot values` должна быть определена в файле `slot_vals.json` в следующем формате:\n",
    "\n",
    "    {\n",
    "        'food': {\n",
    "            'chinese': ['chinese', 'chineese', 'chines'],\n",
    "            'french': ['french', 'freench'],\n",
    "            'dontcare': ['any food', 'any type of food']\n",
    "        }\n",
    "    }\n",
    "                \n",
    "Давайте используем простой не обучаемый заполнитель слотов, основанный на [расстоянии Левенштейна](https://ru.wikipedia.org/wiki/%D0%A0%D0%B0%D1%81%D1%81%D1%82%D0%BE%D1%8F%D0%BD%D0%B8%D0%B5_%D0%9B%D0%B5%D0%B2%D0%B5%D0%BD%D1%88%D1%82%D0%B5%D0%B9%D0%BD%D0%B0)."
   ]
  },
  {
   "cell_type": "code",
   "execution_count": null,
   "metadata": {
    "colab": {
     "base_uri": "https://localhost:8080/"
    },
    "colab_type": "code",
    "id": "zVi5XynnTgV6",
    "outputId": "e9d68c8c-3bbb-4f80-98a5-92cbfe0eb5ac"
   },
   "outputs": [],
   "source": [
    "from deeppavlov.download import download_decompress\n",
    "\n",
    "download_decompress(url='http://files.deeppavlov.ai/deeppavlov_data/dstc_slot_vals.tar.gz',\n",
    "                    download_path='my_bot/slotfill')"
   ]
  },
  {
   "cell_type": "code",
   "execution_count": null,
   "metadata": {
    "colab": {
     "base_uri": "https://localhost:8080/"
    },
    "colab_type": "code",
    "id": "NR1S3PXCTgV9",
    "outputId": "013e9dba-427c-4255-aad5-0627477157e8"
   },
   "outputs": [],
   "source": [
    "!ls my_bot/slotfill"
   ]
  },
  {
   "cell_type": "markdown",
   "metadata": {
    "colab_type": "text",
    "id": "-OZ9TqDKZ6Fv"
   },
   "source": [
    "Взглянем на некоторые типы слотов `slot types` и значения слотов `slot values`."
   ]
  },
  {
   "cell_type": "code",
   "execution_count": null,
   "metadata": {
    "colab": {
     "base_uri": "https://localhost:8080/"
    },
    "colab_type": "code",
    "id": "KqgfYr4RTgWE",
    "outputId": "a6830aa3-0bcc-4011-a4ab-5b5e48e6a20f"
   },
   "outputs": [],
   "source": [
    "!head -n 10 my_bot/slotfill/dstc_slot_vals.json"
   ]
  },
  {
   "cell_type": "markdown",
   "metadata": {
    "colab_type": "text",
    "id": "eIufDAvATgWN"
   },
   "source": [
    "Проверим точность нашего простого заполнителя слотов  на датасете DSTC-2."
   ]
  },
  {
   "cell_type": "code",
   "execution_count": null,
   "metadata": {
    "colab": {},
    "colab_type": "code",
    "id": "XUSj5R3uTgWP"
   },
   "outputs": [],
   "source": [
    "from deeppavlov import configs\n",
    "from deeppavlov.core.common.file import read_json\n",
    "\n",
    "slotfill_config = read_json(configs.ner.slotfill_simple_dstc2_raw)"
   ]
  },
  {
   "cell_type": "markdown",
   "metadata": {
    "colab_type": "text",
    "id": "pFda6_LBTgWT"
   },
   "source": [
    "Возьмем [конфигурационный файл для оригинального заполнителя слотов DSTC-2](https://github.com/deepmipt/DeepPavlov/blob/master/deeppavlov/configs/ner/slotfill_dstc2_raw.json) из библиотеки `DeepPavlov` и изменим переменные, отвечающие за пути к данным на текущие значения для нашего заполнителя слотов:"
   ]
  },
  {
   "cell_type": "code",
   "execution_count": null,
   "metadata": {
    "colab": {},
    "colab_type": "code",
    "id": "yr8MbFLwTgWV"
   },
   "outputs": [],
   "source": [
    "slotfill_config['metadata']['variables']['DATA_PATH'] = 'my_data'\n",
    "slotfill_config['metadata']['variables']['SLOT_VALS_PATH'] = 'my_bot/slotfill/dstc_slot_vals.json'"
   ]
  },
  {
   "cell_type": "markdown",
   "metadata": {
    "colab_type": "text",
    "id": "ZxMTySrpaZVP"
   },
   "source": [
    "Подсчитаем метрики."
   ]
  },
  {
   "cell_type": "code",
   "execution_count": null,
   "metadata": {
    "colab": {
     "base_uri": "https://localhost:8080/"
    },
    "colab_type": "code",
    "id": "CdrDW4bVTgWZ",
    "outputId": "ac56ae74-b368-437e-c70f-01b418ba883f"
   },
   "outputs": [],
   "source": [
    "from deeppavlov import evaluate_model\n",
    "\n",
    "slotfill = evaluate_model(slotfill_config);"
   ]
  },
  {
   "cell_type": "markdown",
   "metadata": {
    "colab_type": "text",
    "id": "azulujiLTgWb"
   },
   "source": [
    "We've got slot accuracy of **93% on valid** set and **95% on test** set."
   ]
  },
  {
   "cell_type": "markdown",
   "metadata": {
    "colab_type": "text",
    "id": "FkZvQ-yNig1u"
   },
   "source": [
    "Поднимем модель заполнителя слотов `Slot Filler`  из конфигурационного файла `DeepPavlov`."
   ]
  },
  {
   "cell_type": "code",
   "execution_count": null,
   "metadata": {
    "colab": {},
    "colab_type": "code",
    "id": "uWeXTtVhTgWc"
   },
   "outputs": [],
   "source": [
    "from deeppavlov import build_model\n",
    "\n",
    "slotfill = build_model(slotfill_config)"
   ]
  },
  {
   "cell_type": "markdown",
   "metadata": {
    "colab_type": "text",
    "id": "ihi4lpXUi-_V"
   },
   "source": [
    "Протестируем модель."
   ]
  },
  {
   "cell_type": "code",
   "execution_count": null,
   "metadata": {
    "colab": {
     "base_uri": "https://localhost:8080/"
    },
    "colab_type": "code",
    "id": "bMRSU_bnTgWf",
    "outputId": "d224e4be-1537-428d-ff67-55076224946d"
   },
   "outputs": [],
   "source": [
    "slotfill(['i want cheap chinee food'])"
   ]
  },
  {
   "cell_type": "markdown",
   "metadata": {
    "colab_type": "text",
    "id": "U2PUxB5fTgWl"
   },
   "source": [
    "Сохранение конфигурационного файла заполнителя слотов на диск (данный путь потребуется позднее)."
   ]
  },
  {
   "cell_type": "code",
   "execution_count": null,
   "metadata": {
    "colab": {},
    "colab_type": "code",
    "id": "5MyFaEM7TgWl"
   },
   "outputs": [],
   "source": [
    "import json\n",
    "\n",
    "json.dump(slotfill_config, open('my_bot/slotfill_config.json', 'wt'))"
   ]
  },
  {
   "cell_type": "code",
   "execution_count": null,
   "metadata": {
    "colab": {
     "base_uri": "https://localhost:8080/"
    },
    "colab_type": "code",
    "id": "_ZlRvicuTgWo",
    "outputId": "4f1c3d46-d3b1-4923-823e-e2df1027fc6f"
   },
   "outputs": [],
   "source": [
    "!ls my_bot"
   ]
  },
  {
   "cell_type": "markdown",
   "metadata": {
    "colab_type": "text",
    "id": "E_InRKO6TgWt"
   },
   "source": [
    "## 3. Построение и Обучение Бота"
   ]
  },
  {
   "cell_type": "markdown",
   "metadata": {
    "colab_type": "text",
    "id": "ySe2m9-5m6iW"
   },
   "source": [
    "### Политика/структура диалога (Dialogue policy) и шаблоны ответов"
   ]
  },
  {
   "cell_type": "markdown",
   "metadata": {
    "colab_type": "text",
    "id": "qjwbkeDl3TBg"
   },
   "source": [
    "Модуль dialog policy чат-бота принимает решение, какое действие будет предпринято в текущем состоянии диалога. Dialog policy в нашем чат-боте будет имплементировано как рекуррентная нейронная сеть (recurrent neural network, recurrency over user utterances), за которой следует полносвязный слой с softmax активацией. Нейросеть класифицирует входную реплику от пользователя в одно из предопределенных действия системы (определяет, какое действие требует от чат-бота данная реплика пользователя). Примеры возможных действий: поздороваться, запросить локацию пользователя или сделать запрос к базе данных. "
   ]
  },
  {
   "cell_type": "markdown",
   "metadata": {
    "colab_type": "text",
    "id": "wLE1iebG3WJc"
   },
   "source": [
    "![gobot_policy.png](https://github.com/deepmipt/DeepPavlov/blob/master/examples/img/gobot_policy.png?raw=1)"
   ]
  },
  {
   "cell_type": "markdown",
   "metadata": {
    "colab_type": "text",
    "id": "ghF-W56m3iW-"
   },
   "source": [
    "Все действия, доступные для системы, должны быть перечислены в файле `simple-dstc2-templates.txt`. Каждому действию должен быть сопоставлен шаблон для соответствующего ответа системы."
   ]
  },
  {
   "cell_type": "markdown",
   "metadata": {
    "colab_type": "text",
    "id": "TjDnGyiN3nIr"
   },
   "source": [
    "![gobot_templates.png](https://github.com/deepmipt/DeepPavlov/blob/master/examples/img/gobot_templates.png?raw=1)"
   ]
  },
  {
   "cell_type": "markdown",
   "metadata": {
    "colab_type": "text",
    "id": "-xqGKtXBTgWu"
   },
   "source": [
    "Шаблоны для ответов должны быть в формате  `<act>TAB<template>`, где `<act>` - это название действия и `<template>` - это соответствующий ответ. Шаблонный ответ может также содержать названия типов слотов, а каждый тип слота `#slot_type` будет заполнен значением слота для данного диалогового состояния."
   ]
  },
  {
   "cell_type": "code",
   "execution_count": null,
   "metadata": {
    "colab": {
     "base_uri": "https://localhost:8080/",
     "height": 204
    },
    "colab_type": "code",
    "id": "bNyliD8PTgWw",
    "outputId": "15434eda-f87e-4b19-ac1a-59c4ba345344"
   },
   "outputs": [],
   "source": [
    "!head -n 10 my_data/simple-dstc2-templates.txt"
   ]
  },
  {
   "cell_type": "markdown",
   "metadata": {
    "colab_type": "text",
    "id": "TWG40VysTgW0"
   },
   "source": [
    "По сути  dialogue policy модуль решает задачу классификации, где набор классов определен в `simple-dstc2-templates.txt`. Следовательно, чтобы обучить нейросеть модуля dialogue policy, нам необходимо сопоставить действие для каждого шага в диалогах обучающей выборки. Датасет DSTC-2 содержит в словаре каждого примера ключ `\"act\"`, который содержит название действия, требуемого текущей репликой. Рассмотрим пример обучающих данных для нейросети  dialogue policy."
   ]
  },
  {
   "cell_type": "code",
   "execution_count": null,
   "metadata": {
    "colab": {
     "base_uri": "https://localhost:8080/",
     "height": 438
    },
    "colab_type": "code",
    "id": "eeeqFeWkTgW1",
    "outputId": "c05f6279-a589-4b54-be62-0400251e840a"
   },
   "outputs": [],
   "source": [
    "!head -n 24 my_data/simple-dstc2-trn.json"
   ]
  },
  {
   "cell_type": "markdown",
   "metadata": {
    "colab_type": "text",
    "id": "k9d67KtlTgW5"
   },
   "source": [
    "Тепреь мы можем собрать полный пайплайн обработки данных для ресторанного чат-бота.\n",
    "\n",
    "Для начала, возьмем  [конфигурационный файл для простого бота DSTC2](https://github.com/deepmipt/DeepPavlov/blob/master/deeppavlov/configs/go_bot/gobot_simple_dstc2.json) ([больше конфигурационных файлов доступно здесь](https://github.com/deepmipt/DeepPavlov/blob/master/deeppavlov/configs/go_bot)) из `DeepPavlov` и изменим части, отвечающие за:\n",
    "- эмбеддинги, \n",
    "- базу данных,\n",
    "- заполнитель слотов,\n",
    "- шаблоны,\n",
    "- пути загрузки/сохранения модели и данных.\n",
    "\n",
    "Загрузим чат-бота:"
   ]
  },
  {
   "cell_type": "code",
   "execution_count": null,
   "metadata": {
    "colab": {},
    "colab_type": "code",
    "id": "db9_ozwnTgW5"
   },
   "outputs": [],
   "source": [
    "from deeppavlov import configs\n",
    "from deeppavlov.core.common.file import read_json\n",
    "\n",
    "gobot_config = read_json(configs.go_bot.gobot_simple_dstc2)"
   ]
  },
  {
   "cell_type": "markdown",
   "metadata": {
    "colab_type": "text",
    "id": "QFQFQ7_bTgXa"
   },
   "source": [
    "Возьмем bag-of-words эмбеддер:"
   ]
  },
  {
   "cell_type": "code",
   "execution_count": null,
   "metadata": {
    "colab": {},
    "colab_type": "code",
    "id": "fLgZuzQgTgXc"
   },
   "outputs": [],
   "source": [
    "gobot_config['chainer']['pipe'][-1]['embedder'] = None"
   ]
  },
  {
   "cell_type": "markdown",
   "metadata": {
    "colab_type": "text",
    "id": "oNGj-ARxTgW-"
   },
   "source": [
    "Впишем использованей нашей базы данных (мы взяли всего 50 диалогов!):"
   ]
  },
  {
   "cell_type": "code",
   "execution_count": null,
   "metadata": {
    "colab": {},
    "colab_type": "code",
    "id": "VanrlHZZTgXB"
   },
   "outputs": [],
   "source": [
    "gobot_config['chainer']['pipe'][-1]['database'] = {\n",
    "    'class_name': 'sqlite_database',\n",
    "    'primary_keys': [\"name\"],\n",
    "    'save_path': 'my_bot/db.sqlite'\n",
    "}"
   ]
  },
  {
   "cell_type": "markdown",
   "metadata": {
    "colab_type": "text",
    "id": "nQ_YE904TgXQ"
   },
   "source": [
    "Используем заполнитель слотов на расстоянии Левенштейна :"
   ]
  },
  {
   "cell_type": "code",
   "execution_count": null,
   "metadata": {
    "colab": {},
    "colab_type": "code",
    "id": "rNVubPKdTgXU"
   },
   "outputs": [],
   "source": [
    "gobot_config['chainer']['pipe'][-1]['slot_filler']['config_path'] = 'my_bot/slotfill_config.json'"
   ]
  },
  {
   "cell_type": "markdown",
   "metadata": {
    "colab_type": "text",
    "id": "ug76yN8sWUga"
   },
   "source": [
    "Для обработки значений слотов во всем диалоге, мы сначала будем находить значения слотов в последней реплике, а потом используем модуль `tracker`, который обновляет текущее значение слотов в состоянии диалога (dialogue state):"
   ]
  },
  {
   "cell_type": "code",
   "execution_count": null,
   "metadata": {
    "colab": {},
    "colab_type": "code",
    "id": "KJ8P-mHOWtZq"
   },
   "outputs": [],
   "source": [
    "gobot_config['chainer']['pipe'][-1]['tracker']['slot_names'] = ['pricerange', 'this', 'area', 'food']"
   ]
  },
  {
   "cell_type": "markdown",
   "metadata": {
    "colab_type": "text",
    "id": "6l6H_t1iTgW7"
   },
   "source": [
    "Внесем используемые шаблоны в пайплайн:"
   ]
  },
  {
   "cell_type": "code",
   "execution_count": null,
   "metadata": {
    "colab": {},
    "colab_type": "code",
    "id": "209m3f6yTgW8"
   },
   "outputs": [],
   "source": [
    "gobot_config['chainer']['pipe'][-1]['nlg_manager']['template_type'] = 'DefaultTemplate'\n",
    "gobot_config['chainer']['pipe'][-1]['nlg_manager']['template_path'] = 'my_data/simple-dstc2-templates.txt'"
   ]
  },
  {
   "cell_type": "markdown",
   "metadata": {
    "colab_type": "text",
    "id": "HMXih1roTgXi"
   },
   "source": [
    "Обозначим  пути к train/valid/test данным и пути к сохранению нашего чат-бота:"
   ]
  },
  {
   "cell_type": "code",
   "execution_count": null,
   "metadata": {
    "colab": {},
    "colab_type": "code",
    "id": "vTUdrrQVTgXi"
   },
   "outputs": [],
   "source": [
    "gobot_config['metadata']['variables']['DATA_PATH'] = 'my_data'\n",
    "gobot_config['metadata']['variables']['MODEL_PATH'] = 'my_bot'"
   ]
  },
  {
   "cell_type": "markdown",
   "metadata": {
    "colab_type": "text",
    "id": "2WDWC18cTgXm"
   },
   "source": [
    "Пайплайн получившейся диалоговой системы выглядит следующим образом:"
   ]
  },
  {
   "cell_type": "markdown",
   "metadata": {
    "colab_type": "text",
    "id": "nQmue0vIGdA0"
   },
   "source": [
    "    \n",
    "![gobot_pipeline.png](https://github.com/deepmipt/DeepPavlov/blob/master/examples/img/gobot_pipeline.png?raw=1)"
   ]
  },
  {
   "cell_type": "markdown",
   "metadata": {
    "colab_type": "text",
    "id": "X0cFEvYTTgXo"
   },
   "source": [
    "### Обучение нейросети dialogue policy"
   ]
  },
  {
   "cell_type": "code",
   "execution_count": null,
   "metadata": {
    "colab": {
     "base_uri": "https://localhost:8080/",
     "height": 1000
    },
    "colab_type": "code",
    "id": "X9wXKXuHTgXr",
    "outputId": "3ae99954-a888-40fb-8c21-74e3a5876a5d"
   },
   "outputs": [],
   "source": [
    "from deeppavlov import train_model\n",
    "\n",
    "gobot_config['train']['batch_size'] = 8 # batch size\n",
    "gobot_config['train']['max_batches'] = 250 # maximum number of training batches\n",
    "gobot_config['train']['log_on_k_batches'] = 20\n",
    "gobot_config['train']['val_every_n_batches'] = 40 # evaluate on full 'valid' split each n batches\n",
    "gobot_config['train']['log_every_n_batches'] = 40 # evaluate on 20 batches of 'train' split every n batches\n",
    "\n",
    "train_model(gobot_config);"
   ]
  },
  {
   "cell_type": "markdown",
   "metadata": {
    "colab_type": "text",
    "id": "fGGRzuacTgX0"
   },
   "source": [
    "Обучение на 50 диалогах занимает 5-20 минут в зависимости от использумых ресурсов. Обучение на 1000 диалогов займет 10-30 минут.\n",
    "\n",
    "См. страничку документации `DeepPavlov` [с конфигурационными файлами](http://docs.deeppavlov.ai/en/master/intro/configuration.html) для более сложных пайплайнов обучения."
   ]
  },
  {
   "cell_type": "markdown",
   "metadata": {
    "colab_type": "text",
    "id": "ldfDa9dUTgX1"
   },
   "source": [
    "### Evaluation of training"
   ]
  },
  {
   "cell_type": "markdown",
   "metadata": {
    "colab_type": "text",
    "id": "k-z7wZjOTgX6"
   },
   "source": [
    "Вычисление **точности**  обученного чат-бота: соответствуют ли ответы обученной системы верным ответам из выборки (полное совпадение строки)."
   ]
  },
  {
   "cell_type": "code",
   "execution_count": null,
   "metadata": {
    "colab": {
     "base_uri": "https://localhost:8080/",
     "height": 338
    },
    "colab_type": "code",
    "id": "EpPmQkTvTgX8",
    "outputId": "60071240-296f-4cec-d7e8-da2371e0fe90",
    "scrolled": true
   },
   "outputs": [],
   "source": [
    "from deeppavlov import evaluate_model\n",
    "\n",
    "evaluate_model(gobot_config);"
   ]
  },
  {
   "cell_type": "markdown",
   "metadata": {
    "colab_type": "text",
    "id": "1wZOqmYBTgYB"
   },
   "source": [
    "С настройками `max_batches=250`, точность на валидационной выборке `= 0.5`, а на тестовой `~ 0.5`."
   ]
  },
  {
   "cell_type": "markdown",
   "metadata": {
    "colab_type": "text",
    "id": "ElGD1tnJTgYC"
   },
   "source": [
    "## 4. Взаимодействие с Ботом"
   ]
  },
  {
   "cell_type": "code",
   "execution_count": null,
   "metadata": {
    "colab": {
     "base_uri": "https://localhost:8080/",
     "height": 204
    },
    "colab_type": "code",
    "id": "m9sJXOPPTgYF",
    "outputId": "34c4627f-6be1-44d3-893e-5c65f7bd3689"
   },
   "outputs": [],
   "source": [
    "from deeppavlov import build_model\n",
    "\n",
    "bot = build_model(gobot_config)"
   ]
  },
  {
   "cell_type": "code",
   "execution_count": null,
   "metadata": {
    "colab": {
     "base_uri": "https://localhost:8080/",
     "height": 33
    },
    "colab_type": "code",
    "id": "DXSYe_S1TgYL",
    "outputId": "2afc564c-45df-45b5-a5f3-68d9fae1b287"
   },
   "outputs": [],
   "source": [
    "bot(['hi, i want to eat, can you suggest a place to go?'])"
   ]
  },
  {
   "cell_type": "code",
   "execution_count": null,
   "metadata": {
    "colab": {
     "base_uri": "https://localhost:8080/",
     "height": 70
    },
    "colab_type": "code",
    "id": "zfYYMHFATgYO",
    "outputId": "dbf7c44b-d4b9-4ac0-808e-d84e427dc7c1"
   },
   "outputs": [],
   "source": [
    "bot(['i want cheap food'])"
   ]
  },
  {
   "cell_type": "code",
   "execution_count": null,
   "metadata": {
    "colab": {
     "base_uri": "https://localhost:8080/",
     "height": 70
    },
    "colab_type": "code",
    "id": "7lqjO0qXTgYQ",
    "outputId": "1a2fd9ef-d023-45f4-cea7-0b88c704c9a6"
   },
   "outputs": [],
   "source": [
    "bot(['chinese food'])"
   ]
  },
  {
   "cell_type": "code",
   "execution_count": null,
   "metadata": {
    "colab": {
     "base_uri": "https://localhost:8080/",
     "height": 33
    },
    "colab_type": "code",
    "id": "sdSgK3JFTgYV",
    "outputId": "2deddb0b-1bc1-432e-dcf6-22c39fa21832"
   },
   "outputs": [],
   "source": [
    "bot(['thanks, give me their address'])"
   ]
  },
  {
   "cell_type": "code",
   "execution_count": null,
   "metadata": {
    "colab": {
     "base_uri": "https://localhost:8080/",
     "height": 33
    },
    "colab_type": "code",
    "id": "bWWfPY7FTgYb",
    "outputId": "17fc9dae-f768-4875-e81d-e72bf80c7372"
   },
   "outputs": [],
   "source": [
    "bot(['i want their phone number too'])"
   ]
  },
  {
   "cell_type": "code",
   "execution_count": null,
   "metadata": {
    "colab": {
     "base_uri": "https://localhost:8080/",
     "height": 33
    },
    "colab_type": "code",
    "id": "0nSDyEXwTgYe",
    "outputId": "46260e7d-dd83-4415-b95a-95246d6176bb"
   },
   "outputs": [],
   "source": [
    "bot(['bye'])"
   ]
  },
  {
   "cell_type": "code",
   "execution_count": null,
   "metadata": {
    "colab": {},
    "colab_type": "code",
    "id": "MlwvZCPJTgYh"
   },
   "outputs": [],
   "source": [
    "bot.reset()"
   ]
  },
  {
   "cell_type": "code",
   "execution_count": null,
   "metadata": {
    "colab": {
     "base_uri": "https://localhost:8080/",
     "height": 53
    },
    "colab_type": "code",
    "id": "tvTZI4PKTgYl",
    "outputId": "e75d3136-4581-451d-d121-829c7dd28256"
   },
   "outputs": [],
   "source": [
    "bot(['hi, is there any cheap restaurant?'])"
   ]
  },
  {
   "cell_type": "markdown",
   "metadata": {},
   "source": [
    "Также можно обучить простого бота в следующем тюториале [gobot_tutorial.ipynb](https://github.com/deepmipt/DeepPavlov/blob/master/examples/gobot_tutorial.ipynb)"
   ]
  },
  {
   "cell_type": "code",
   "execution_count": null,
   "metadata": {
    "colab": {},
    "colab_type": "code",
    "id": "7An-mcu8TgYq"
   },
   "outputs": [],
   "source": []
  }
 ],
 "metadata": {
  "accelerator": "GPU",
  "colab": {
   "collapsed_sections": [
    "l5mjRphbTgVb",
    "n597CLhqjqcd",
    "XeJMI9qaTgVt",
    "mBoO34NzTgV4"
   ],
   "name": "gobot_tutorial(MB).ipynb",
   "provenance": [],
   "version": "0.3.2"
  },
  "kernelspec": {
   "display_name": "py36",
   "language": "python",
   "name": "py36"
  },
  "language_info": {
   "codemirror_mode": {
    "name": "ipython",
    "version": 3
   },
   "file_extension": ".py",
   "mimetype": "text/x-python",
   "name": "python",
   "nbconvert_exporter": "python",
   "pygments_lexer": "ipython3",
   "version": "3.6.9"
  }
 },
 "nbformat": 4,
 "nbformat_minor": 2
}

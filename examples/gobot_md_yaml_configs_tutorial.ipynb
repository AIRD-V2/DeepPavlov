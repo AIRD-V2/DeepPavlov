{
  "nbformat": 4,
  "nbformat_minor": 0,
  "metadata": {
    "colab": {
      "name": "gobot md yaml configs tutorial.ipynb",
      "provenance": []
    },
    "kernelspec": {
      "name": "python3",
      "display_name": "Python 3"
    }
  },
  "cells": [
    {
      "cell_type": "markdown",
      "metadata": {
        "id": "Jj5nbxnPbz6D",
        "colab_type": "text"
      },
      "source": [
        "# Use RASA DSL to Configure DeepPavlov's GO-Bot"
      ]
    },
    {
      "cell_type": "markdown",
      "metadata": {
        "id": "sRO97JLXb8j5",
        "colab_type": "text"
      },
      "source": [
        "At DeepPavlov, we support a variety of industry-wide and popular standards to support developing Conversational AI solutions.\n",
        "DSLs, known as Domain-Specific Languages, provide a rich mechanism to define the behavior, or \"the what\", while,\n",
        "the underlying system uses the parser to transform these definitions into commands that implement this behavior, or \"the how\"\n",
        "using the system's components.\n",
        "Until very recently we supported two such DSLs, including industry-standard <a href=\"http://docs.deeppavlov.ai/en/master/features/skills/aiml_skill.html\">AIML</a>, as well as <a href=\"http://docs.deeppavlov.ai/en/master/features/skills/dsl_skill.html\">DSL</a> designed by one our partners, EORA.\n",
        "\n",
        "In this tutorial, you will learn how to use another industrial DSL, or, better said, set of DSLs, introduced by RASA.ai,\n",
        "to build simple goal-oriented chatbots using DeepPavlov's GO-bot.\n",
        "\n",
        "As discussed in our [blog post](todo/link), this is the very beginning of our work focused on supporting RASA DSLs as a way to configure DeepPavlov-based\n",
        "goal-oriented chatbots, and therefore \n",
        "\n",
        "To configure a DeepPavlov-based goal-oriented chatbot using these DSLs, you need to have at least three basic config files:\n",
        "* `stories.md` (or `stories-{trn, tst, val}.md` but these are just subsamples)\n",
        "* `nlu.md`\n",
        "* `domain.yml`\n",
        "\n",
        "These files allow you to define 3 key elements of the chatbot, including product-level stories, NLU training data, and your chatbot's domain."
      ]
    },
    {
      "cell_type": "markdown",
      "metadata": {
        "id": "CWP08HJGnCDo",
        "colab_type": "text"
      },
      "source": [
        "## Concepts Behind Stories.md, NLU.md, and Domain.yml"
      ]
    },
    {
      "cell_type": "markdown",
      "metadata": {
        "id": "i_NQHZOqcwcr",
        "colab_type": "text"
      },
      "source": [
        "### `stories.md`\n",
        "\n"
      ]
    },
    {
      "cell_type": "markdown",
      "metadata": {
        "id": "j3HWMZPrg4V1",
        "colab_type": "text"
      },
      "source": [
        "`stories.md` is a mechanism used to teach your chatbot how to respond to user messages. It allows you to control your chatbot's dialog management.\n",
        "\n",
        "These \"stories\" model real conversations between a user and a chatbot. This Markdown-based file is used to define a list of\n",
        "*stories*, and each *story* can have a list of one or more *intents* with (optional) corresponding *slots*, where each *intent*\n",
        "has one or more corresponding actions taken by the chatbot.\n",
        "\n",
        "These actions, in general, can be anything, from simple message replies, to programmable actions that call APIs of other services.\n",
        "*Note:* In this version, supported actions are limited to simple message replies.\n",
        "\n",
        "In a way, it can be seen as a *dialogues dataset*."
      ]
    },
    {
      "cell_type": "markdown",
      "metadata": {
        "id": "M0oZHwh4K6PG",
        "colab_type": "text"
      },
      "source": [
        "#### format"
      ]
    },
    {
      "cell_type": "markdown",
      "metadata": {
        "id": "ad2ekquvK8oo",
        "colab_type": "text"
      },
      "source": [
        "Stories file is a markdown file of the following format:\n",
        "\n",
        "```markdown\n",
        "## story_title(not used by algorithm, but useful to work with for humans)\n",
        "* user_action_label{\"1st_slot_present_in_action\": \"slot1_value\", .., \"Nth_slot_present_in_action\": \"slotN_value\"}\n",
        " - system_respective_utterance\n",
        "* another_user_action_of_the_same_format\n",
        "  - another_system_response\n",
        "...\n",
        "\n",
        "## another_story_title\n",
        "...\n",
        "\n",
        "```\n",
        "\n",
        "**See examples below in this tutorial**"
      ]
    },
    {
      "cell_type": "markdown",
      "metadata": {
        "id": "Nhqxjj_Pedlo",
        "colab_type": "text"
      },
      "source": [
        "### `nlu.md`\n"
      ]
    },
    {
      "cell_type": "markdown",
      "metadata": {
        "id": "1zK1TuEvg6KJ",
        "colab_type": "text"
      },
      "source": [
        "`nlu.md` represents an NLU model of your chatbot. It allows you to provide training examples that show how your chatbot should\n",
        "understand user messages, and then train a model through these examples.\n",
        "\n",
        "While DeepPavlov's GO-bot supports JSON-based DSTC-2 format for training data, this Markdown Format introduced by RASA is the easiest one for humans to read and write."
      ]
    },
    {
      "cell_type": "markdown",
      "metadata": {
        "id": "SVR4J_UNMAgq",
        "colab_type": "text"
      },
      "source": [
        "#### format"
      ]
    },
    {
      "cell_type": "markdown",
      "metadata": {
        "id": "WEj0G5ciMBtA",
        "colab_type": "text"
      },
      "source": [
        "NLU file is a markdown file of the following format:\n",
        "\n",
        "```markdown\n",
        "## intent:possible_user_action_label_1\n",
        "- An example of user text that has the possible_user_action_label_1 action label\n",
        "- Another example of user text that has the possible_user_action_label_1 action label\n",
        "...\n",
        "\n",
        "## intent:possible_user_action_label_N\n",
        "- An example of user text that has the (possible_user_action_label_N)[action_label] action label\n",
        "<!-- Slotfilling dataset is provided as an inline markup of user texts -->\n",
        "...\n",
        "\n",
        "```\n",
        "\n",
        "**See examples below in this tutorial**"
      ]
    },
    {
      "cell_type": "markdown",
      "metadata": {
        "id": "I-wQb3XMfqVJ",
        "colab_type": "text"
      },
      "source": [
        "### `domain.yml`"
      ]
    },
    {
      "cell_type": "markdown",
      "metadata": {
        "id": "HIlJd3FIg8Hg",
        "colab_type": "text"
      },
      "source": [
        "`domain.yml` helps you to define the universe your chatbot lives in: what user inputs it expects to get, what actions it should be able to predict,\n",
        "how to respond, and what information to store.\n",
        "This YML format is relatively simple, and it can be seen as a dictionary of all components of your chatbot, including but not limited to intents,\n",
        "actions, responses, and other things."
      ]
    },
    {
      "cell_type": "markdown",
      "metadata": {
        "id": "o5qoE7NnNTEg",
        "colab_type": "text"
      },
      "source": [
        "#### format"
      ]
    },
    {
      "cell_type": "markdown",
      "metadata": {
        "id": "gl5QCyVMOpU9",
        "colab_type": "text"
      },
      "source": [
        "Domain file is a YAML file of the following format:\n",
        "\n",
        "```yaml\n",
        "# slots section lists the possible slot names (aka slot types) \n",
        "# that are used in the domain (i.e. relevant for bot's tasks)\n",
        "# currently only type: text is supported\n",
        "slots:\n",
        "  slot1_name:\n",
        "    type: text\n",
        "  ...\n",
        "  slotN_name:\n",
        "    type: text\n",
        "\n",
        "# entities list now follows the slots list 2nd level keys \n",
        "# and is present to support upcoming features. Stay tuned for updates with this!\n",
        "entities:\n",
        "- slot1_name\n",
        "...\n",
        "- slotN_name\n",
        "\n",
        "# intents section lists the intents that can appear in the stories\n",
        "# being kept together they do describe the user-side part of go-bot's experience\n",
        "intents:\n",
        "  - user_action_label\n",
        "  - another_user_action_of_the_same_format\n",
        "  ...\n",
        "\n",
        "# responses section lists the system response templates.\n",
        "# Despite system response' titles being usually informative themselves\n",
        "#   (one could even find them more appropriate when no actual \"Natural Language\" is needed \n",
        "#    (e.g. for buttons actions in bot apps))\n",
        "# It is though extremely useful to be able to serialize the response title to text. \n",
        "# That's what this section content is needed for.\n",
        "responses:\n",
        "  system_utterance_1:\n",
        "    - text: \"The text that system responds with\"\n",
        "  another_system_response:\n",
        "    - text: \"Here some text again\"\n",
        "\n",
        "```\n",
        "\n",
        "**See examples below in this tutorial**"
      ]
    },
    {
      "cell_type": "markdown",
      "metadata": {
        "id": "G__SfMVanNGc",
        "colab_type": "text"
      },
      "source": [
        "## Basic Chatbot"
      ]
    },
    {
      "cell_type": "markdown",
      "metadata": {
        "id": "qAFtnDz4Wbyg",
        "colab_type": "text"
      },
      "source": [
        "Let's build the simplest chatbot possible.\n",
        "This chatbot will be capable of processing three intents: *greeting*, *goodbye*, and *thanks*."
      ]
    },
    {
      "cell_type": "code",
      "metadata": {
        "id": "BElx8chGte5v",
        "colab_type": "code",
        "colab": {}
      },
      "source": [
        "DP_MIN_DEMO_DIR = \"dp_minimal_demo_dir\"  # we will work in this folder"
      ],
      "execution_count": 1,
      "outputs": []
    },
    {
      "cell_type": "code",
      "metadata": {
        "id": "1ypZ3rr1ta44",
        "colab_type": "code",
        "colab": {
          "base_uri": "https://localhost:8080/",
          "height": 51
        },
        "outputId": "8613adf3-079a-494f-cce0-31d6fb0f2238"
      },
      "source": [
        "import os\n",
        "\n",
        "%cd /content\n",
        "os.makedirs(DP_MIN_DEMO_DIR, exist_ok=True)\n",
        "%cd {DP_MIN_DEMO_DIR}"
      ],
      "execution_count": 2,
      "outputs": [
        {
          "output_type": "stream",
          "text": [
            "/content\n",
            "/content/dp_minimal_demo_dir\n"
          ],
          "name": "stdout"
        }
      ]
    },
    {
      "cell_type": "markdown",
      "metadata": {
        "id": "qwJPzxgqWrgf",
        "colab_type": "text"
      },
      "source": [
        "`stories.md` here is pretty straightforward. In it, you define 3 stories, each having its own intent and reply (utterance).\n",
        "Take into account the fact that you can combine all of these intents under one story, or add two intents to one stories, and third to another one."
      ]
    },
    {
      "cell_type": "code",
      "metadata": {
        "id": "HsVgqFHxnUFq",
        "colab_type": "code",
        "colab": {
          "base_uri": "https://localhost:8080/",
          "height": 34
        },
        "outputId": "5a21344e-23d1-425b-c22c-8e4fa52b61fd"
      },
      "source": [
        "%%writefile stories.md\n",
        "\n",
        "## greet\n",
        "* greet\n",
        "  - utter_greet\n",
        "\n",
        "## thank\n",
        "* thank\n",
        "  - utter_noworries\n",
        "\n",
        "## goodbye\n",
        "* bye\n",
        "  - utter_bye"
      ],
      "execution_count": 3,
      "outputs": [
        {
          "output_type": "stream",
          "text": [
            "Writing stories.md\n"
          ],
          "name": "stdout"
        }
      ]
    },
    {
      "cell_type": "markdown",
      "metadata": {
        "id": "oz_qOBjaW2v7",
        "colab_type": "text"
      },
      "source": [
        "`nlu.md` has an NLU training data that enables DeepPavlov to recognize user phrases as belonging to one the pre-defined intents."
      ]
    },
    {
      "cell_type": "code",
      "metadata": {
        "id": "Pk1GzeqAuK59",
        "colab_type": "code",
        "colab": {
          "base_uri": "https://localhost:8080/",
          "height": 34
        },
        "outputId": "1c0d5885-2d95-4de6-f8e6-cd077ea89d53"
      },
      "source": [
        "%%writefile nlu.md\n",
        "\n",
        "## intent:greet\n",
        "- Hi\n",
        "- Hey\n",
        "- Hi bot\n",
        "- Hey bot\n",
        "- Hello\n",
        "- Good morning\n",
        "- hi again\n",
        "- hi folks\n",
        "\n",
        "## intent:bye\n",
        "- goodbye\n",
        "- goodnight\n",
        "- good bye\n",
        "- good night\n",
        "- see ya\n",
        "- toodle-oo\n",
        "- bye bye\n",
        "- gotta go\n",
        "- farewell\n",
        "\n",
        "## intent:thank\n",
        "- Thanks\n",
        "- Thank you\n",
        "- Thank you so much\n",
        "- Thanks bot\n",
        "- Thanks for that\n",
        "- cheers\n"
      ],
      "execution_count": 4,
      "outputs": [
        {
          "output_type": "stream",
          "text": [
            "Writing nlu.md\n"
          ],
          "name": "stdout"
        }
      ]
    },
    {
      "cell_type": "markdown",
      "metadata": {
        "id": "gt8b1LWTW8mM",
        "colab_type": "text"
      },
      "source": [
        "`domain.yml` lists the list of: \n",
        "* possible user action intents \n",
        "* possible system response actions\n",
        "\n",
        "*Note:* Entities and slots are omitted in this example. See the more sophisticated example below to see how they are defined in the `domain.yml`."
      ]
    },
    {
      "cell_type": "code",
      "metadata": {
        "id": "srHE4tBhvMW4",
        "colab_type": "code",
        "colab": {
          "base_uri": "https://localhost:8080/",
          "height": 34
        },
        "outputId": "48111991-b8ae-4bf4-c4d0-cee7480b1af3"
      },
      "source": [
        "%%writefile domain.yml\n",
        "\n",
        "intents:\n",
        "  - greet\n",
        "  - bye\n",
        "  - thank\n",
        "\n",
        "responses:\n",
        "  utter_noworries:\n",
        "  - text: No worries!\n",
        "  utter_greet:\n",
        "  - text: Hi\n",
        "  utter_bye:\n",
        "  - text: Bye!"
      ],
      "execution_count": 5,
      "outputs": [
        {
          "output_type": "stream",
          "text": [
            "Writing domain.yml\n"
          ],
          "name": "stdout"
        }
      ]
    },
    {
      "cell_type": "markdown",
      "metadata": {
        "id": "75BDcU4yXY1g",
        "colab_type": "text"
      },
      "source": [
        "The next step is to install the `deeppavlov` library."
      ]
    },
    {
      "cell_type": "code",
      "metadata": {
        "id": "Zcp4-WpCzHaH",
        "colab_type": "code",
        "colab": {
          "base_uri": "https://localhost:8080/",
          "height": 1000
        },
        "outputId": "3f872115-38e6-4cdc-dec7-eda92542c01e"
      },
      "source": [
        "!pip install git+https://github.com/deepmipt/DeepPavlov.git@feature/gobot-md-yaml-config\n",
        "!python -m deeppavlov install gobot_simple_dstc2"
      ],
      "execution_count": 6,
      "outputs": [
        {
          "output_type": "stream",
          "text": [
            "Collecting git+https://github.com/deepmipt/DeepPavlov.git@feature/gobot-md-yaml-config\n",
            "  Cloning https://github.com/deepmipt/DeepPavlov.git (to revision feature/gobot-md-yaml-config) to /tmp/pip-req-build-ejpo32hx\n",
            "  Running command git clone -q https://github.com/deepmipt/DeepPavlov.git /tmp/pip-req-build-ejpo32hx\n",
            "  Running command git checkout -b feature/gobot-md-yaml-config --track origin/feature/gobot-md-yaml-config\n",
            "  Switched to a new branch 'feature/gobot-md-yaml-config'\n",
            "  Branch 'feature/gobot-md-yaml-config' set up to track remote branch 'feature/gobot-md-yaml-config' from 'origin'.\n",
            "Collecting aio-pika==6.4.1\n",
            "\u001b[?25l  Downloading https://files.pythonhosted.org/packages/c8/07/196a4115cbef31fa0c3dabdea146f02dffe5e49998341d20dbe2278953bc/aio_pika-6.4.1-py3-none-any.whl (40kB)\n",
            "\u001b[K     |████████████████████████████████| 51kB 3.6MB/s \n",
            "\u001b[?25hCollecting Cython==0.29.14\n",
            "\u001b[?25l  Downloading https://files.pythonhosted.org/packages/df/d1/4d3f8a7a920e805488a966cc6ab55c978a712240f584445d703c08b9f405/Cython-0.29.14-cp36-cp36m-manylinux1_x86_64.whl (2.1MB)\n",
            "\u001b[K     |████████████████████████████████| 2.1MB 12.4MB/s \n",
            "\u001b[?25hCollecting fastapi==0.47.1\n",
            "\u001b[?25l  Downloading https://files.pythonhosted.org/packages/a3/a7/4804d7abf8a1544d079d50650af872387154ebdac5bd07d54b2e60e2b334/fastapi-0.47.1-py3-none-any.whl (43kB)\n",
            "\u001b[K     |████████████████████████████████| 51kB 7.4MB/s \n",
            "\u001b[?25hRequirement already satisfied: h5py==2.10.0 in /usr/local/lib/python3.6/dist-packages (from deeppavlov==0.11.0) (2.10.0)\n",
            "Collecting nltk==3.4.5\n",
            "\u001b[?25l  Downloading https://files.pythonhosted.org/packages/f6/1d/d925cfb4f324ede997f6d47bea4d9babba51b49e87a767c170b77005889d/nltk-3.4.5.zip (1.5MB)\n",
            "\u001b[K     |████████████████████████████████| 1.5MB 38.7MB/s \n",
            "\u001b[?25hCollecting numpy==1.18.0\n",
            "\u001b[?25l  Downloading https://files.pythonhosted.org/packages/92/e6/45f71bd24f4e37629e9db5fb75caab919507deae6a5a257f9e4685a5f931/numpy-1.18.0-cp36-cp36m-manylinux1_x86_64.whl (20.1MB)\n",
            "\u001b[K     |████████████████████████████████| 20.1MB 1.3MB/s \n",
            "\u001b[?25hCollecting overrides==2.7.0\n",
            "  Downloading https://files.pythonhosted.org/packages/ac/98/2430afd204c48ac0a529d439d7e22df8fa603c668d03456b5947cb59ec36/overrides-2.7.0.tar.gz\n",
            "Collecting pandas==0.25.3\n",
            "\u001b[?25l  Downloading https://files.pythonhosted.org/packages/52/3f/f6a428599e0d4497e1595030965b5ba455fd8ade6e977e3c819973c4b41d/pandas-0.25.3-cp36-cp36m-manylinux1_x86_64.whl (10.4MB)\n",
            "\u001b[K     |████████████████████████████████| 10.4MB 46.2MB/s \n",
            "\u001b[?25hCollecting pytz==2019.1\n",
            "\u001b[?25l  Downloading https://files.pythonhosted.org/packages/3d/73/fe30c2daaaa0713420d0382b16fbb761409f532c56bdcc514bf7b6262bb6/pytz-2019.1-py2.py3-none-any.whl (510kB)\n",
            "\u001b[K     |████████████████████████████████| 512kB 42.6MB/s \n",
            "\u001b[?25hCollecting pydantic==1.3\n",
            "\u001b[?25l  Downloading https://files.pythonhosted.org/packages/99/24/e78cf017628e7eaed20cb040999b1ecc69f872da53dfd0d9aed40c0fa5f1/pydantic-1.3-cp36-cp36m-manylinux2010_x86_64.whl (7.3MB)\n",
            "\u001b[K     |████████████████████████████████| 7.3MB 28.7MB/s \n",
            "\u001b[?25hCollecting pymorphy2==0.8\n",
            "\u001b[?25l  Downloading https://files.pythonhosted.org/packages/a3/33/fff9675c68b5f6c63ec8c6e6ff57827dda28a1fa5b2c2d727dffff92dd47/pymorphy2-0.8-py2.py3-none-any.whl (46kB)\n",
            "\u001b[K     |████████████████████████████████| 51kB 7.0MB/s \n",
            "\u001b[?25hCollecting pymorphy2-dicts-ru\n",
            "\u001b[?25l  Downloading https://files.pythonhosted.org/packages/7c/9b/358faaff410f65a4ad159275e897b5956dcb20576c5b8e764b971c1634d7/pymorphy2_dicts_ru-2.4.404381.4453942-py2.py3-none-any.whl (8.0MB)\n",
            "\u001b[K     |████████████████████████████████| 8.0MB 45.3MB/s \n",
            "\u001b[?25hCollecting pyopenssl==19.1.0\n",
            "\u001b[?25l  Downloading https://files.pythonhosted.org/packages/9e/de/f8342b68fa9e981d348039954657bdf681b2ab93de27443be51865ffa310/pyOpenSSL-19.1.0-py2.py3-none-any.whl (53kB)\n",
            "\u001b[K     |████████████████████████████████| 61kB 8.2MB/s \n",
            "\u001b[?25hCollecting pytelegrambotapi==3.6.7\n",
            "\u001b[?25l  Downloading https://files.pythonhosted.org/packages/62/ab/99c606f69fcda57e35788b913dd34c9d9acb48dd26349141b3855dcf6351/pyTelegramBotAPI-3.6.7.tar.gz (65kB)\n",
            "\u001b[K     |████████████████████████████████| 71kB 8.6MB/s \n",
            "\u001b[?25hCollecting requests==2.22.0\n",
            "\u001b[?25l  Downloading https://files.pythonhosted.org/packages/51/bd/23c926cd341ea6b7dd0b2a00aba99ae0f828be89d72b2190f27c11d4b7fb/requests-2.22.0-py2.py3-none-any.whl (57kB)\n",
            "\u001b[K     |████████████████████████████████| 61kB 734kB/s \n",
            "\u001b[?25hCollecting ruamel.yaml==0.15.100\n",
            "\u001b[?25l  Downloading https://files.pythonhosted.org/packages/e7/9f/83bb34eaf84032b0b54fcc4a6aff1858572d279d65a301c7ae875f523df5/ruamel.yaml-0.15.100-cp36-cp36m-manylinux1_x86_64.whl (656kB)\n",
            "\u001b[K     |████████████████████████████████| 665kB 46.6MB/s \n",
            "\u001b[?25hCollecting rusenttokenize==0.0.5\n",
            "  Downloading https://files.pythonhosted.org/packages/25/4c/a2f00be5def774a3df2e5387145f1cb54e324607ec4a7e23f573645946e7/rusenttokenize-0.0.5-py3-none-any.whl\n",
            "Collecting scikit-learn==0.21.2\n",
            "\u001b[?25l  Downloading https://files.pythonhosted.org/packages/85/04/49633f490f726da6e454fddc8e938bbb5bfed2001681118d3814c219b723/scikit_learn-0.21.2-cp36-cp36m-manylinux1_x86_64.whl (6.7MB)\n",
            "\u001b[K     |████████████████████████████████| 6.7MB 41.0MB/s \n",
            "\u001b[?25hRequirement already satisfied: scipy==1.4.1 in /usr/local/lib/python3.6/dist-packages (from deeppavlov==0.11.0) (1.4.1)\n",
            "Requirement already satisfied: tqdm==4.41.1 in /usr/local/lib/python3.6/dist-packages (from deeppavlov==0.11.0) (4.41.1)\n",
            "Requirement already satisfied: click==7.1.2 in /usr/local/lib/python3.6/dist-packages (from deeppavlov==0.11.0) (7.1.2)\n",
            "Collecting uvicorn==0.11.1\n",
            "\u001b[?25l  Downloading https://files.pythonhosted.org/packages/8e/24/11f4b4bf3963ead6de570feeae49eeced02f6768cf1f68e16f4b16d3b0aa/uvicorn-0.11.1-py3-none-any.whl (42kB)\n",
            "\u001b[K     |████████████████████████████████| 51kB 6.4MB/s \n",
            "\u001b[?25hCollecting sacremoses==0.0.35\n",
            "\u001b[?25l  Downloading https://files.pythonhosted.org/packages/1f/8e/ed5364a06a9ba720fddd9820155cc57300d28f5f43a6fd7b7e817177e642/sacremoses-0.0.35.tar.gz (859kB)\n",
            "\u001b[K     |████████████████████████████████| 860kB 35.4MB/s \n",
            "\u001b[?25hCollecting yarl\n",
            "\u001b[?25l  Downloading https://files.pythonhosted.org/packages/a0/b4/2cbeaf2c3ea53865d9613b315fe24e78c66acedb1df7e4be4e064c87203b/yarl-1.5.1-cp36-cp36m-manylinux1_x86_64.whl (257kB)\n",
            "\u001b[K     |████████████████████████████████| 266kB 47.4MB/s \n",
            "\u001b[?25hCollecting aiormq<4,>=3.2.0\n",
            "  Downloading https://files.pythonhosted.org/packages/6b/c6/4a9f8f22eef268289e9af5da6a620d837c700b333eae01132bfe48fe7dc9/aiormq-3.2.3-py3-none-any.whl\n",
            "Collecting starlette<=0.12.9,>=0.12.9\n",
            "\u001b[?25l  Downloading https://files.pythonhosted.org/packages/67/95/2220fe5bf287e693a6430d8ee36c681b0157035b7249ec08f8fb36319d16/starlette-0.12.9.tar.gz (46kB)\n",
            "\u001b[K     |████████████████████████████████| 51kB 7.4MB/s \n",
            "\u001b[?25hRequirement already satisfied: six in /usr/local/lib/python3.6/dist-packages (from h5py==2.10.0->deeppavlov==0.11.0) (1.15.0)\n",
            "Requirement already satisfied: python-dateutil>=2.6.1 in /usr/local/lib/python3.6/dist-packages (from pandas==0.25.3->deeppavlov==0.11.0) (2.8.1)\n",
            "Requirement already satisfied: dataclasses>=0.6; python_version < \"3.7\" in /usr/local/lib/python3.6/dist-packages (from pydantic==1.3->deeppavlov==0.11.0) (0.7)\n",
            "Collecting pymorphy2-dicts<3.0,>=2.4\n",
            "\u001b[?25l  Downloading https://files.pythonhosted.org/packages/02/51/2465fd4f72328ab50877b54777764d928da8cb15b74e2680fc1bd8cb3173/pymorphy2_dicts-2.4.393442.3710985-py2.py3-none-any.whl (7.1MB)\n",
            "\u001b[K     |████████████████████████████████| 7.1MB 44.5MB/s \n",
            "\u001b[?25hCollecting dawg-python>=0.7\n",
            "  Downloading https://files.pythonhosted.org/packages/6a/84/ff1ce2071d4c650ec85745766c0047ccc3b5036f1d03559fd46bb38b5eeb/DAWG_Python-0.7.2-py2.py3-none-any.whl\n",
            "Requirement already satisfied: docopt>=0.6 in /usr/local/lib/python3.6/dist-packages (from pymorphy2==0.8->deeppavlov==0.11.0) (0.6.2)\n",
            "Collecting cryptography>=2.8\n",
            "\u001b[?25l  Downloading https://files.pythonhosted.org/packages/ba/91/84a29d6a27fd6dfc21f475704c4d2053d58ed7a4033c2b0ce1b4ca4d03d9/cryptography-3.0-cp35-abi3-manylinux2010_x86_64.whl (2.7MB)\n",
            "\u001b[K     |████████████████████████████████| 2.7MB 40.6MB/s \n",
            "\u001b[?25hCollecting idna<2.9,>=2.5\n",
            "\u001b[?25l  Downloading https://files.pythonhosted.org/packages/14/2c/cd551d81dbe15200be1cf41cd03869a46fe7226e7450af7a6545bfc474c9/idna-2.8-py2.py3-none-any.whl (58kB)\n",
            "\u001b[K     |████████████████████████████████| 61kB 7.8MB/s \n",
            "\u001b[?25hRequirement already satisfied: urllib3!=1.25.0,!=1.25.1,<1.26,>=1.21.1 in /usr/local/lib/python3.6/dist-packages (from requests==2.22.0->deeppavlov==0.11.0) (1.24.3)\n",
            "Requirement already satisfied: certifi>=2017.4.17 in /usr/local/lib/python3.6/dist-packages (from requests==2.22.0->deeppavlov==0.11.0) (2020.6.20)\n",
            "Requirement already satisfied: chardet<3.1.0,>=3.0.2 in /usr/local/lib/python3.6/dist-packages (from requests==2.22.0->deeppavlov==0.11.0) (3.0.4)\n",
            "Requirement already satisfied: joblib>=0.11 in /usr/local/lib/python3.6/dist-packages (from scikit-learn==0.21.2->deeppavlov==0.11.0) (0.16.0)\n",
            "Collecting uvloop>=0.14.0; sys_platform != \"win32\" and sys_platform != \"cygwin\" and platform_python_implementation != \"pypy\"\n",
            "\u001b[?25l  Downloading https://files.pythonhosted.org/packages/41/48/586225bbb02d3bdca475b17e4be5ce5b3f09da2d6979f359916c1592a687/uvloop-0.14.0-cp36-cp36m-manylinux2010_x86_64.whl (3.9MB)\n",
            "\u001b[K     |████████████████████████████████| 3.9MB 38.7MB/s \n",
            "\u001b[?25hCollecting websockets==8.*\n",
            "\u001b[?25l  Downloading https://files.pythonhosted.org/packages/bb/d9/856af84843912e2853b1b6e898ac8b802989fcf9ecf8e8445a1da263bf3b/websockets-8.1-cp36-cp36m-manylinux2010_x86_64.whl (78kB)\n",
            "\u001b[K     |████████████████████████████████| 81kB 9.6MB/s \n",
            "\u001b[?25hCollecting httptools==0.0.13; sys_platform != \"win32\" and sys_platform != \"cygwin\" and platform_python_implementation != \"pypy\"\n",
            "\u001b[?25l  Downloading https://files.pythonhosted.org/packages/1b/03/215969db11abe8741e9c266a4cbe803a372bd86dd35fa0084c4df6d4bd00/httptools-0.0.13.tar.gz (104kB)\n",
            "\u001b[K     |████████████████████████████████| 112kB 47.8MB/s \n",
            "\u001b[?25hCollecting h11<0.10,>=0.8\n",
            "\u001b[?25l  Downloading https://files.pythonhosted.org/packages/5a/fd/3dad730b0f95e78aeeb742f96fa7bbecbdd56a58e405d3da440d5bfb90c6/h11-0.9.0-py2.py3-none-any.whl (53kB)\n",
            "\u001b[K     |████████████████████████████████| 61kB 7.9MB/s \n",
            "\u001b[?25hRequirement already satisfied: typing-extensions>=3.7.4; python_version < \"3.8\" in /usr/local/lib/python3.6/dist-packages (from yarl->aio-pika==6.4.1->deeppavlov==0.11.0) (3.7.4.2)\n",
            "Collecting multidict>=4.0\n",
            "\u001b[?25l  Downloading https://files.pythonhosted.org/packages/1a/95/f50352b5366e7d579e8b99631680a9e32e1b22adfa1629a8f23b1d22d5e2/multidict-4.7.6-cp36-cp36m-manylinux1_x86_64.whl (148kB)\n",
            "\u001b[K     |████████████████████████████████| 153kB 46.4MB/s \n",
            "\u001b[?25hCollecting pamqp==2.3.0\n",
            "  Downloading https://files.pythonhosted.org/packages/eb/56/afa06143361e640c9159d828dadc95fc9195c52c95b4a97d136617b0166d/pamqp-2.3.0-py2.py3-none-any.whl\n",
            "Requirement already satisfied: cffi!=1.11.3,>=1.8 in /usr/local/lib/python3.6/dist-packages (from cryptography>=2.8->pyopenssl==19.1.0->deeppavlov==0.11.0) (1.14.1)\n",
            "Requirement already satisfied: pycparser in /usr/local/lib/python3.6/dist-packages (from cffi!=1.11.3,>=1.8->cryptography>=2.8->pyopenssl==19.1.0->deeppavlov==0.11.0) (2.20)\n",
            "Building wheels for collected packages: deeppavlov, nltk, overrides, pytelegrambotapi, sacremoses, starlette, httptools\n",
            "  Building wheel for deeppavlov (setup.py) ... \u001b[?25l\u001b[?25hdone\n",
            "  Created wheel for deeppavlov: filename=deeppavlov-0.11.0-cp36-none-any.whl size=868905 sha256=da888a8c56e706fab5a3cace769e59bb95da2d453108538d0c261406b3ced9b7\n",
            "  Stored in directory: /tmp/pip-ephem-wheel-cache-cfs5m3oi/wheels/d1/14/83/51a15d3d0cc9bf87e735c1daddf375ad226313aa14d8cd04d9\n",
            "  Building wheel for nltk (setup.py) ... \u001b[?25l\u001b[?25hdone\n",
            "  Created wheel for nltk: filename=nltk-3.4.5-cp36-none-any.whl size=1449907 sha256=7a4013a5ba55734f244c549f3b406dbf3b1fb9c106d5261a9909457b3cc18e37\n",
            "  Stored in directory: /root/.cache/pip/wheels/96/86/f6/68ab24c23f207c0077381a5e3904b2815136b879538a24b483\n",
            "  Building wheel for overrides (setup.py) ... \u001b[?25l\u001b[?25hdone\n",
            "  Created wheel for overrides: filename=overrides-2.7.0-cp36-none-any.whl size=5600 sha256=407357733fb3b975b002b657b77b6bf2c03d0b3fbd89494709123f1d1e70acf8\n",
            "  Stored in directory: /root/.cache/pip/wheels/8c/7c/ef/80508418b67d87371c5b3de49e03eb22ee7c1d19affb5099f8\n",
            "  Building wheel for pytelegrambotapi (setup.py) ... \u001b[?25l\u001b[?25hdone\n",
            "  Created wheel for pytelegrambotapi: filename=pyTelegramBotAPI-3.6.7-cp36-none-any.whl size=47178 sha256=e94c65e01ef19bb7090184df22a8d0374f8c24706637eec8cbb02fd2e856d5e0\n",
            "  Stored in directory: /root/.cache/pip/wheels/23/40/18/8a34153f95ef0dc19e3954898e5a5079244b76a8afdd7d0ec5\n",
            "  Building wheel for sacremoses (setup.py) ... \u001b[?25l\u001b[?25hdone\n",
            "  Created wheel for sacremoses: filename=sacremoses-0.0.35-cp36-none-any.whl size=883999 sha256=8145955666e083e11931f523f4fc13d4a3815898a96a61805087c52e0f412dc4\n",
            "  Stored in directory: /root/.cache/pip/wheels/63/2a/db/63e2909042c634ef551d0d9ac825b2b0b32dede4a6d87ddc94\n",
            "  Building wheel for starlette (setup.py) ... \u001b[?25l\u001b[?25hdone\n",
            "  Created wheel for starlette: filename=starlette-0.12.9-cp36-none-any.whl size=57245 sha256=7e7f4f5f700a2f6f2ee7985901017229e20536b9605e35d301974ce6fe2b9be5\n",
            "  Stored in directory: /root/.cache/pip/wheels/1c/51/5b/3828d52e185cafad941c4291b6f70894d0794be28c70addae5\n",
            "  Building wheel for httptools (setup.py) ... \u001b[?25l\u001b[?25hdone\n",
            "  Created wheel for httptools: filename=httptools-0.0.13-cp36-cp36m-linux_x86_64.whl size=212517 sha256=12a8d05f4da0cae895bda9854c212bbdfe1e0f199cad298a2475b4edc1e14fba\n",
            "  Stored in directory: /root/.cache/pip/wheels/e8/3e/2e/013f99b42efc25cf3589730cf380738e46b1e5edaf2f78d525\n",
            "Successfully built deeppavlov nltk overrides pytelegrambotapi sacremoses starlette httptools\n",
            "\u001b[31mERROR: google-colab 1.0.0 has requirement pandas~=1.0.0; python_version >= \"3.0\", but you'll have pandas 0.25.3 which is incompatible.\u001b[0m\n",
            "\u001b[31mERROR: google-colab 1.0.0 has requirement requests~=2.23.0, but you'll have requests 2.22.0 which is incompatible.\u001b[0m\n",
            "\u001b[31mERROR: datascience 0.10.6 has requirement folium==0.2.1, but you'll have folium 0.8.3 which is incompatible.\u001b[0m\n",
            "\u001b[31mERROR: albumentations 0.1.12 has requirement imgaug<0.2.7,>=0.2.5, but you'll have imgaug 0.2.9 which is incompatible.\u001b[0m\n",
            "Installing collected packages: idna, multidict, yarl, pamqp, aiormq, aio-pika, Cython, pydantic, starlette, fastapi, nltk, numpy, overrides, pytz, pandas, pymorphy2-dicts, dawg-python, pymorphy2, pymorphy2-dicts-ru, cryptography, pyopenssl, requests, pytelegrambotapi, ruamel.yaml, rusenttokenize, scikit-learn, uvloop, websockets, httptools, h11, uvicorn, sacremoses, deeppavlov\n",
            "  Found existing installation: idna 2.10\n",
            "    Uninstalling idna-2.10:\n",
            "      Successfully uninstalled idna-2.10\n",
            "  Found existing installation: Cython 0.29.21\n",
            "    Uninstalling Cython-0.29.21:\n",
            "      Successfully uninstalled Cython-0.29.21\n",
            "  Found existing installation: nltk 3.2.5\n",
            "    Uninstalling nltk-3.2.5:\n",
            "      Successfully uninstalled nltk-3.2.5\n",
            "  Found existing installation: numpy 1.18.5\n",
            "    Uninstalling numpy-1.18.5:\n",
            "      Successfully uninstalled numpy-1.18.5\n",
            "  Found existing installation: pytz 2018.9\n",
            "    Uninstalling pytz-2018.9:\n",
            "      Successfully uninstalled pytz-2018.9\n",
            "  Found existing installation: pandas 1.0.5\n",
            "    Uninstalling pandas-1.0.5:\n",
            "      Successfully uninstalled pandas-1.0.5\n",
            "  Found existing installation: requests 2.23.0\n",
            "    Uninstalling requests-2.23.0:\n",
            "      Successfully uninstalled requests-2.23.0\n",
            "  Found existing installation: scikit-learn 0.22.2.post1\n",
            "    Uninstalling scikit-learn-0.22.2.post1:\n",
            "      Successfully uninstalled scikit-learn-0.22.2.post1\n",
            "Successfully installed Cython-0.29.14 aio-pika-6.4.1 aiormq-3.2.3 cryptography-3.0 dawg-python-0.7.2 deeppavlov-0.11.0 fastapi-0.47.1 h11-0.9.0 httptools-0.0.13 idna-2.8 multidict-4.7.6 nltk-3.4.5 numpy-1.18.0 overrides-2.7.0 pamqp-2.3.0 pandas-0.25.3 pydantic-1.3 pymorphy2-0.8 pymorphy2-dicts-2.4.393442.3710985 pymorphy2-dicts-ru-2.4.404381.4453942 pyopenssl-19.1.0 pytelegrambotapi-3.6.7 pytz-2019.1 requests-2.22.0 ruamel.yaml-0.15.100 rusenttokenize-0.0.5 sacremoses-0.0.35 scikit-learn-0.21.2 starlette-0.12.9 uvicorn-0.11.1 uvloop-0.14.0 websockets-8.1 yarl-1.5.1\n"
          ],
          "name": "stdout"
        },
        {
          "output_type": "display_data",
          "data": {
            "application/vnd.colab-display-data+json": {
              "pip_warning": {
                "packages": [
                  "idna",
                  "numpy",
                  "pandas",
                  "pytz",
                  "requests"
                ]
              }
            }
          },
          "metadata": {
            "tags": []
          }
        },
        {
          "output_type": "stream",
          "text": [
            "2020-08-03 14:27:36.589 INFO in 'deeppavlov.core.common.file'['file'] at line 32: Interpreting 'gobot_simple_dstc2' as '/usr/local/lib/python3.6/dist-packages/deeppavlov/configs/go_bot/gobot_simple_dstc2.json'\n",
            "Collecting rapidfuzz==0.7.6\n",
            "\u001b[?25l  Downloading https://files.pythonhosted.org/packages/c2/4e/66d1ad1ad9f7f1e82c68632a6683c2408cc0e134cebf1a67572370379557/rapidfuzz-0.7.6-cp36-cp36m-manylinux2010_x86_64.whl (689kB)\n",
            "\u001b[K     |████████████████████████████████| 696kB 4.5MB/s \n",
            "\u001b[?25hInstalling collected packages: rapidfuzz\n",
            "Successfully installed rapidfuzz-0.7.6\n",
            "Requirement already satisfied: en_core_web_sm==2.2.5 from https://github.com/explosion/spacy-models/releases/download/en_core_web_sm-2.2.5/en_core_web_sm-2.2.5.tar.gz#egg=en_core_web_sm==2.2.5 in /usr/local/lib/python3.6/dist-packages (2.2.5)\n",
            "Requirement already satisfied: spacy>=2.2.2 in /usr/local/lib/python3.6/dist-packages (from en_core_web_sm==2.2.5) (2.2.4)\n",
            "Requirement already satisfied: thinc==7.4.0 in /usr/local/lib/python3.6/dist-packages (from spacy>=2.2.2->en_core_web_sm==2.2.5) (7.4.0)\n",
            "Requirement already satisfied: setuptools in /usr/local/lib/python3.6/dist-packages (from spacy>=2.2.2->en_core_web_sm==2.2.5) (49.2.0)\n",
            "Requirement already satisfied: blis<0.5.0,>=0.4.0 in /usr/local/lib/python3.6/dist-packages (from spacy>=2.2.2->en_core_web_sm==2.2.5) (0.4.1)\n",
            "Requirement already satisfied: cymem<2.1.0,>=2.0.2 in /usr/local/lib/python3.6/dist-packages (from spacy>=2.2.2->en_core_web_sm==2.2.5) (2.0.3)\n",
            "Requirement already satisfied: srsly<1.1.0,>=1.0.2 in /usr/local/lib/python3.6/dist-packages (from spacy>=2.2.2->en_core_web_sm==2.2.5) (1.0.2)\n",
            "Requirement already satisfied: tqdm<5.0.0,>=4.38.0 in /usr/local/lib/python3.6/dist-packages (from spacy>=2.2.2->en_core_web_sm==2.2.5) (4.41.1)\n",
            "Requirement already satisfied: plac<1.2.0,>=0.9.6 in /usr/local/lib/python3.6/dist-packages (from spacy>=2.2.2->en_core_web_sm==2.2.5) (1.1.3)\n",
            "Requirement already satisfied: catalogue<1.1.0,>=0.0.7 in /usr/local/lib/python3.6/dist-packages (from spacy>=2.2.2->en_core_web_sm==2.2.5) (1.0.0)\n",
            "Requirement already satisfied: numpy>=1.15.0 in /usr/local/lib/python3.6/dist-packages (from spacy>=2.2.2->en_core_web_sm==2.2.5) (1.18.0)\n",
            "Requirement already satisfied: wasabi<1.1.0,>=0.4.0 in /usr/local/lib/python3.6/dist-packages (from spacy>=2.2.2->en_core_web_sm==2.2.5) (0.7.1)\n",
            "Requirement already satisfied: murmurhash<1.1.0,>=0.28.0 in /usr/local/lib/python3.6/dist-packages (from spacy>=2.2.2->en_core_web_sm==2.2.5) (1.0.2)\n",
            "Requirement already satisfied: requests<3.0.0,>=2.13.0 in /usr/local/lib/python3.6/dist-packages (from spacy>=2.2.2->en_core_web_sm==2.2.5) (2.22.0)\n",
            "Requirement already satisfied: preshed<3.1.0,>=3.0.2 in /usr/local/lib/python3.6/dist-packages (from spacy>=2.2.2->en_core_web_sm==2.2.5) (3.0.2)\n",
            "Requirement already satisfied: importlib-metadata>=0.20; python_version < \"3.8\" in /usr/local/lib/python3.6/dist-packages (from catalogue<1.1.0,>=0.0.7->spacy>=2.2.2->en_core_web_sm==2.2.5) (1.7.0)\n",
            "Requirement already satisfied: certifi>=2017.4.17 in /usr/local/lib/python3.6/dist-packages (from requests<3.0.0,>=2.13.0->spacy>=2.2.2->en_core_web_sm==2.2.5) (2020.6.20)\n",
            "Requirement already satisfied: idna<2.9,>=2.5 in /usr/local/lib/python3.6/dist-packages (from requests<3.0.0,>=2.13.0->spacy>=2.2.2->en_core_web_sm==2.2.5) (2.8)\n",
            "Requirement already satisfied: chardet<3.1.0,>=3.0.2 in /usr/local/lib/python3.6/dist-packages (from requests<3.0.0,>=2.13.0->spacy>=2.2.2->en_core_web_sm==2.2.5) (3.0.4)\n",
            "Requirement already satisfied: urllib3!=1.25.0,!=1.25.1,<1.26,>=1.21.1 in /usr/local/lib/python3.6/dist-packages (from requests<3.0.0,>=2.13.0->spacy>=2.2.2->en_core_web_sm==2.2.5) (1.24.3)\n",
            "Requirement already satisfied: zipp>=0.5 in /usr/local/lib/python3.6/dist-packages (from importlib-metadata>=0.20; python_version < \"3.8\"->catalogue<1.1.0,>=0.0.7->spacy>=2.2.2->en_core_web_sm==2.2.5) (3.1.0)\n",
            "Collecting tensorflow==1.15.2\n",
            "\u001b[?25l  Downloading https://files.pythonhosted.org/packages/9a/d9/fd234c7bf68638423fb8e7f44af7fcfce3bcaf416b51e6d902391e47ec43/tensorflow-1.15.2-cp36-cp36m-manylinux2010_x86_64.whl (110.5MB)\n",
            "\u001b[K     |████████████████████████████████| 110.5MB 94kB/s \n",
            "\u001b[?25hRequirement already satisfied: keras-applications>=1.0.8 in /usr/local/lib/python3.6/dist-packages (from tensorflow==1.15.2) (1.0.8)\n",
            "Requirement already satisfied: grpcio>=1.8.6 in /usr/local/lib/python3.6/dist-packages (from tensorflow==1.15.2) (1.30.0)\n",
            "Requirement already satisfied: termcolor>=1.1.0 in /usr/local/lib/python3.6/dist-packages (from tensorflow==1.15.2) (1.1.0)\n",
            "Requirement already satisfied: absl-py>=0.7.0 in /usr/local/lib/python3.6/dist-packages (from tensorflow==1.15.2) (0.9.0)\n",
            "Requirement already satisfied: wheel>=0.26; python_version >= \"3\" in /usr/local/lib/python3.6/dist-packages (from tensorflow==1.15.2) (0.34.2)\n",
            "Requirement already satisfied: numpy<2.0,>=1.16.0 in /usr/local/lib/python3.6/dist-packages (from tensorflow==1.15.2) (1.18.0)\n",
            "Requirement already satisfied: astor>=0.6.0 in /usr/local/lib/python3.6/dist-packages (from tensorflow==1.15.2) (0.8.1)\n",
            "Requirement already satisfied: keras-preprocessing>=1.0.5 in /usr/local/lib/python3.6/dist-packages (from tensorflow==1.15.2) (1.1.2)\n",
            "Requirement already satisfied: opt-einsum>=2.3.2 in /usr/local/lib/python3.6/dist-packages (from tensorflow==1.15.2) (3.3.0)\n",
            "Requirement already satisfied: protobuf>=3.6.1 in /usr/local/lib/python3.6/dist-packages (from tensorflow==1.15.2) (3.12.2)\n",
            "Collecting tensorboard<1.16.0,>=1.15.0\n",
            "\u001b[?25l  Downloading https://files.pythonhosted.org/packages/1e/e9/d3d747a97f7188f48aa5eda486907f3b345cd409f0a0850468ba867db246/tensorboard-1.15.0-py3-none-any.whl (3.8MB)\n",
            "\u001b[K     |████████████████████████████████| 3.8MB 44.0MB/s \n",
            "\u001b[?25hRequirement already satisfied: wrapt>=1.11.1 in /usr/local/lib/python3.6/dist-packages (from tensorflow==1.15.2) (1.12.1)\n",
            "Collecting gast==0.2.2\n",
            "  Downloading https://files.pythonhosted.org/packages/4e/35/11749bf99b2d4e3cceb4d55ca22590b0d7c2c62b9de38ac4a4a7f4687421/gast-0.2.2.tar.gz\n",
            "Collecting tensorflow-estimator==1.15.1\n",
            "\u001b[?25l  Downloading https://files.pythonhosted.org/packages/de/62/2ee9cd74c9fa2fa450877847ba560b260f5d0fb70ee0595203082dafcc9d/tensorflow_estimator-1.15.1-py2.py3-none-any.whl (503kB)\n",
            "\u001b[K     |████████████████████████████████| 512kB 34.2MB/s \n",
            "\u001b[?25hRequirement already satisfied: google-pasta>=0.1.6 in /usr/local/lib/python3.6/dist-packages (from tensorflow==1.15.2) (0.2.0)\n",
            "Requirement already satisfied: six>=1.10.0 in /usr/local/lib/python3.6/dist-packages (from tensorflow==1.15.2) (1.15.0)\n",
            "Requirement already satisfied: h5py in /usr/local/lib/python3.6/dist-packages (from keras-applications>=1.0.8->tensorflow==1.15.2) (2.10.0)\n",
            "Requirement already satisfied: setuptools in /usr/local/lib/python3.6/dist-packages (from protobuf>=3.6.1->tensorflow==1.15.2) (49.2.0)\n",
            "Requirement already satisfied: werkzeug>=0.11.15 in /usr/local/lib/python3.6/dist-packages (from tensorboard<1.16.0,>=1.15.0->tensorflow==1.15.2) (1.0.1)\n",
            "Requirement already satisfied: markdown>=2.6.8 in /usr/local/lib/python3.6/dist-packages (from tensorboard<1.16.0,>=1.15.0->tensorflow==1.15.2) (3.2.2)\n",
            "Requirement already satisfied: importlib-metadata; python_version < \"3.8\" in /usr/local/lib/python3.6/dist-packages (from markdown>=2.6.8->tensorboard<1.16.0,>=1.15.0->tensorflow==1.15.2) (1.7.0)\n",
            "Requirement already satisfied: zipp>=0.5 in /usr/local/lib/python3.6/dist-packages (from importlib-metadata; python_version < \"3.8\"->markdown>=2.6.8->tensorboard<1.16.0,>=1.15.0->tensorflow==1.15.2) (3.1.0)\n",
            "Building wheels for collected packages: gast\n",
            "  Building wheel for gast (setup.py) ... \u001b[?25l\u001b[?25hdone\n",
            "  Created wheel for gast: filename=gast-0.2.2-cp36-none-any.whl size=7540 sha256=0bd5e2b823c554a94069ed66595b9e6096e6e28d7e8945f65b77db1530d81165\n",
            "  Stored in directory: /root/.cache/pip/wheels/5c/2e/7e/a1d4d4fcebe6c381f378ce7743a3ced3699feb89bcfbdadadd\n",
            "Successfully built gast\n",
            "\u001b[31mERROR: tensorflow-probability 0.10.0 has requirement gast>=0.3.2, but you'll have gast 0.2.2 which is incompatible.\u001b[0m\n",
            "Installing collected packages: tensorboard, gast, tensorflow-estimator, tensorflow\n",
            "  Found existing installation: tensorboard 2.2.2\n",
            "    Uninstalling tensorboard-2.2.2:\n",
            "      Successfully uninstalled tensorboard-2.2.2\n",
            "  Found existing installation: gast 0.3.3\n",
            "    Uninstalling gast-0.3.3:\n",
            "      Successfully uninstalled gast-0.3.3\n",
            "  Found existing installation: tensorflow-estimator 2.2.0\n",
            "    Uninstalling tensorflow-estimator-2.2.0:\n",
            "      Successfully uninstalled tensorflow-estimator-2.2.0\n",
            "  Found existing installation: tensorflow 2.2.0\n",
            "    Uninstalling tensorflow-2.2.0:\n",
            "      Successfully uninstalled tensorflow-2.2.0\n",
            "Successfully installed gast-0.2.2 tensorboard-1.15.0 tensorflow-1.15.2 tensorflow-estimator-1.15.1\n",
            "Collecting spacy==2.2.3\n",
            "\u001b[?25l  Downloading https://files.pythonhosted.org/packages/47/13/80ad28ef7a16e2a86d16d73e28588be5f1085afd3e85e4b9b912bd700e8a/spacy-2.2.3-cp36-cp36m-manylinux1_x86_64.whl (10.4MB)\n",
            "\u001b[K     |████████████████████████████████| 10.4MB 4.8MB/s \n",
            "\u001b[?25hRequirement already satisfied: blis<0.5.0,>=0.4.0 in /usr/local/lib/python3.6/dist-packages (from spacy==2.2.3) (0.4.1)\n",
            "Collecting thinc<7.4.0,>=7.3.0\n",
            "\u001b[?25l  Downloading https://files.pythonhosted.org/packages/07/59/6bb553bc9a5f072d3cd479fc939fea0f6f682892f1f5cff98de5c9b615bb/thinc-7.3.1-cp36-cp36m-manylinux1_x86_64.whl (2.2MB)\n",
            "\u001b[K     |████████████████████████████████| 2.2MB 39.5MB/s \n",
            "\u001b[?25hRequirement already satisfied: requests<3.0.0,>=2.13.0 in /usr/local/lib/python3.6/dist-packages (from spacy==2.2.3) (2.22.0)\n",
            "Requirement already satisfied: cymem<2.1.0,>=2.0.2 in /usr/local/lib/python3.6/dist-packages (from spacy==2.2.3) (2.0.3)\n",
            "Requirement already satisfied: preshed<3.1.0,>=3.0.2 in /usr/local/lib/python3.6/dist-packages (from spacy==2.2.3) (3.0.2)\n",
            "Requirement already satisfied: catalogue<1.1.0,>=0.0.7 in /usr/local/lib/python3.6/dist-packages (from spacy==2.2.3) (1.0.0)\n",
            "Requirement already satisfied: srsly<1.1.0,>=0.1.0 in /usr/local/lib/python3.6/dist-packages (from spacy==2.2.3) (1.0.2)\n",
            "Requirement already satisfied: wasabi<1.1.0,>=0.4.0 in /usr/local/lib/python3.6/dist-packages (from spacy==2.2.3) (0.7.1)\n",
            "Requirement already satisfied: murmurhash<1.1.0,>=0.28.0 in /usr/local/lib/python3.6/dist-packages (from spacy==2.2.3) (1.0.2)\n",
            "Requirement already satisfied: setuptools in /usr/local/lib/python3.6/dist-packages (from spacy==2.2.3) (49.2.0)\n",
            "Requirement already satisfied: plac<1.2.0,>=0.9.6 in /usr/local/lib/python3.6/dist-packages (from spacy==2.2.3) (1.1.3)\n",
            "Requirement already satisfied: numpy>=1.15.0 in /usr/local/lib/python3.6/dist-packages (from spacy==2.2.3) (1.18.0)\n",
            "Requirement already satisfied: tqdm<5.0.0,>=4.10.0 in /usr/local/lib/python3.6/dist-packages (from thinc<7.4.0,>=7.3.0->spacy==2.2.3) (4.41.1)\n",
            "Requirement already satisfied: chardet<3.1.0,>=3.0.2 in /usr/local/lib/python3.6/dist-packages (from requests<3.0.0,>=2.13.0->spacy==2.2.3) (3.0.4)\n",
            "Requirement already satisfied: urllib3!=1.25.0,!=1.25.1,<1.26,>=1.21.1 in /usr/local/lib/python3.6/dist-packages (from requests<3.0.0,>=2.13.0->spacy==2.2.3) (1.24.3)\n",
            "Requirement already satisfied: idna<2.9,>=2.5 in /usr/local/lib/python3.6/dist-packages (from requests<3.0.0,>=2.13.0->spacy==2.2.3) (2.8)\n",
            "Requirement already satisfied: certifi>=2017.4.17 in /usr/local/lib/python3.6/dist-packages (from requests<3.0.0,>=2.13.0->spacy==2.2.3) (2020.6.20)\n",
            "Requirement already satisfied: importlib-metadata>=0.20; python_version < \"3.8\" in /usr/local/lib/python3.6/dist-packages (from catalogue<1.1.0,>=0.0.7->spacy==2.2.3) (1.7.0)\n",
            "Requirement already satisfied: zipp>=0.5 in /usr/local/lib/python3.6/dist-packages (from importlib-metadata>=0.20; python_version < \"3.8\"->catalogue<1.1.0,>=0.0.7->spacy==2.2.3) (3.1.0)\n",
            "Installing collected packages: thinc, spacy\n",
            "  Found existing installation: thinc 7.4.0\n",
            "    Uninstalling thinc-7.4.0:\n",
            "      Successfully uninstalled thinc-7.4.0\n",
            "  Found existing installation: spacy 2.2.4\n",
            "    Uninstalling spacy-2.2.4:\n",
            "      Successfully uninstalled spacy-2.2.4\n",
            "Successfully installed spacy-2.2.3 thinc-7.3.1\n",
            "Collecting gensim==3.8.1\n",
            "\u001b[?25l  Downloading https://files.pythonhosted.org/packages/d1/dd/112bd4258cee11e0baaaba064060eb156475a42362e59e3ff28e7ca2d29d/gensim-3.8.1-cp36-cp36m-manylinux1_x86_64.whl (24.2MB)\n",
            "\u001b[K     |████████████████████████████████| 24.2MB 1.3MB/s \n",
            "\u001b[?25hRequirement already satisfied: numpy>=1.11.3 in /usr/local/lib/python3.6/dist-packages (from gensim==3.8.1) (1.18.0)\n",
            "Requirement already satisfied: scipy>=0.18.1 in /usr/local/lib/python3.6/dist-packages (from gensim==3.8.1) (1.4.1)\n",
            "Requirement already satisfied: six>=1.5.0 in /usr/local/lib/python3.6/dist-packages (from gensim==3.8.1) (1.15.0)\n",
            "Requirement already satisfied: smart-open>=1.8.1 in /usr/local/lib/python3.6/dist-packages (from gensim==3.8.1) (2.1.0)\n",
            "Requirement already satisfied: requests in /usr/local/lib/python3.6/dist-packages (from smart-open>=1.8.1->gensim==3.8.1) (2.22.0)\n",
            "Requirement already satisfied: boto3 in /usr/local/lib/python3.6/dist-packages (from smart-open>=1.8.1->gensim==3.8.1) (1.14.30)\n",
            "Requirement already satisfied: boto in /usr/local/lib/python3.6/dist-packages (from smart-open>=1.8.1->gensim==3.8.1) (2.49.0)\n",
            "Requirement already satisfied: certifi>=2017.4.17 in /usr/local/lib/python3.6/dist-packages (from requests->smart-open>=1.8.1->gensim==3.8.1) (2020.6.20)\n",
            "Requirement already satisfied: idna<2.9,>=2.5 in /usr/local/lib/python3.6/dist-packages (from requests->smart-open>=1.8.1->gensim==3.8.1) (2.8)\n",
            "Requirement already satisfied: urllib3!=1.25.0,!=1.25.1,<1.26,>=1.21.1 in /usr/local/lib/python3.6/dist-packages (from requests->smart-open>=1.8.1->gensim==3.8.1) (1.24.3)\n",
            "Requirement already satisfied: chardet<3.1.0,>=3.0.2 in /usr/local/lib/python3.6/dist-packages (from requests->smart-open>=1.8.1->gensim==3.8.1) (3.0.4)\n",
            "Requirement already satisfied: s3transfer<0.4.0,>=0.3.0 in /usr/local/lib/python3.6/dist-packages (from boto3->smart-open>=1.8.1->gensim==3.8.1) (0.3.3)\n",
            "Requirement already satisfied: botocore<1.18.0,>=1.17.30 in /usr/local/lib/python3.6/dist-packages (from boto3->smart-open>=1.8.1->gensim==3.8.1) (1.17.30)\n",
            "Requirement already satisfied: jmespath<1.0.0,>=0.7.1 in /usr/local/lib/python3.6/dist-packages (from boto3->smart-open>=1.8.1->gensim==3.8.1) (0.10.0)\n",
            "Requirement already satisfied: docutils<0.16,>=0.10 in /usr/local/lib/python3.6/dist-packages (from botocore<1.18.0,>=1.17.30->boto3->smart-open>=1.8.1->gensim==3.8.1) (0.15.2)\n",
            "Requirement already satisfied: python-dateutil<3.0.0,>=2.1 in /usr/local/lib/python3.6/dist-packages (from botocore<1.18.0,>=1.17.30->boto3->smart-open>=1.8.1->gensim==3.8.1) (2.8.1)\n",
            "Installing collected packages: gensim\n",
            "  Found existing installation: gensim 3.6.0\n",
            "    Uninstalling gensim-3.6.0:\n",
            "      Successfully uninstalled gensim-3.6.0\n",
            "Successfully installed gensim-3.8.1\n"
          ],
          "name": "stdout"
        }
      ]
    },
    {
      "cell_type": "markdown",
      "metadata": {
        "id": "yGxtOE-fXiUN",
        "colab_type": "text"
      },
      "source": [
        "Define the path to our DSL-based configuration files above (the folder we are in right now) and the folder used to store the trained bot."
      ]
    },
    {
      "cell_type": "code",
      "metadata": {
        "id": "lcC7aDfk6iiM",
        "colab_type": "code",
        "colab": {}
      },
      "source": [
        "\n",
        "from deeppavlov import configs\n",
        "from deeppavlov.core.common.file import read_json\n",
        "\n",
        "\n",
        "gobot_config = read_json(configs.go_bot.gobot_md_yaml_minimal)\n",
        "\n",
        "gobot_config['metadata']['variables']['DATA_PATH'] = '.'\n",
        "gobot_config['metadata']['variables']['MODEL_PATH'] = '.'"
      ],
      "execution_count": 7,
      "outputs": []
    },
    {
      "cell_type": "markdown",
      "metadata": {
        "id": "NOenbeUvXwW-",
        "colab_type": "text"
      },
      "source": [
        "Since our data is basically the mock tutorial data we will use the same subsamples for all of train, test and valid subsamples. \n",
        "\n",
        "However, for a real system you should use different train, test, and valid sample stories.md files."
      ]
    },
    {
      "cell_type": "code",
      "metadata": {
        "id": "reCVX2Mz7W8Y",
        "colab_type": "code",
        "colab": {}
      },
      "source": [
        "!cp stories.md stories-trn.md\n",
        "!cp stories.md stories-tst.md \n",
        "!cp stories.md stories-val.md "
      ],
      "execution_count": 8,
      "outputs": []
    },
    {
      "cell_type": "markdown",
      "metadata": {
        "id": "vjPL3dqzYj3B",
        "colab_type": "text"
      },
      "source": [
        "The next step is to train the bot:"
      ]
    },
    {
      "cell_type": "code",
      "metadata": {
        "id": "qS6hIi9m7Sev",
        "colab_type": "code",
        "colab": {
          "base_uri": "https://localhost:8080/",
          "height": 1000
        },
        "outputId": "639ce465-0a5b-4ee9-c2b7-1fcf039712ee"
      },
      "source": [
        "from deeppavlov import train_model\n",
        "\n",
        "train_model(gobot_config, download=True)"
      ],
      "execution_count": 9,
      "outputs": [
        {
          "output_type": "stream",
          "text": [
            "2020-08-03 14:28:50.38 INFO in 'deeppavlov.core.data.utils'['utils'] at line 94: Downloading from http://files.deeppavlov.ai/datasets/gobot_md_yaml_minimal.tar.gz to /content/gobot_md_yaml_minimal.tar.gz\n",
            "100%|██████████| 528/528 [00:00<00:00, 1.19MB/s]\n",
            "2020-08-03 14:28:50.402 INFO in 'deeppavlov.core.data.utils'['utils'] at line 269: Extracting /content/gobot_md_yaml_minimal.tar.gz archive into /content/dp_minimal_demo_dir\n",
            "2020-08-03 14:28:50.770 INFO in 'deeppavlov.core.data.utils'['utils'] at line 94: Downloading from http://files.deeppavlov.ai/embeddings/glove.6B.100d.txt to /root/.deeppavlov/downloads/embeddings/glove.6B.100d.txt\n",
            "347MB [01:31, 3.79MB/s]\n",
            "2020-08-03 14:30:22.758 DEBUG in 'deeppavlov.dataset_readers.md_yaml_dialogs_reader'['md_yaml_dialogs_reader'] at line 217: BEFORE MLU_MD_DialogsDatasetReader._read_story(): story_fpath=/content/dp_minimal_demo_dir/stories-trn.md, dialogs=False, domain_knowledge=<deeppavlov.dataset_readers.md_yaml_dialogs_reader.DomainKnowledge object at 0x7f918f9b33c8>, intent2slots2text={'greet': {(): [{'text': 'Hi', 'slots': []}, {'text': 'Hey', 'slots': []}, {'text': 'Hi bot', 'slots': []}, {'text': 'Hey bot', 'slots': []}, {'text': 'Hello', 'slots': []}, {'text': 'Good morning', 'slots': []}, {'text': 'hi again', 'slots': []}, {'text': 'hi folks', 'slots': []}]}, 'bye': {(): [{'text': 'goodbye', 'slots': []}, {'text': 'goodnight', 'slots': []}, {'text': 'good bye', 'slots': []}, {'text': 'good night', 'slots': []}, {'text': 'see ya', 'slots': []}, {'text': 'toodle-oo', 'slots': []}, {'text': 'bye bye', 'slots': []}, {'text': 'gotta go', 'slots': []}, {'text': 'farewell', 'slots': []}]}, 'thank': {(): [{'text': 'Thanks', 'slots': []}, {'text': 'Thank you', 'slots': []}, {'text': 'Thank you so much', 'slots': []}, {'text': 'Thanks bot', 'slots': []}, {'text': 'Thanks for that', 'slots': []}, {'text': 'cheers', 'slots': []}]}}, slot_name2text2value={}\n",
            "2020-08-03 14:30:22.762 INFO in 'deeppavlov.dataset_readers.dstc2_reader'['dstc2_reader'] at line 112: [loading dialogs from /tmp/tmpdq7fhjpi]\n",
            "2020-08-03 14:30:22.763 DEBUG in 'deeppavlov.dataset_readers.md_yaml_dialogs_reader'['md_yaml_dialogs_reader'] at line 306: AFTER MLU_MD_DialogsDatasetReader._read_story(): story_fpath=/content/dp_minimal_demo_dir/stories-trn.md, dialogs=False, domain_knowledge=<deeppavlov.dataset_readers.md_yaml_dialogs_reader.DomainKnowledge object at 0x7f918f9b33c8>, intent2slots2text={'greet': {(): [{'text': 'Hi', 'slots': []}, {'text': 'Hey', 'slots': []}, {'text': 'Hi bot', 'slots': []}, {'text': 'Hey bot', 'slots': []}, {'text': 'Hello', 'slots': []}, {'text': 'Good morning', 'slots': []}, {'text': 'hi again', 'slots': []}, {'text': 'hi folks', 'slots': []}]}, 'bye': {(): [{'text': 'goodbye', 'slots': []}, {'text': 'goodnight', 'slots': []}, {'text': 'good bye', 'slots': []}, {'text': 'good night', 'slots': []}, {'text': 'see ya', 'slots': []}, {'text': 'toodle-oo', 'slots': []}, {'text': 'bye bye', 'slots': []}, {'text': 'gotta go', 'slots': []}, {'text': 'farewell', 'slots': []}]}, 'thank': {(): [{'text': 'Thanks', 'slots': []}, {'text': 'Thank you', 'slots': []}, {'text': 'Thank you so much', 'slots': []}, {'text': 'Thanks bot', 'slots': []}, {'text': 'Thanks for that', 'slots': []}, {'text': 'cheers', 'slots': []}]}}, slot_name2text2value={}\n",
            "2020-08-03 14:30:22.764 DEBUG in 'deeppavlov.dataset_readers.md_yaml_dialogs_reader'['md_yaml_dialogs_reader'] at line 217: BEFORE MLU_MD_DialogsDatasetReader._read_story(): story_fpath=/content/dp_minimal_demo_dir/stories-val.md, dialogs=False, domain_knowledge=<deeppavlov.dataset_readers.md_yaml_dialogs_reader.DomainKnowledge object at 0x7f918f9b33c8>, intent2slots2text={'greet': {(): [{'text': 'Hi', 'slots': []}, {'text': 'Hey', 'slots': []}, {'text': 'Hi bot', 'slots': []}, {'text': 'Hey bot', 'slots': []}, {'text': 'Hello', 'slots': []}, {'text': 'Good morning', 'slots': []}, {'text': 'hi again', 'slots': []}, {'text': 'hi folks', 'slots': []}]}, 'bye': {(): [{'text': 'goodbye', 'slots': []}, {'text': 'goodnight', 'slots': []}, {'text': 'good bye', 'slots': []}, {'text': 'good night', 'slots': []}, {'text': 'see ya', 'slots': []}, {'text': 'toodle-oo', 'slots': []}, {'text': 'bye bye', 'slots': []}, {'text': 'gotta go', 'slots': []}, {'text': 'farewell', 'slots': []}]}, 'thank': {(): [{'text': 'Thanks', 'slots': []}, {'text': 'Thank you', 'slots': []}, {'text': 'Thank you so much', 'slots': []}, {'text': 'Thanks bot', 'slots': []}, {'text': 'Thanks for that', 'slots': []}, {'text': 'cheers', 'slots': []}]}}, slot_name2text2value={}\n",
            "2020-08-03 14:30:22.768 INFO in 'deeppavlov.dataset_readers.dstc2_reader'['dstc2_reader'] at line 112: [loading dialogs from /tmp/tmpxz9maboa]\n",
            "2020-08-03 14:30:22.770 DEBUG in 'deeppavlov.dataset_readers.md_yaml_dialogs_reader'['md_yaml_dialogs_reader'] at line 306: AFTER MLU_MD_DialogsDatasetReader._read_story(): story_fpath=/content/dp_minimal_demo_dir/stories-val.md, dialogs=False, domain_knowledge=<deeppavlov.dataset_readers.md_yaml_dialogs_reader.DomainKnowledge object at 0x7f918f9b33c8>, intent2slots2text={'greet': {(): [{'text': 'Hi', 'slots': []}, {'text': 'Hey', 'slots': []}, {'text': 'Hi bot', 'slots': []}, {'text': 'Hey bot', 'slots': []}, {'text': 'Hello', 'slots': []}, {'text': 'Good morning', 'slots': []}, {'text': 'hi again', 'slots': []}, {'text': 'hi folks', 'slots': []}]}, 'bye': {(): [{'text': 'goodbye', 'slots': []}, {'text': 'goodnight', 'slots': []}, {'text': 'good bye', 'slots': []}, {'text': 'good night', 'slots': []}, {'text': 'see ya', 'slots': []}, {'text': 'toodle-oo', 'slots': []}, {'text': 'bye bye', 'slots': []}, {'text': 'gotta go', 'slots': []}, {'text': 'farewell', 'slots': []}]}, 'thank': {(): [{'text': 'Thanks', 'slots': []}, {'text': 'Thank you', 'slots': []}, {'text': 'Thank you so much', 'slots': []}, {'text': 'Thanks bot', 'slots': []}, {'text': 'Thanks for that', 'slots': []}, {'text': 'cheers', 'slots': []}]}}, slot_name2text2value={}\n",
            "2020-08-03 14:30:22.771 DEBUG in 'deeppavlov.dataset_readers.md_yaml_dialogs_reader'['md_yaml_dialogs_reader'] at line 217: BEFORE MLU_MD_DialogsDatasetReader._read_story(): story_fpath=/content/dp_minimal_demo_dir/stories-tst.md, dialogs=False, domain_knowledge=<deeppavlov.dataset_readers.md_yaml_dialogs_reader.DomainKnowledge object at 0x7f918f9b33c8>, intent2slots2text={'greet': {(): [{'text': 'Hi', 'slots': []}, {'text': 'Hey', 'slots': []}, {'text': 'Hi bot', 'slots': []}, {'text': 'Hey bot', 'slots': []}, {'text': 'Hello', 'slots': []}, {'text': 'Good morning', 'slots': []}, {'text': 'hi again', 'slots': []}, {'text': 'hi folks', 'slots': []}]}, 'bye': {(): [{'text': 'goodbye', 'slots': []}, {'text': 'goodnight', 'slots': []}, {'text': 'good bye', 'slots': []}, {'text': 'good night', 'slots': []}, {'text': 'see ya', 'slots': []}, {'text': 'toodle-oo', 'slots': []}, {'text': 'bye bye', 'slots': []}, {'text': 'gotta go', 'slots': []}, {'text': 'farewell', 'slots': []}]}, 'thank': {(): [{'text': 'Thanks', 'slots': []}, {'text': 'Thank you', 'slots': []}, {'text': 'Thank you so much', 'slots': []}, {'text': 'Thanks bot', 'slots': []}, {'text': 'Thanks for that', 'slots': []}, {'text': 'cheers', 'slots': []}]}}, slot_name2text2value={}\n",
            "2020-08-03 14:30:22.773 INFO in 'deeppavlov.dataset_readers.dstc2_reader'['dstc2_reader'] at line 112: [loading dialogs from /tmp/tmp6yihkrat]\n",
            "2020-08-03 14:30:22.774 DEBUG in 'deeppavlov.dataset_readers.md_yaml_dialogs_reader'['md_yaml_dialogs_reader'] at line 306: AFTER MLU_MD_DialogsDatasetReader._read_story(): story_fpath=/content/dp_minimal_demo_dir/stories-tst.md, dialogs=False, domain_knowledge=<deeppavlov.dataset_readers.md_yaml_dialogs_reader.DomainKnowledge object at 0x7f918f9b33c8>, intent2slots2text={'greet': {(): [{'text': 'Hi', 'slots': []}, {'text': 'Hey', 'slots': []}, {'text': 'Hi bot', 'slots': []}, {'text': 'Hey bot', 'slots': []}, {'text': 'Hello', 'slots': []}, {'text': 'Good morning', 'slots': []}, {'text': 'hi again', 'slots': []}, {'text': 'hi folks', 'slots': []}]}, 'bye': {(): [{'text': 'goodbye', 'slots': []}, {'text': 'goodnight', 'slots': []}, {'text': 'good bye', 'slots': []}, {'text': 'good night', 'slots': []}, {'text': 'see ya', 'slots': []}, {'text': 'toodle-oo', 'slots': []}, {'text': 'bye bye', 'slots': []}, {'text': 'gotta go', 'slots': []}, {'text': 'farewell', 'slots': []}]}, 'thank': {(): [{'text': 'Thanks', 'slots': []}, {'text': 'Thank you', 'slots': []}, {'text': 'Thank you so much', 'slots': []}, {'text': 'Thanks bot', 'slots': []}, {'text': 'Thanks for that', 'slots': []}, {'text': 'cheers', 'slots': []}]}}, slot_name2text2value={}\n",
            "[nltk_data] Downloading package punkt to /root/nltk_data...\n",
            "[nltk_data]   Unzipping tokenizers/punkt.zip.\n",
            "[nltk_data] Downloading package stopwords to /root/nltk_data...\n",
            "[nltk_data]   Unzipping corpora/stopwords.zip.\n",
            "[nltk_data] Downloading package perluniprops to /root/nltk_data...\n",
            "[nltk_data]   Unzipping misc/perluniprops.zip.\n",
            "[nltk_data] Downloading package nonbreaking_prefixes to\n",
            "[nltk_data]     /root/nltk_data...\n",
            "[nltk_data]   Unzipping corpora/nonbreaking_prefixes.zip.\n",
            "2020-08-03 14:30:24.580 INFO in 'deeppavlov.core.data.simple_vocab'['simple_vocab'] at line 101: [saving vocabulary to /content/dp_minimal_demo_dir/word.dict]\n"
          ],
          "name": "stderr"
        },
        {
          "output_type": "stream",
          "text": [
            "WARNING:tensorflow:From /usr/local/lib/python3.6/dist-packages/deeppavlov/core/models/tf_model.py:37: The name tf.Session is deprecated. Please use tf.compat.v1.Session instead.\n",
            "\n",
            "WARNING:tensorflow:From /usr/local/lib/python3.6/dist-packages/deeppavlov/core/models/tf_model.py:222: The name tf.placeholder is deprecated. Please use tf.compat.v1.placeholder instead.\n",
            "\n",
            "WARNING:tensorflow:From /usr/local/lib/python3.6/dist-packages/deeppavlov/core/models/tf_model.py:222: The name tf.train.Optimizer is deprecated. Please use tf.compat.v1.train.Optimizer instead.\n",
            "\n"
          ],
          "name": "stdout"
        },
        {
          "output_type": "stream",
          "text": [
            "2020-08-03 14:30:26.700 DEBUG in 'deeppavlov.dataset_readers.md_yaml_dialogs_reader'['md_yaml_dialogs_reader'] at line 217: BEFORE MLU_MD_DialogsDatasetReader._read_story(): story_fpath=/content/dp_minimal_demo_dir/stories-trn.md, dialogs=True, domain_knowledge=<deeppavlov.dataset_readers.md_yaml_dialogs_reader.DomainKnowledge object at 0x7f9151db5f98>, intent2slots2text={'greet': {(): [{'text': 'Hi', 'slots': []}, {'text': 'Hey', 'slots': []}, {'text': 'Hi bot', 'slots': []}, {'text': 'Hey bot', 'slots': []}, {'text': 'Hello', 'slots': []}, {'text': 'Good morning', 'slots': []}, {'text': 'hi again', 'slots': []}, {'text': 'hi folks', 'slots': []}]}, 'bye': {(): [{'text': 'goodbye', 'slots': []}, {'text': 'goodnight', 'slots': []}, {'text': 'good bye', 'slots': []}, {'text': 'good night', 'slots': []}, {'text': 'see ya', 'slots': []}, {'text': 'toodle-oo', 'slots': []}, {'text': 'bye bye', 'slots': []}, {'text': 'gotta go', 'slots': []}, {'text': 'farewell', 'slots': []}]}, 'thank': {(): [{'text': 'Thanks', 'slots': []}, {'text': 'Thank you', 'slots': []}, {'text': 'Thank you so much', 'slots': []}, {'text': 'Thanks bot', 'slots': []}, {'text': 'Thanks for that', 'slots': []}, {'text': 'cheers', 'slots': []}]}}, slot_name2text2value={}\n",
            "2020-08-03 14:30:26.703 INFO in 'deeppavlov.dataset_readers.dstc2_reader'['dstc2_reader'] at line 112: [loading dialogs from /tmp/tmp7b9izigi]\n",
            "2020-08-03 14:30:26.704 DEBUG in 'deeppavlov.dataset_readers.md_yaml_dialogs_reader'['md_yaml_dialogs_reader'] at line 306: AFTER MLU_MD_DialogsDatasetReader._read_story(): story_fpath=/content/dp_minimal_demo_dir/stories-trn.md, dialogs=True, domain_knowledge=<deeppavlov.dataset_readers.md_yaml_dialogs_reader.DomainKnowledge object at 0x7f9151db5f98>, intent2slots2text={'greet': {(): [{'text': 'Hi', 'slots': []}, {'text': 'Hey', 'slots': []}, {'text': 'Hi bot', 'slots': []}, {'text': 'Hey bot', 'slots': []}, {'text': 'Hello', 'slots': []}, {'text': 'Good morning', 'slots': []}, {'text': 'hi again', 'slots': []}, {'text': 'hi folks', 'slots': []}]}, 'bye': {(): [{'text': 'goodbye', 'slots': []}, {'text': 'goodnight', 'slots': []}, {'text': 'good bye', 'slots': []}, {'text': 'good night', 'slots': []}, {'text': 'see ya', 'slots': []}, {'text': 'toodle-oo', 'slots': []}, {'text': 'bye bye', 'slots': []}, {'text': 'gotta go', 'slots': []}, {'text': 'farewell', 'slots': []}]}, 'thank': {(): [{'text': 'Thanks', 'slots': []}, {'text': 'Thank you', 'slots': []}, {'text': 'Thank you so much', 'slots': []}, {'text': 'Thanks bot', 'slots': []}, {'text': 'Thanks for that', 'slots': []}, {'text': 'cheers', 'slots': []}]}}, slot_name2text2value={}\n",
            "2020-08-03 14:30:26.705 DEBUG in 'deeppavlov.dataset_readers.md_yaml_dialogs_reader'['md_yaml_dialogs_reader'] at line 217: BEFORE MLU_MD_DialogsDatasetReader._read_story(): story_fpath=/content/dp_minimal_demo_dir/stories-val.md, dialogs=True, domain_knowledge=<deeppavlov.dataset_readers.md_yaml_dialogs_reader.DomainKnowledge object at 0x7f9151db5f98>, intent2slots2text={'greet': {(): [{'text': 'Hi', 'slots': []}, {'text': 'Hey', 'slots': []}, {'text': 'Hi bot', 'slots': []}, {'text': 'Hey bot', 'slots': []}, {'text': 'Hello', 'slots': []}, {'text': 'Good morning', 'slots': []}, {'text': 'hi again', 'slots': []}, {'text': 'hi folks', 'slots': []}]}, 'bye': {(): [{'text': 'goodbye', 'slots': []}, {'text': 'goodnight', 'slots': []}, {'text': 'good bye', 'slots': []}, {'text': 'good night', 'slots': []}, {'text': 'see ya', 'slots': []}, {'text': 'toodle-oo', 'slots': []}, {'text': 'bye bye', 'slots': []}, {'text': 'gotta go', 'slots': []}, {'text': 'farewell', 'slots': []}]}, 'thank': {(): [{'text': 'Thanks', 'slots': []}, {'text': 'Thank you', 'slots': []}, {'text': 'Thank you so much', 'slots': []}, {'text': 'Thanks bot', 'slots': []}, {'text': 'Thanks for that', 'slots': []}, {'text': 'cheers', 'slots': []}]}}, slot_name2text2value={}\n",
            "2020-08-03 14:30:26.707 INFO in 'deeppavlov.dataset_readers.dstc2_reader'['dstc2_reader'] at line 112: [loading dialogs from /tmp/tmpb_fsxx9k]\n",
            "2020-08-03 14:30:26.708 DEBUG in 'deeppavlov.dataset_readers.md_yaml_dialogs_reader'['md_yaml_dialogs_reader'] at line 306: AFTER MLU_MD_DialogsDatasetReader._read_story(): story_fpath=/content/dp_minimal_demo_dir/stories-val.md, dialogs=True, domain_knowledge=<deeppavlov.dataset_readers.md_yaml_dialogs_reader.DomainKnowledge object at 0x7f9151db5f98>, intent2slots2text={'greet': {(): [{'text': 'Hi', 'slots': []}, {'text': 'Hey', 'slots': []}, {'text': 'Hi bot', 'slots': []}, {'text': 'Hey bot', 'slots': []}, {'text': 'Hello', 'slots': []}, {'text': 'Good morning', 'slots': []}, {'text': 'hi again', 'slots': []}, {'text': 'hi folks', 'slots': []}]}, 'bye': {(): [{'text': 'goodbye', 'slots': []}, {'text': 'goodnight', 'slots': []}, {'text': 'good bye', 'slots': []}, {'text': 'good night', 'slots': []}, {'text': 'see ya', 'slots': []}, {'text': 'toodle-oo', 'slots': []}, {'text': 'bye bye', 'slots': []}, {'text': 'gotta go', 'slots': []}, {'text': 'farewell', 'slots': []}]}, 'thank': {(): [{'text': 'Thanks', 'slots': []}, {'text': 'Thank you', 'slots': []}, {'text': 'Thank you so much', 'slots': []}, {'text': 'Thanks bot', 'slots': []}, {'text': 'Thanks for that', 'slots': []}, {'text': 'cheers', 'slots': []}]}}, slot_name2text2value={}\n",
            "2020-08-03 14:30:26.709 DEBUG in 'deeppavlov.dataset_readers.md_yaml_dialogs_reader'['md_yaml_dialogs_reader'] at line 217: BEFORE MLU_MD_DialogsDatasetReader._read_story(): story_fpath=/content/dp_minimal_demo_dir/stories-tst.md, dialogs=True, domain_knowledge=<deeppavlov.dataset_readers.md_yaml_dialogs_reader.DomainKnowledge object at 0x7f9151db5f98>, intent2slots2text={'greet': {(): [{'text': 'Hi', 'slots': []}, {'text': 'Hey', 'slots': []}, {'text': 'Hi bot', 'slots': []}, {'text': 'Hey bot', 'slots': []}, {'text': 'Hello', 'slots': []}, {'text': 'Good morning', 'slots': []}, {'text': 'hi again', 'slots': []}, {'text': 'hi folks', 'slots': []}]}, 'bye': {(): [{'text': 'goodbye', 'slots': []}, {'text': 'goodnight', 'slots': []}, {'text': 'good bye', 'slots': []}, {'text': 'good night', 'slots': []}, {'text': 'see ya', 'slots': []}, {'text': 'toodle-oo', 'slots': []}, {'text': 'bye bye', 'slots': []}, {'text': 'gotta go', 'slots': []}, {'text': 'farewell', 'slots': []}]}, 'thank': {(): [{'text': 'Thanks', 'slots': []}, {'text': 'Thank you', 'slots': []}, {'text': 'Thank you so much', 'slots': []}, {'text': 'Thanks bot', 'slots': []}, {'text': 'Thanks for that', 'slots': []}, {'text': 'cheers', 'slots': []}]}}, slot_name2text2value={}\n",
            "2020-08-03 14:30:26.711 INFO in 'deeppavlov.dataset_readers.dstc2_reader'['dstc2_reader'] at line 112: [loading dialogs from /tmp/tmpb1gb20me]\n",
            "2020-08-03 14:30:26.712 DEBUG in 'deeppavlov.dataset_readers.md_yaml_dialogs_reader'['md_yaml_dialogs_reader'] at line 306: AFTER MLU_MD_DialogsDatasetReader._read_story(): story_fpath=/content/dp_minimal_demo_dir/stories-tst.md, dialogs=True, domain_knowledge=<deeppavlov.dataset_readers.md_yaml_dialogs_reader.DomainKnowledge object at 0x7f9151db5f98>, intent2slots2text={'greet': {(): [{'text': 'Hi', 'slots': []}, {'text': 'Hey', 'slots': []}, {'text': 'Hi bot', 'slots': []}, {'text': 'Hey bot', 'slots': []}, {'text': 'Hello', 'slots': []}, {'text': 'Good morning', 'slots': []}, {'text': 'hi again', 'slots': []}, {'text': 'hi folks', 'slots': []}]}, 'bye': {(): [{'text': 'goodbye', 'slots': []}, {'text': 'goodnight', 'slots': []}, {'text': 'good bye', 'slots': []}, {'text': 'good night', 'slots': []}, {'text': 'see ya', 'slots': []}, {'text': 'toodle-oo', 'slots': []}, {'text': 'bye bye', 'slots': []}, {'text': 'gotta go', 'slots': []}, {'text': 'farewell', 'slots': []}]}, 'thank': {(): [{'text': 'Thanks', 'slots': []}, {'text': 'Thank you', 'slots': []}, {'text': 'Thank you so much', 'slots': []}, {'text': 'Thanks bot', 'slots': []}, {'text': 'Thanks for that', 'slots': []}, {'text': 'cheers', 'slots': []}]}}, slot_name2text2value={}\n",
            "2020-08-03 14:30:26.833 INFO in 'deeppavlov.models.embedders.glove_embedder'['glove_embedder'] at line 52: [loading GloVe embeddings from `/root/.deeppavlov/downloads/embeddings/glove.6B.100d.txt`]\n"
          ],
          "name": "stderr"
        },
        {
          "output_type": "stream",
          "text": [
            "WARNING:tensorflow:From /usr/local/lib/python3.6/dist-packages/deeppavlov/core/common/registry.py:40: The name tf.train.AdamOptimizer is deprecated. Please use tf.compat.v1.train.AdamOptimizer instead.\n",
            "\n",
            "WARNING:tensorflow:From /usr/local/lib/python3.6/dist-packages/deeppavlov/core/models/tf_model.py:194: The name tf.train.Optimizer is deprecated. Please use tf.compat.v1.train.Optimizer instead.\n",
            "\n",
            "WARNING:tensorflow:From /usr/local/lib/python3.6/dist-packages/deeppavlov/models/go_bot/policy/policy_network.py:250: The name tf.placeholder_with_default is deprecated. Please use tf.compat.v1.placeholder_with_default instead.\n",
            "\n",
            "WARNING:tensorflow:From /usr/local/lib/python3.6/dist-packages/deeppavlov/models/go_bot/policy/policy_network.py:265: The name tf.nn.rnn_cell.LSTMStateTuple is deprecated. Please use tf.compat.v1.nn.rnn_cell.LSTMStateTuple instead.\n",
            "\n",
            "WARNING:tensorflow:From /usr/local/lib/python3.6/dist-packages/deeppavlov/models/go_bot/policy/policy_network.py:276: dense (from tensorflow.python.layers.core) is deprecated and will be removed in a future version.\n",
            "Instructions for updating:\n",
            "Use keras.layers.Dense instead.\n",
            "WARNING:tensorflow:From /usr/local/lib/python3.6/dist-packages/tensorflow_core/python/layers/core.py:187: Layer.apply (from tensorflow.python.keras.engine.base_layer) is deprecated and will be removed in a future version.\n",
            "Instructions for updating:\n",
            "Please use `layer.__call__` method instead.\n",
            "WARNING:tensorflow:From /usr/local/lib/python3.6/dist-packages/deeppavlov/models/go_bot/policy/policy_network.py:285: LSTMCell.__init__ (from tensorflow.python.ops.rnn_cell_impl) is deprecated and will be removed in a future version.\n",
            "Instructions for updating:\n",
            "This class is equivalent as tf.keras.layers.LSTMCell, and will be replaced by that in Tensorflow 2.0.\n",
            "WARNING:tensorflow:From /usr/local/lib/python3.6/dist-packages/deeppavlov/models/go_bot/policy/policy_network.py:292: dynamic_rnn (from tensorflow.python.ops.rnn) is deprecated and will be removed in a future version.\n",
            "Instructions for updating:\n",
            "Please use `keras.layers.RNN(cell)`, which is equivalent to this API\n",
            "WARNING:tensorflow:From /usr/local/lib/python3.6/dist-packages/tensorflow_core/python/ops/rnn_cell_impl.py:958: Layer.add_variable (from tensorflow.python.keras.engine.base_layer) is deprecated and will be removed in a future version.\n",
            "Instructions for updating:\n",
            "Please use `layer.add_weight` method instead.\n",
            "WARNING:tensorflow:From /usr/local/lib/python3.6/dist-packages/tensorflow_core/python/ops/rnn_cell_impl.py:962: calling Zeros.__init__ (from tensorflow.python.ops.init_ops) with dtype is deprecated and will be removed in a future version.\n",
            "Instructions for updating:\n",
            "Call initializer instance with the dtype argument instead of passing it to the constructor\n",
            "WARNING:tensorflow:From /usr/local/lib/python3.6/dist-packages/tensorflow_core/python/ops/rnn.py:244: where (from tensorflow.python.ops.array_ops) is deprecated and will be removed in a future version.\n",
            "Instructions for updating:\n",
            "Use tf.where in 2.0, which has the same broadcast rule as np.where\n",
            "WARNING:tensorflow:From /usr/local/lib/python3.6/dist-packages/deeppavlov/models/go_bot/policy/policy_network.py:246: The name tf.losses.get_regularization_loss is deprecated. Please use tf.compat.v1.losses.get_regularization_loss instead.\n",
            "\n",
            "WARNING:tensorflow:From /usr/local/lib/python3.6/dist-packages/deeppavlov/core/models/tf_model.py:122: The name tf.variable_scope is deprecated. Please use tf.compat.v1.variable_scope instead.\n",
            "\n",
            "WARNING:tensorflow:From /usr/local/lib/python3.6/dist-packages/deeppavlov/core/models/tf_model.py:127: The name tf.get_collection is deprecated. Please use tf.compat.v1.get_collection instead.\n",
            "\n",
            "WARNING:tensorflow:From /usr/local/lib/python3.6/dist-packages/deeppavlov/core/models/tf_model.py:127: The name tf.GraphKeys is deprecated. Please use tf.compat.v1.GraphKeys instead.\n",
            "\n",
            "WARNING:tensorflow:From /usr/local/lib/python3.6/dist-packages/tensorflow_core/python/ops/variables.py:2825: Variable.initialized_value (from tensorflow.python.ops.variables) is deprecated and will be removed in a future version.\n",
            "Instructions for updating:\n",
            "Use Variable.read_value. Variables in 2.X are initialized automatically both in eager and graph (inside tf.defun) contexts.\n",
            "WARNING:tensorflow:From /usr/local/lib/python3.6/dist-packages/deeppavlov/models/go_bot/policy/policy_network.py:79: The name tf.global_variables_initializer is deprecated. Please use tf.compat.v1.global_variables_initializer instead.\n",
            "\n",
            "WARNING:tensorflow:From /usr/local/lib/python3.6/dist-packages/deeppavlov/models/go_bot/policy/policy_network.py:335: checkpoint_exists (from tensorflow.python.training.checkpoint_management) is deprecated and will be removed in a future version.\n",
            "Instructions for updating:\n",
            "Use standard file APIs to check for files with this prefix.\n"
          ],
          "name": "stdout"
        },
        {
          "output_type": "stream",
          "text": [
            "2020-08-03 14:31:05.99 INFO in 'deeppavlov.models.go_bot.policy.policy_network'['policy_network'] at line 89: INSIDE PolicyNetwork init(). Initializing PolicyNetwork from scratch.\n",
            "2020-08-03 14:31:05.187 INFO in 'deeppavlov.core.trainers.nn_trainer'['nn_trainer'] at line 198: Initial best per_item_action_accuracy of 0.3333\n"
          ],
          "name": "stderr"
        },
        {
          "output_type": "stream",
          "text": [
            "{\"valid\": {\"eval_examples_count\": 3, \"metrics\": {\"per_item_action_accuracy\": 0.3333}, \"time_spent\": \"0:00:01\", \"epochs_done\": 0, \"batches_seen\": 0, \"train_examples_seen\": 0, \"impatience\": 0, \"patience_limit\": 10}}\n"
          ],
          "name": "stdout"
        },
        {
          "output_type": "stream",
          "text": [
            "2020-08-03 14:31:05.571 INFO in 'deeppavlov.core.trainers.nn_trainer'['nn_trainer'] at line 206: Improved best per_item_action_accuracy of 1.0\n",
            "2020-08-03 14:31:05.573 INFO in 'deeppavlov.core.trainers.nn_trainer'['nn_trainer'] at line 208: Saving model\n",
            "2020-08-03 14:31:05.574 INFO in 'deeppavlov.core.models.tf_model'['tf_model'] at line 75: [saving model to /content/dp_minimal_demo_dir/model/policy]\n"
          ],
          "name": "stderr"
        },
        {
          "output_type": "stream",
          "text": [
            "{\"train\": {\"eval_examples_count\": 3, \"metrics\": {\"per_item_action_accuracy\": 1.0}, \"time_spent\": \"0:00:01\", \"epochs_done\": 14, \"batches_seen\": 15, \"train_examples_seen\": 45, \"learning_rate\": 0.003, \"momentum\": 0.95, \"loss\": 0.5383267740408579}}\n",
            "WARNING:tensorflow:From /usr/local/lib/python3.6/dist-packages/deeppavlov/core/models/tf_model.py:77: The name tf.train.Saver is deprecated. Please use tf.compat.v1.train.Saver instead.\n",
            "\n",
            "{\"valid\": {\"eval_examples_count\": 3, \"metrics\": {\"per_item_action_accuracy\": 1.0}, \"time_spent\": \"0:00:01\", \"epochs_done\": 14, \"batches_seen\": 15, \"train_examples_seen\": 45, \"impatience\": 0, \"patience_limit\": 10}}\n"
          ],
          "name": "stdout"
        },
        {
          "output_type": "stream",
          "text": [
            "2020-08-03 14:31:05.850 INFO in 'deeppavlov.core.trainers.nn_trainer'['nn_trainer'] at line 211: Did not improve on the per_item_action_accuracy of 1.0\n"
          ],
          "name": "stderr"
        },
        {
          "output_type": "stream",
          "text": [
            "{\"train\": {\"eval_examples_count\": 3, \"metrics\": {\"per_item_action_accuracy\": 1.0}, \"time_spent\": \"0:00:01\", \"epochs_done\": 29, \"batches_seen\": 30, \"train_examples_seen\": 90, \"learning_rate\": 0.003, \"momentum\": 0.95, \"loss\": 0.03241893301407496}}\n",
            "{\"valid\": {\"eval_examples_count\": 3, \"metrics\": {\"per_item_action_accuracy\": 1.0}, \"time_spent\": \"0:00:01\", \"epochs_done\": 29, \"batches_seen\": 30, \"train_examples_seen\": 90, \"impatience\": 1, \"patience_limit\": 10}}\n"
          ],
          "name": "stdout"
        },
        {
          "output_type": "stream",
          "text": [
            "2020-08-03 14:31:06.0 INFO in 'deeppavlov.core.trainers.nn_trainer'['nn_trainer'] at line 211: Did not improve on the per_item_action_accuracy of 1.0\n"
          ],
          "name": "stderr"
        },
        {
          "output_type": "stream",
          "text": [
            "{\"train\": {\"eval_examples_count\": 3, \"metrics\": {\"per_item_action_accuracy\": 1.0}, \"time_spent\": \"0:00:01\", \"epochs_done\": 44, \"batches_seen\": 45, \"train_examples_seen\": 135, \"learning_rate\": 0.003, \"momentum\": 0.95, \"loss\": 0.023490523795286815}}\n",
            "{\"valid\": {\"eval_examples_count\": 3, \"metrics\": {\"per_item_action_accuracy\": 1.0}, \"time_spent\": \"0:00:01\", \"epochs_done\": 44, \"batches_seen\": 45, \"train_examples_seen\": 135, \"impatience\": 2, \"patience_limit\": 10}}\n"
          ],
          "name": "stdout"
        },
        {
          "output_type": "stream",
          "text": [
            "2020-08-03 14:31:06.146 INFO in 'deeppavlov.core.trainers.nn_trainer'['nn_trainer'] at line 211: Did not improve on the per_item_action_accuracy of 1.0\n"
          ],
          "name": "stderr"
        },
        {
          "output_type": "stream",
          "text": [
            "{\"train\": {\"eval_examples_count\": 3, \"metrics\": {\"per_item_action_accuracy\": 1.0}, \"time_spent\": \"0:00:02\", \"epochs_done\": 59, \"batches_seen\": 60, \"train_examples_seen\": 180, \"learning_rate\": 0.003, \"momentum\": 0.95, \"loss\": 0.022589139888683954}}\n",
            "{\"valid\": {\"eval_examples_count\": 3, \"metrics\": {\"per_item_action_accuracy\": 1.0}, \"time_spent\": \"0:00:02\", \"epochs_done\": 59, \"batches_seen\": 60, \"train_examples_seen\": 180, \"impatience\": 3, \"patience_limit\": 10}}\n"
          ],
          "name": "stdout"
        },
        {
          "output_type": "stream",
          "text": [
            "2020-08-03 14:31:06.290 INFO in 'deeppavlov.core.trainers.nn_trainer'['nn_trainer'] at line 211: Did not improve on the per_item_action_accuracy of 1.0\n"
          ],
          "name": "stderr"
        },
        {
          "output_type": "stream",
          "text": [
            "{\"train\": {\"eval_examples_count\": 3, \"metrics\": {\"per_item_action_accuracy\": 1.0}, \"time_spent\": \"0:00:02\", \"epochs_done\": 74, \"batches_seen\": 75, \"train_examples_seen\": 225, \"learning_rate\": 0.003, \"momentum\": 0.95, \"loss\": 0.02098728232085705}}\n",
            "{\"valid\": {\"eval_examples_count\": 3, \"metrics\": {\"per_item_action_accuracy\": 1.0}, \"time_spent\": \"0:00:02\", \"epochs_done\": 74, \"batches_seen\": 75, \"train_examples_seen\": 225, \"impatience\": 4, \"patience_limit\": 10}}\n"
          ],
          "name": "stdout"
        },
        {
          "output_type": "stream",
          "text": [
            "2020-08-03 14:31:06.453 INFO in 'deeppavlov.core.trainers.nn_trainer'['nn_trainer'] at line 211: Did not improve on the per_item_action_accuracy of 1.0\n"
          ],
          "name": "stderr"
        },
        {
          "output_type": "stream",
          "text": [
            "{\"train\": {\"eval_examples_count\": 3, \"metrics\": {\"per_item_action_accuracy\": 1.0}, \"time_spent\": \"0:00:02\", \"epochs_done\": 89, \"batches_seen\": 90, \"train_examples_seen\": 270, \"learning_rate\": 0.003, \"momentum\": 0.95, \"loss\": 0.019086405262351037}}\n",
            "{\"valid\": {\"eval_examples_count\": 3, \"metrics\": {\"per_item_action_accuracy\": 1.0}, \"time_spent\": \"0:00:02\", \"epochs_done\": 89, \"batches_seen\": 90, \"train_examples_seen\": 270, \"impatience\": 5, \"patience_limit\": 10}}\n"
          ],
          "name": "stdout"
        },
        {
          "output_type": "stream",
          "text": [
            "2020-08-03 14:31:06.593 INFO in 'deeppavlov.core.trainers.nn_trainer'['nn_trainer'] at line 211: Did not improve on the per_item_action_accuracy of 1.0\n"
          ],
          "name": "stderr"
        },
        {
          "output_type": "stream",
          "text": [
            "{\"train\": {\"eval_examples_count\": 3, \"metrics\": {\"per_item_action_accuracy\": 1.0}, \"time_spent\": \"0:00:02\", \"epochs_done\": 104, \"batches_seen\": 105, \"train_examples_seen\": 315, \"learning_rate\": 0.003, \"momentum\": 0.95, \"loss\": 0.01716333900888761}}\n",
            "{\"valid\": {\"eval_examples_count\": 3, \"metrics\": {\"per_item_action_accuracy\": 1.0}, \"time_spent\": \"0:00:02\", \"epochs_done\": 104, \"batches_seen\": 105, \"train_examples_seen\": 315, \"impatience\": 6, \"patience_limit\": 10}}\n"
          ],
          "name": "stdout"
        },
        {
          "output_type": "stream",
          "text": [
            "2020-08-03 14:31:06.758 INFO in 'deeppavlov.core.trainers.nn_trainer'['nn_trainer'] at line 211: Did not improve on the per_item_action_accuracy of 1.0\n"
          ],
          "name": "stderr"
        },
        {
          "output_type": "stream",
          "text": [
            "{\"train\": {\"eval_examples_count\": 3, \"metrics\": {\"per_item_action_accuracy\": 1.0}, \"time_spent\": \"0:00:02\", \"epochs_done\": 119, \"batches_seen\": 120, \"train_examples_seen\": 360, \"learning_rate\": 0.003, \"momentum\": 0.95, \"loss\": 0.015363510263462861}}\n",
            "{\"valid\": {\"eval_examples_count\": 3, \"metrics\": {\"per_item_action_accuracy\": 1.0}, \"time_spent\": \"0:00:02\", \"epochs_done\": 119, \"batches_seen\": 120, \"train_examples_seen\": 360, \"impatience\": 7, \"patience_limit\": 10}}\n"
          ],
          "name": "stdout"
        },
        {
          "output_type": "stream",
          "text": [
            "2020-08-03 14:31:06.915 INFO in 'deeppavlov.core.trainers.nn_trainer'['nn_trainer'] at line 211: Did not improve on the per_item_action_accuracy of 1.0\n"
          ],
          "name": "stderr"
        },
        {
          "output_type": "stream",
          "text": [
            "{\"train\": {\"eval_examples_count\": 3, \"metrics\": {\"per_item_action_accuracy\": 1.0}, \"time_spent\": \"0:00:02\", \"epochs_done\": 134, \"batches_seen\": 135, \"train_examples_seen\": 405, \"learning_rate\": 0.003, \"momentum\": 0.95, \"loss\": 0.013741349677244823}}\n",
            "{\"valid\": {\"eval_examples_count\": 3, \"metrics\": {\"per_item_action_accuracy\": 1.0}, \"time_spent\": \"0:00:02\", \"epochs_done\": 134, \"batches_seen\": 135, \"train_examples_seen\": 405, \"impatience\": 8, \"patience_limit\": 10}}\n"
          ],
          "name": "stdout"
        },
        {
          "output_type": "stream",
          "text": [
            "2020-08-03 14:31:07.46 INFO in 'deeppavlov.core.trainers.nn_trainer'['nn_trainer'] at line 211: Did not improve on the per_item_action_accuracy of 1.0\n"
          ],
          "name": "stderr"
        },
        {
          "output_type": "stream",
          "text": [
            "{\"train\": {\"eval_examples_count\": 3, \"metrics\": {\"per_item_action_accuracy\": 1.0}, \"time_spent\": \"0:00:02\", \"epochs_done\": 149, \"batches_seen\": 150, \"train_examples_seen\": 450, \"learning_rate\": 0.003, \"momentum\": 0.95, \"loss\": 0.012305164399246374}}\n",
            "{\"valid\": {\"eval_examples_count\": 3, \"metrics\": {\"per_item_action_accuracy\": 1.0}, \"time_spent\": \"0:00:02\", \"epochs_done\": 149, \"batches_seen\": 150, \"train_examples_seen\": 450, \"impatience\": 9, \"patience_limit\": 10}}\n"
          ],
          "name": "stdout"
        },
        {
          "output_type": "stream",
          "text": [
            "2020-08-03 14:31:07.185 INFO in 'deeppavlov.core.trainers.nn_trainer'['nn_trainer'] at line 211: Did not improve on the per_item_action_accuracy of 1.0\n",
            "2020-08-03 14:31:07.187 INFO in 'deeppavlov.core.trainers.nn_trainer'['nn_trainer'] at line 307: Ran out of patience\n"
          ],
          "name": "stderr"
        },
        {
          "output_type": "stream",
          "text": [
            "{\"train\": {\"eval_examples_count\": 3, \"metrics\": {\"per_item_action_accuracy\": 1.0}, \"time_spent\": \"0:00:03\", \"epochs_done\": 164, \"batches_seen\": 165, \"train_examples_seen\": 495, \"learning_rate\": 0.003, \"momentum\": 0.95, \"loss\": 0.011045131459832191}}\n",
            "{\"valid\": {\"eval_examples_count\": 3, \"metrics\": {\"per_item_action_accuracy\": 1.0}, \"time_spent\": \"0:00:03\", \"epochs_done\": 164, \"batches_seen\": 165, \"train_examples_seen\": 495, \"impatience\": 10, \"patience_limit\": 10}}\n"
          ],
          "name": "stdout"
        },
        {
          "output_type": "stream",
          "text": [
            "2020-08-03 14:31:07.272 INFO in 'deeppavlov.core.data.simple_vocab'['simple_vocab'] at line 115: [loading vocabulary from /content/dp_minimal_demo_dir/word.dict]\n",
            "2020-08-03 14:31:07.276 DEBUG in 'deeppavlov.dataset_readers.md_yaml_dialogs_reader'['md_yaml_dialogs_reader'] at line 217: BEFORE MLU_MD_DialogsDatasetReader._read_story(): story_fpath=/content/dp_minimal_demo_dir/stories-trn.md, dialogs=True, domain_knowledge=<deeppavlov.dataset_readers.md_yaml_dialogs_reader.DomainKnowledge object at 0x7f91495999b0>, intent2slots2text={'greet': {(): [{'text': 'Hi', 'slots': []}, {'text': 'Hey', 'slots': []}, {'text': 'Hi bot', 'slots': []}, {'text': 'Hey bot', 'slots': []}, {'text': 'Hello', 'slots': []}, {'text': 'Good morning', 'slots': []}, {'text': 'hi again', 'slots': []}, {'text': 'hi folks', 'slots': []}]}, 'bye': {(): [{'text': 'goodbye', 'slots': []}, {'text': 'goodnight', 'slots': []}, {'text': 'good bye', 'slots': []}, {'text': 'good night', 'slots': []}, {'text': 'see ya', 'slots': []}, {'text': 'toodle-oo', 'slots': []}, {'text': 'bye bye', 'slots': []}, {'text': 'gotta go', 'slots': []}, {'text': 'farewell', 'slots': []}]}, 'thank': {(): [{'text': 'Thanks', 'slots': []}, {'text': 'Thank you', 'slots': []}, {'text': 'Thank you so much', 'slots': []}, {'text': 'Thanks bot', 'slots': []}, {'text': 'Thanks for that', 'slots': []}, {'text': 'cheers', 'slots': []}]}}, slot_name2text2value={}\n",
            "2020-08-03 14:31:07.278 INFO in 'deeppavlov.dataset_readers.dstc2_reader'['dstc2_reader'] at line 112: [loading dialogs from /tmp/tmpfb6ivo1b]\n",
            "2020-08-03 14:31:07.280 DEBUG in 'deeppavlov.dataset_readers.md_yaml_dialogs_reader'['md_yaml_dialogs_reader'] at line 306: AFTER MLU_MD_DialogsDatasetReader._read_story(): story_fpath=/content/dp_minimal_demo_dir/stories-trn.md, dialogs=True, domain_knowledge=<deeppavlov.dataset_readers.md_yaml_dialogs_reader.DomainKnowledge object at 0x7f91495999b0>, intent2slots2text={'greet': {(): [{'text': 'Hi', 'slots': []}, {'text': 'Hey', 'slots': []}, {'text': 'Hi bot', 'slots': []}, {'text': 'Hey bot', 'slots': []}, {'text': 'Hello', 'slots': []}, {'text': 'Good morning', 'slots': []}, {'text': 'hi again', 'slots': []}, {'text': 'hi folks', 'slots': []}]}, 'bye': {(): [{'text': 'goodbye', 'slots': []}, {'text': 'goodnight', 'slots': []}, {'text': 'good bye', 'slots': []}, {'text': 'good night', 'slots': []}, {'text': 'see ya', 'slots': []}, {'text': 'toodle-oo', 'slots': []}, {'text': 'bye bye', 'slots': []}, {'text': 'gotta go', 'slots': []}, {'text': 'farewell', 'slots': []}]}, 'thank': {(): [{'text': 'Thanks', 'slots': []}, {'text': 'Thank you', 'slots': []}, {'text': 'Thank you so much', 'slots': []}, {'text': 'Thanks bot', 'slots': []}, {'text': 'Thanks for that', 'slots': []}, {'text': 'cheers', 'slots': []}]}}, slot_name2text2value={}\n",
            "2020-08-03 14:31:07.281 DEBUG in 'deeppavlov.dataset_readers.md_yaml_dialogs_reader'['md_yaml_dialogs_reader'] at line 217: BEFORE MLU_MD_DialogsDatasetReader._read_story(): story_fpath=/content/dp_minimal_demo_dir/stories-val.md, dialogs=True, domain_knowledge=<deeppavlov.dataset_readers.md_yaml_dialogs_reader.DomainKnowledge object at 0x7f91495999b0>, intent2slots2text={'greet': {(): [{'text': 'Hi', 'slots': []}, {'text': 'Hey', 'slots': []}, {'text': 'Hi bot', 'slots': []}, {'text': 'Hey bot', 'slots': []}, {'text': 'Hello', 'slots': []}, {'text': 'Good morning', 'slots': []}, {'text': 'hi again', 'slots': []}, {'text': 'hi folks', 'slots': []}]}, 'bye': {(): [{'text': 'goodbye', 'slots': []}, {'text': 'goodnight', 'slots': []}, {'text': 'good bye', 'slots': []}, {'text': 'good night', 'slots': []}, {'text': 'see ya', 'slots': []}, {'text': 'toodle-oo', 'slots': []}, {'text': 'bye bye', 'slots': []}, {'text': 'gotta go', 'slots': []}, {'text': 'farewell', 'slots': []}]}, 'thank': {(): [{'text': 'Thanks', 'slots': []}, {'text': 'Thank you', 'slots': []}, {'text': 'Thank you so much', 'slots': []}, {'text': 'Thanks bot', 'slots': []}, {'text': 'Thanks for that', 'slots': []}, {'text': 'cheers', 'slots': []}]}}, slot_name2text2value={}\n",
            "2020-08-03 14:31:07.283 INFO in 'deeppavlov.dataset_readers.dstc2_reader'['dstc2_reader'] at line 112: [loading dialogs from /tmp/tmpgmoyl_mf]\n",
            "2020-08-03 14:31:07.285 DEBUG in 'deeppavlov.dataset_readers.md_yaml_dialogs_reader'['md_yaml_dialogs_reader'] at line 306: AFTER MLU_MD_DialogsDatasetReader._read_story(): story_fpath=/content/dp_minimal_demo_dir/stories-val.md, dialogs=True, domain_knowledge=<deeppavlov.dataset_readers.md_yaml_dialogs_reader.DomainKnowledge object at 0x7f91495999b0>, intent2slots2text={'greet': {(): [{'text': 'Hi', 'slots': []}, {'text': 'Hey', 'slots': []}, {'text': 'Hi bot', 'slots': []}, {'text': 'Hey bot', 'slots': []}, {'text': 'Hello', 'slots': []}, {'text': 'Good morning', 'slots': []}, {'text': 'hi again', 'slots': []}, {'text': 'hi folks', 'slots': []}]}, 'bye': {(): [{'text': 'goodbye', 'slots': []}, {'text': 'goodnight', 'slots': []}, {'text': 'good bye', 'slots': []}, {'text': 'good night', 'slots': []}, {'text': 'see ya', 'slots': []}, {'text': 'toodle-oo', 'slots': []}, {'text': 'bye bye', 'slots': []}, {'text': 'gotta go', 'slots': []}, {'text': 'farewell', 'slots': []}]}, 'thank': {(): [{'text': 'Thanks', 'slots': []}, {'text': 'Thank you', 'slots': []}, {'text': 'Thank you so much', 'slots': []}, {'text': 'Thanks bot', 'slots': []}, {'text': 'Thanks for that', 'slots': []}, {'text': 'cheers', 'slots': []}]}}, slot_name2text2value={}\n",
            "2020-08-03 14:31:07.287 DEBUG in 'deeppavlov.dataset_readers.md_yaml_dialogs_reader'['md_yaml_dialogs_reader'] at line 217: BEFORE MLU_MD_DialogsDatasetReader._read_story(): story_fpath=/content/dp_minimal_demo_dir/stories-tst.md, dialogs=True, domain_knowledge=<deeppavlov.dataset_readers.md_yaml_dialogs_reader.DomainKnowledge object at 0x7f91495999b0>, intent2slots2text={'greet': {(): [{'text': 'Hi', 'slots': []}, {'text': 'Hey', 'slots': []}, {'text': 'Hi bot', 'slots': []}, {'text': 'Hey bot', 'slots': []}, {'text': 'Hello', 'slots': []}, {'text': 'Good morning', 'slots': []}, {'text': 'hi again', 'slots': []}, {'text': 'hi folks', 'slots': []}]}, 'bye': {(): [{'text': 'goodbye', 'slots': []}, {'text': 'goodnight', 'slots': []}, {'text': 'good bye', 'slots': []}, {'text': 'good night', 'slots': []}, {'text': 'see ya', 'slots': []}, {'text': 'toodle-oo', 'slots': []}, {'text': 'bye bye', 'slots': []}, {'text': 'gotta go', 'slots': []}, {'text': 'farewell', 'slots': []}]}, 'thank': {(): [{'text': 'Thanks', 'slots': []}, {'text': 'Thank you', 'slots': []}, {'text': 'Thank you so much', 'slots': []}, {'text': 'Thanks bot', 'slots': []}, {'text': 'Thanks for that', 'slots': []}, {'text': 'cheers', 'slots': []}]}}, slot_name2text2value={}\n",
            "2020-08-03 14:31:07.288 INFO in 'deeppavlov.dataset_readers.dstc2_reader'['dstc2_reader'] at line 112: [loading dialogs from /tmp/tmpe1tsbpla]\n",
            "2020-08-03 14:31:07.290 DEBUG in 'deeppavlov.dataset_readers.md_yaml_dialogs_reader'['md_yaml_dialogs_reader'] at line 306: AFTER MLU_MD_DialogsDatasetReader._read_story(): story_fpath=/content/dp_minimal_demo_dir/stories-tst.md, dialogs=True, domain_knowledge=<deeppavlov.dataset_readers.md_yaml_dialogs_reader.DomainKnowledge object at 0x7f91495999b0>, intent2slots2text={'greet': {(): [{'text': 'Hi', 'slots': []}, {'text': 'Hey', 'slots': []}, {'text': 'Hi bot', 'slots': []}, {'text': 'Hey bot', 'slots': []}, {'text': 'Hello', 'slots': []}, {'text': 'Good morning', 'slots': []}, {'text': 'hi again', 'slots': []}, {'text': 'hi folks', 'slots': []}]}, 'bye': {(): [{'text': 'goodbye', 'slots': []}, {'text': 'goodnight', 'slots': []}, {'text': 'good bye', 'slots': []}, {'text': 'good night', 'slots': []}, {'text': 'see ya', 'slots': []}, {'text': 'toodle-oo', 'slots': []}, {'text': 'bye bye', 'slots': []}, {'text': 'gotta go', 'slots': []}, {'text': 'farewell', 'slots': []}]}, 'thank': {(): [{'text': 'Thanks', 'slots': []}, {'text': 'Thank you', 'slots': []}, {'text': 'Thank you so much', 'slots': []}, {'text': 'Thanks bot', 'slots': []}, {'text': 'Thanks for that', 'slots': []}, {'text': 'cheers', 'slots': []}]}}, slot_name2text2value={}\n",
            "2020-08-03 14:31:07.294 INFO in 'deeppavlov.models.embedders.glove_embedder'['glove_embedder'] at line 52: [loading GloVe embeddings from `/root/.deeppavlov/downloads/embeddings/glove.6B.100d.txt`]\n",
            "2020-08-03 14:31:44.884 INFO in 'deeppavlov.models.go_bot.policy.policy_network'['policy_network'] at line 86: INSIDE PolicyNetwork init(). Initializing PolicyNetwork from checkpoint.\n",
            "2020-08-03 14:31:44.889 INFO in 'deeppavlov.core.models.tf_model'['tf_model'] at line 51: [loading model from /content/dp_minimal_demo_dir/model/policy]\n"
          ],
          "name": "stderr"
        },
        {
          "output_type": "stream",
          "text": [
            "INFO:tensorflow:Restoring parameters from /content/dp_minimal_demo_dir/model/policy\n"
          ],
          "name": "stdout"
        },
        {
          "output_type": "stream",
          "text": [
            "2020-08-03 14:31:45.101 INFO in 'deeppavlov.core.data.simple_vocab'['simple_vocab'] at line 115: [loading vocabulary from /content/dp_minimal_demo_dir/word.dict]\n",
            "2020-08-03 14:31:45.107 DEBUG in 'deeppavlov.dataset_readers.md_yaml_dialogs_reader'['md_yaml_dialogs_reader'] at line 217: BEFORE MLU_MD_DialogsDatasetReader._read_story(): story_fpath=/content/dp_minimal_demo_dir/stories-trn.md, dialogs=True, domain_knowledge=<deeppavlov.dataset_readers.md_yaml_dialogs_reader.DomainKnowledge object at 0x7f914a3678d0>, intent2slots2text={'greet': {(): [{'text': 'Hi', 'slots': []}, {'text': 'Hey', 'slots': []}, {'text': 'Hi bot', 'slots': []}, {'text': 'Hey bot', 'slots': []}, {'text': 'Hello', 'slots': []}, {'text': 'Good morning', 'slots': []}, {'text': 'hi again', 'slots': []}, {'text': 'hi folks', 'slots': []}]}, 'bye': {(): [{'text': 'goodbye', 'slots': []}, {'text': 'goodnight', 'slots': []}, {'text': 'good bye', 'slots': []}, {'text': 'good night', 'slots': []}, {'text': 'see ya', 'slots': []}, {'text': 'toodle-oo', 'slots': []}, {'text': 'bye bye', 'slots': []}, {'text': 'gotta go', 'slots': []}, {'text': 'farewell', 'slots': []}]}, 'thank': {(): [{'text': 'Thanks', 'slots': []}, {'text': 'Thank you', 'slots': []}, {'text': 'Thank you so much', 'slots': []}, {'text': 'Thanks bot', 'slots': []}, {'text': 'Thanks for that', 'slots': []}, {'text': 'cheers', 'slots': []}]}}, slot_name2text2value={}\n",
            "2020-08-03 14:31:45.110 INFO in 'deeppavlov.dataset_readers.dstc2_reader'['dstc2_reader'] at line 112: [loading dialogs from /tmp/tmp27ayfgi4]\n"
          ],
          "name": "stderr"
        },
        {
          "output_type": "stream",
          "text": [
            "{\"valid\": {\"eval_examples_count\": 3, \"metrics\": {\"per_item_action_accuracy\": 1.0}, \"time_spent\": \"0:00:01\"}}\n",
            "{\"test\": {\"eval_examples_count\": 3, \"metrics\": {\"per_item_action_accuracy\": 1.0}, \"time_spent\": \"0:00:01\"}}\n"
          ],
          "name": "stdout"
        },
        {
          "output_type": "stream",
          "text": [
            "2020-08-03 14:31:45.113 DEBUG in 'deeppavlov.dataset_readers.md_yaml_dialogs_reader'['md_yaml_dialogs_reader'] at line 306: AFTER MLU_MD_DialogsDatasetReader._read_story(): story_fpath=/content/dp_minimal_demo_dir/stories-trn.md, dialogs=True, domain_knowledge=<deeppavlov.dataset_readers.md_yaml_dialogs_reader.DomainKnowledge object at 0x7f914a3678d0>, intent2slots2text={'greet': {(): [{'text': 'Hi', 'slots': []}, {'text': 'Hey', 'slots': []}, {'text': 'Hi bot', 'slots': []}, {'text': 'Hey bot', 'slots': []}, {'text': 'Hello', 'slots': []}, {'text': 'Good morning', 'slots': []}, {'text': 'hi again', 'slots': []}, {'text': 'hi folks', 'slots': []}]}, 'bye': {(): [{'text': 'goodbye', 'slots': []}, {'text': 'goodnight', 'slots': []}, {'text': 'good bye', 'slots': []}, {'text': 'good night', 'slots': []}, {'text': 'see ya', 'slots': []}, {'text': 'toodle-oo', 'slots': []}, {'text': 'bye bye', 'slots': []}, {'text': 'gotta go', 'slots': []}, {'text': 'farewell', 'slots': []}]}, 'thank': {(): [{'text': 'Thanks', 'slots': []}, {'text': 'Thank you', 'slots': []}, {'text': 'Thank you so much', 'slots': []}, {'text': 'Thanks bot', 'slots': []}, {'text': 'Thanks for that', 'slots': []}, {'text': 'cheers', 'slots': []}]}}, slot_name2text2value={}\n",
            "2020-08-03 14:31:45.118 DEBUG in 'deeppavlov.dataset_readers.md_yaml_dialogs_reader'['md_yaml_dialogs_reader'] at line 217: BEFORE MLU_MD_DialogsDatasetReader._read_story(): story_fpath=/content/dp_minimal_demo_dir/stories-val.md, dialogs=True, domain_knowledge=<deeppavlov.dataset_readers.md_yaml_dialogs_reader.DomainKnowledge object at 0x7f914a3678d0>, intent2slots2text={'greet': {(): [{'text': 'Hi', 'slots': []}, {'text': 'Hey', 'slots': []}, {'text': 'Hi bot', 'slots': []}, {'text': 'Hey bot', 'slots': []}, {'text': 'Hello', 'slots': []}, {'text': 'Good morning', 'slots': []}, {'text': 'hi again', 'slots': []}, {'text': 'hi folks', 'slots': []}]}, 'bye': {(): [{'text': 'goodbye', 'slots': []}, {'text': 'goodnight', 'slots': []}, {'text': 'good bye', 'slots': []}, {'text': 'good night', 'slots': []}, {'text': 'see ya', 'slots': []}, {'text': 'toodle-oo', 'slots': []}, {'text': 'bye bye', 'slots': []}, {'text': 'gotta go', 'slots': []}, {'text': 'farewell', 'slots': []}]}, 'thank': {(): [{'text': 'Thanks', 'slots': []}, {'text': 'Thank you', 'slots': []}, {'text': 'Thank you so much', 'slots': []}, {'text': 'Thanks bot', 'slots': []}, {'text': 'Thanks for that', 'slots': []}, {'text': 'cheers', 'slots': []}]}}, slot_name2text2value={}\n",
            "2020-08-03 14:31:45.121 INFO in 'deeppavlov.dataset_readers.dstc2_reader'['dstc2_reader'] at line 112: [loading dialogs from /tmp/tmpvm3p9wx7]\n",
            "2020-08-03 14:31:45.123 DEBUG in 'deeppavlov.dataset_readers.md_yaml_dialogs_reader'['md_yaml_dialogs_reader'] at line 306: AFTER MLU_MD_DialogsDatasetReader._read_story(): story_fpath=/content/dp_minimal_demo_dir/stories-val.md, dialogs=True, domain_knowledge=<deeppavlov.dataset_readers.md_yaml_dialogs_reader.DomainKnowledge object at 0x7f914a3678d0>, intent2slots2text={'greet': {(): [{'text': 'Hi', 'slots': []}, {'text': 'Hey', 'slots': []}, {'text': 'Hi bot', 'slots': []}, {'text': 'Hey bot', 'slots': []}, {'text': 'Hello', 'slots': []}, {'text': 'Good morning', 'slots': []}, {'text': 'hi again', 'slots': []}, {'text': 'hi folks', 'slots': []}]}, 'bye': {(): [{'text': 'goodbye', 'slots': []}, {'text': 'goodnight', 'slots': []}, {'text': 'good bye', 'slots': []}, {'text': 'good night', 'slots': []}, {'text': 'see ya', 'slots': []}, {'text': 'toodle-oo', 'slots': []}, {'text': 'bye bye', 'slots': []}, {'text': 'gotta go', 'slots': []}, {'text': 'farewell', 'slots': []}]}, 'thank': {(): [{'text': 'Thanks', 'slots': []}, {'text': 'Thank you', 'slots': []}, {'text': 'Thank you so much', 'slots': []}, {'text': 'Thanks bot', 'slots': []}, {'text': 'Thanks for that', 'slots': []}, {'text': 'cheers', 'slots': []}]}}, slot_name2text2value={}\n",
            "2020-08-03 14:31:45.124 DEBUG in 'deeppavlov.dataset_readers.md_yaml_dialogs_reader'['md_yaml_dialogs_reader'] at line 217: BEFORE MLU_MD_DialogsDatasetReader._read_story(): story_fpath=/content/dp_minimal_demo_dir/stories-tst.md, dialogs=True, domain_knowledge=<deeppavlov.dataset_readers.md_yaml_dialogs_reader.DomainKnowledge object at 0x7f914a3678d0>, intent2slots2text={'greet': {(): [{'text': 'Hi', 'slots': []}, {'text': 'Hey', 'slots': []}, {'text': 'Hi bot', 'slots': []}, {'text': 'Hey bot', 'slots': []}, {'text': 'Hello', 'slots': []}, {'text': 'Good morning', 'slots': []}, {'text': 'hi again', 'slots': []}, {'text': 'hi folks', 'slots': []}]}, 'bye': {(): [{'text': 'goodbye', 'slots': []}, {'text': 'goodnight', 'slots': []}, {'text': 'good bye', 'slots': []}, {'text': 'good night', 'slots': []}, {'text': 'see ya', 'slots': []}, {'text': 'toodle-oo', 'slots': []}, {'text': 'bye bye', 'slots': []}, {'text': 'gotta go', 'slots': []}, {'text': 'farewell', 'slots': []}]}, 'thank': {(): [{'text': 'Thanks', 'slots': []}, {'text': 'Thank you', 'slots': []}, {'text': 'Thank you so much', 'slots': []}, {'text': 'Thanks bot', 'slots': []}, {'text': 'Thanks for that', 'slots': []}, {'text': 'cheers', 'slots': []}]}}, slot_name2text2value={}\n",
            "2020-08-03 14:31:45.125 INFO in 'deeppavlov.dataset_readers.dstc2_reader'['dstc2_reader'] at line 112: [loading dialogs from /tmp/tmpasddsqgg]\n",
            "2020-08-03 14:31:45.127 DEBUG in 'deeppavlov.dataset_readers.md_yaml_dialogs_reader'['md_yaml_dialogs_reader'] at line 306: AFTER MLU_MD_DialogsDatasetReader._read_story(): story_fpath=/content/dp_minimal_demo_dir/stories-tst.md, dialogs=True, domain_knowledge=<deeppavlov.dataset_readers.md_yaml_dialogs_reader.DomainKnowledge object at 0x7f914a3678d0>, intent2slots2text={'greet': {(): [{'text': 'Hi', 'slots': []}, {'text': 'Hey', 'slots': []}, {'text': 'Hi bot', 'slots': []}, {'text': 'Hey bot', 'slots': []}, {'text': 'Hello', 'slots': []}, {'text': 'Good morning', 'slots': []}, {'text': 'hi again', 'slots': []}, {'text': 'hi folks', 'slots': []}]}, 'bye': {(): [{'text': 'goodbye', 'slots': []}, {'text': 'goodnight', 'slots': []}, {'text': 'good bye', 'slots': []}, {'text': 'good night', 'slots': []}, {'text': 'see ya', 'slots': []}, {'text': 'toodle-oo', 'slots': []}, {'text': 'bye bye', 'slots': []}, {'text': 'gotta go', 'slots': []}, {'text': 'farewell', 'slots': []}]}, 'thank': {(): [{'text': 'Thanks', 'slots': []}, {'text': 'Thank you', 'slots': []}, {'text': 'Thank you so much', 'slots': []}, {'text': 'Thanks bot', 'slots': []}, {'text': 'Thanks for that', 'slots': []}, {'text': 'cheers', 'slots': []}]}}, slot_name2text2value={}\n",
            "2020-08-03 14:31:45.129 INFO in 'deeppavlov.models.embedders.glove_embedder'['glove_embedder'] at line 52: [loading GloVe embeddings from `/root/.deeppavlov/downloads/embeddings/glove.6B.100d.txt`]\n",
            "2020-08-03 14:32:23.160 INFO in 'deeppavlov.models.go_bot.policy.policy_network'['policy_network'] at line 86: INSIDE PolicyNetwork init(). Initializing PolicyNetwork from checkpoint.\n",
            "2020-08-03 14:32:23.168 INFO in 'deeppavlov.core.models.tf_model'['tf_model'] at line 51: [loading model from /content/dp_minimal_demo_dir/model/policy]\n"
          ],
          "name": "stderr"
        },
        {
          "output_type": "stream",
          "text": [
            "INFO:tensorflow:Restoring parameters from /content/dp_minimal_demo_dir/model/policy\n"
          ],
          "name": "stdout"
        },
        {
          "output_type": "execute_result",
          "data": {
            "text/plain": [
              "Chainer[<deeppavlov.models.go_bot.wrapper.DialogComponentWrapper at 0x7f916c473e10>,\n",
              "        <deeppavlov.models.go_bot.go_bot.GoalOrientedBot at 0x7f914a4eee80>]"
            ]
          },
          "metadata": {
            "tags": []
          },
          "execution_count": 9
        }
      ]
    },
    {
      "cell_type": "markdown",
      "metadata": {
        "id": "tenEY1QVYmlg",
        "colab_type": "text"
      },
      "source": [
        "Finally, it's time to build our bot and experiment with it:"
      ]
    },
    {
      "cell_type": "code",
      "metadata": {
        "id": "CmK7I_06xXcH",
        "colab_type": "code",
        "colab": {
          "base_uri": "https://localhost:8080/",
          "height": 275
        },
        "outputId": "128fc260-df58-436c-c501-7ed9852a046f"
      },
      "source": [
        "from deeppavlov import build_model\n",
        "bot = build_model(gobot_config)"
      ],
      "execution_count": 10,
      "outputs": [
        {
          "output_type": "stream",
          "text": [
            "2020-08-03 14:32:23.253 INFO in 'deeppavlov.core.data.simple_vocab'['simple_vocab'] at line 115: [loading vocabulary from /content/dp_minimal_demo_dir/word.dict]\n",
            "2020-08-03 14:32:23.258 DEBUG in 'deeppavlov.dataset_readers.md_yaml_dialogs_reader'['md_yaml_dialogs_reader'] at line 217: BEFORE MLU_MD_DialogsDatasetReader._read_story(): story_fpath=/content/dp_minimal_demo_dir/stories-trn.md, dialogs=True, domain_knowledge=<deeppavlov.dataset_readers.md_yaml_dialogs_reader.DomainKnowledge object at 0x7f9140ee9748>, intent2slots2text={'greet': {(): [{'text': 'Hi', 'slots': []}, {'text': 'Hey', 'slots': []}, {'text': 'Hi bot', 'slots': []}, {'text': 'Hey bot', 'slots': []}, {'text': 'Hello', 'slots': []}, {'text': 'Good morning', 'slots': []}, {'text': 'hi again', 'slots': []}, {'text': 'hi folks', 'slots': []}]}, 'bye': {(): [{'text': 'goodbye', 'slots': []}, {'text': 'goodnight', 'slots': []}, {'text': 'good bye', 'slots': []}, {'text': 'good night', 'slots': []}, {'text': 'see ya', 'slots': []}, {'text': 'toodle-oo', 'slots': []}, {'text': 'bye bye', 'slots': []}, {'text': 'gotta go', 'slots': []}, {'text': 'farewell', 'slots': []}]}, 'thank': {(): [{'text': 'Thanks', 'slots': []}, {'text': 'Thank you', 'slots': []}, {'text': 'Thank you so much', 'slots': []}, {'text': 'Thanks bot', 'slots': []}, {'text': 'Thanks for that', 'slots': []}, {'text': 'cheers', 'slots': []}]}}, slot_name2text2value={}\n",
            "2020-08-03 14:32:23.261 INFO in 'deeppavlov.dataset_readers.dstc2_reader'['dstc2_reader'] at line 112: [loading dialogs from /tmp/tmpgsfg63_b]\n",
            "2020-08-03 14:32:23.262 DEBUG in 'deeppavlov.dataset_readers.md_yaml_dialogs_reader'['md_yaml_dialogs_reader'] at line 306: AFTER MLU_MD_DialogsDatasetReader._read_story(): story_fpath=/content/dp_minimal_demo_dir/stories-trn.md, dialogs=True, domain_knowledge=<deeppavlov.dataset_readers.md_yaml_dialogs_reader.DomainKnowledge object at 0x7f9140ee9748>, intent2slots2text={'greet': {(): [{'text': 'Hi', 'slots': []}, {'text': 'Hey', 'slots': []}, {'text': 'Hi bot', 'slots': []}, {'text': 'Hey bot', 'slots': []}, {'text': 'Hello', 'slots': []}, {'text': 'Good morning', 'slots': []}, {'text': 'hi again', 'slots': []}, {'text': 'hi folks', 'slots': []}]}, 'bye': {(): [{'text': 'goodbye', 'slots': []}, {'text': 'goodnight', 'slots': []}, {'text': 'good bye', 'slots': []}, {'text': 'good night', 'slots': []}, {'text': 'see ya', 'slots': []}, {'text': 'toodle-oo', 'slots': []}, {'text': 'bye bye', 'slots': []}, {'text': 'gotta go', 'slots': []}, {'text': 'farewell', 'slots': []}]}, 'thank': {(): [{'text': 'Thanks', 'slots': []}, {'text': 'Thank you', 'slots': []}, {'text': 'Thank you so much', 'slots': []}, {'text': 'Thanks bot', 'slots': []}, {'text': 'Thanks for that', 'slots': []}, {'text': 'cheers', 'slots': []}]}}, slot_name2text2value={}\n",
            "2020-08-03 14:32:23.263 DEBUG in 'deeppavlov.dataset_readers.md_yaml_dialogs_reader'['md_yaml_dialogs_reader'] at line 217: BEFORE MLU_MD_DialogsDatasetReader._read_story(): story_fpath=/content/dp_minimal_demo_dir/stories-val.md, dialogs=True, domain_knowledge=<deeppavlov.dataset_readers.md_yaml_dialogs_reader.DomainKnowledge object at 0x7f9140ee9748>, intent2slots2text={'greet': {(): [{'text': 'Hi', 'slots': []}, {'text': 'Hey', 'slots': []}, {'text': 'Hi bot', 'slots': []}, {'text': 'Hey bot', 'slots': []}, {'text': 'Hello', 'slots': []}, {'text': 'Good morning', 'slots': []}, {'text': 'hi again', 'slots': []}, {'text': 'hi folks', 'slots': []}]}, 'bye': {(): [{'text': 'goodbye', 'slots': []}, {'text': 'goodnight', 'slots': []}, {'text': 'good bye', 'slots': []}, {'text': 'good night', 'slots': []}, {'text': 'see ya', 'slots': []}, {'text': 'toodle-oo', 'slots': []}, {'text': 'bye bye', 'slots': []}, {'text': 'gotta go', 'slots': []}, {'text': 'farewell', 'slots': []}]}, 'thank': {(): [{'text': 'Thanks', 'slots': []}, {'text': 'Thank you', 'slots': []}, {'text': 'Thank you so much', 'slots': []}, {'text': 'Thanks bot', 'slots': []}, {'text': 'Thanks for that', 'slots': []}, {'text': 'cheers', 'slots': []}]}}, slot_name2text2value={}\n",
            "2020-08-03 14:32:23.266 INFO in 'deeppavlov.dataset_readers.dstc2_reader'['dstc2_reader'] at line 112: [loading dialogs from /tmp/tmpsg1m8zym]\n",
            "2020-08-03 14:32:23.267 DEBUG in 'deeppavlov.dataset_readers.md_yaml_dialogs_reader'['md_yaml_dialogs_reader'] at line 306: AFTER MLU_MD_DialogsDatasetReader._read_story(): story_fpath=/content/dp_minimal_demo_dir/stories-val.md, dialogs=True, domain_knowledge=<deeppavlov.dataset_readers.md_yaml_dialogs_reader.DomainKnowledge object at 0x7f9140ee9748>, intent2slots2text={'greet': {(): [{'text': 'Hi', 'slots': []}, {'text': 'Hey', 'slots': []}, {'text': 'Hi bot', 'slots': []}, {'text': 'Hey bot', 'slots': []}, {'text': 'Hello', 'slots': []}, {'text': 'Good morning', 'slots': []}, {'text': 'hi again', 'slots': []}, {'text': 'hi folks', 'slots': []}]}, 'bye': {(): [{'text': 'goodbye', 'slots': []}, {'text': 'goodnight', 'slots': []}, {'text': 'good bye', 'slots': []}, {'text': 'good night', 'slots': []}, {'text': 'see ya', 'slots': []}, {'text': 'toodle-oo', 'slots': []}, {'text': 'bye bye', 'slots': []}, {'text': 'gotta go', 'slots': []}, {'text': 'farewell', 'slots': []}]}, 'thank': {(): [{'text': 'Thanks', 'slots': []}, {'text': 'Thank you', 'slots': []}, {'text': 'Thank you so much', 'slots': []}, {'text': 'Thanks bot', 'slots': []}, {'text': 'Thanks for that', 'slots': []}, {'text': 'cheers', 'slots': []}]}}, slot_name2text2value={}\n",
            "2020-08-03 14:32:23.268 DEBUG in 'deeppavlov.dataset_readers.md_yaml_dialogs_reader'['md_yaml_dialogs_reader'] at line 217: BEFORE MLU_MD_DialogsDatasetReader._read_story(): story_fpath=/content/dp_minimal_demo_dir/stories-tst.md, dialogs=True, domain_knowledge=<deeppavlov.dataset_readers.md_yaml_dialogs_reader.DomainKnowledge object at 0x7f9140ee9748>, intent2slots2text={'greet': {(): [{'text': 'Hi', 'slots': []}, {'text': 'Hey', 'slots': []}, {'text': 'Hi bot', 'slots': []}, {'text': 'Hey bot', 'slots': []}, {'text': 'Hello', 'slots': []}, {'text': 'Good morning', 'slots': []}, {'text': 'hi again', 'slots': []}, {'text': 'hi folks', 'slots': []}]}, 'bye': {(): [{'text': 'goodbye', 'slots': []}, {'text': 'goodnight', 'slots': []}, {'text': 'good bye', 'slots': []}, {'text': 'good night', 'slots': []}, {'text': 'see ya', 'slots': []}, {'text': 'toodle-oo', 'slots': []}, {'text': 'bye bye', 'slots': []}, {'text': 'gotta go', 'slots': []}, {'text': 'farewell', 'slots': []}]}, 'thank': {(): [{'text': 'Thanks', 'slots': []}, {'text': 'Thank you', 'slots': []}, {'text': 'Thank you so much', 'slots': []}, {'text': 'Thanks bot', 'slots': []}, {'text': 'Thanks for that', 'slots': []}, {'text': 'cheers', 'slots': []}]}}, slot_name2text2value={}\n",
            "2020-08-03 14:32:23.269 INFO in 'deeppavlov.dataset_readers.dstc2_reader'['dstc2_reader'] at line 112: [loading dialogs from /tmp/tmp07p9hojy]\n",
            "2020-08-03 14:32:23.271 DEBUG in 'deeppavlov.dataset_readers.md_yaml_dialogs_reader'['md_yaml_dialogs_reader'] at line 306: AFTER MLU_MD_DialogsDatasetReader._read_story(): story_fpath=/content/dp_minimal_demo_dir/stories-tst.md, dialogs=True, domain_knowledge=<deeppavlov.dataset_readers.md_yaml_dialogs_reader.DomainKnowledge object at 0x7f9140ee9748>, intent2slots2text={'greet': {(): [{'text': 'Hi', 'slots': []}, {'text': 'Hey', 'slots': []}, {'text': 'Hi bot', 'slots': []}, {'text': 'Hey bot', 'slots': []}, {'text': 'Hello', 'slots': []}, {'text': 'Good morning', 'slots': []}, {'text': 'hi again', 'slots': []}, {'text': 'hi folks', 'slots': []}]}, 'bye': {(): [{'text': 'goodbye', 'slots': []}, {'text': 'goodnight', 'slots': []}, {'text': 'good bye', 'slots': []}, {'text': 'good night', 'slots': []}, {'text': 'see ya', 'slots': []}, {'text': 'toodle-oo', 'slots': []}, {'text': 'bye bye', 'slots': []}, {'text': 'gotta go', 'slots': []}, {'text': 'farewell', 'slots': []}]}, 'thank': {(): [{'text': 'Thanks', 'slots': []}, {'text': 'Thank you', 'slots': []}, {'text': 'Thank you so much', 'slots': []}, {'text': 'Thanks bot', 'slots': []}, {'text': 'Thanks for that', 'slots': []}, {'text': 'cheers', 'slots': []}]}}, slot_name2text2value={}\n",
            "2020-08-03 14:32:23.273 INFO in 'deeppavlov.models.embedders.glove_embedder'['glove_embedder'] at line 52: [loading GloVe embeddings from `/root/.deeppavlov/downloads/embeddings/glove.6B.100d.txt`]\n",
            "2020-08-03 14:33:01.516 INFO in 'deeppavlov.models.go_bot.policy.policy_network'['policy_network'] at line 86: INSIDE PolicyNetwork init(). Initializing PolicyNetwork from checkpoint.\n",
            "2020-08-03 14:33:01.522 INFO in 'deeppavlov.core.models.tf_model'['tf_model'] at line 51: [loading model from /content/dp_minimal_demo_dir/model/policy]\n"
          ],
          "name": "stderr"
        },
        {
          "output_type": "stream",
          "text": [
            "INFO:tensorflow:Restoring parameters from /content/dp_minimal_demo_dir/model/policy\n"
          ],
          "name": "stdout"
        }
      ]
    },
    {
      "cell_type": "code",
      "metadata": {
        "id": "G2hpK1G0x0gu",
        "colab_type": "code",
        "colab": {
          "base_uri": "https://localhost:8080/",
          "height": 34
        },
        "outputId": "55b091d5-f07e-40e1-b5f3-5280020c4897"
      },
      "source": [
        "bot.reset()\n",
        "\n",
        "bot([\"start\"])\n",
        "bot([\"Hi\"])[0][0].actions_tuple"
      ],
      "execution_count": 11,
      "outputs": [
        {
          "output_type": "execute_result",
          "data": {
            "text/plain": [
              "('utter_greet',)"
            ]
          },
          "metadata": {
            "tags": []
          },
          "execution_count": 11
        }
      ]
    },
    {
      "cell_type": "markdown",
      "metadata": {
        "id": "fbUm-l73Yvry",
        "colab_type": "text"
      },
      "source": [
        "Our bot answers with \"greeting\" to our \"greeting\". What will it respond to some grateful message?"
      ]
    },
    {
      "cell_type": "code",
      "metadata": {
        "id": "hKQ86ESXx9GV",
        "colab_type": "code",
        "colab": {
          "base_uri": "https://localhost:8080/",
          "height": 34
        },
        "outputId": "fe779663-f2cd-4677-b4cc-b99ab3eb2823"
      },
      "source": [
        "bot.reset()\n",
        "bot([\"start\"])\n",
        "\n",
        "bot([\"Thanks!\"])[0][0].actions_tuple"
      ],
      "execution_count": 12,
      "outputs": [
        {
          "output_type": "execute_result",
          "data": {
            "text/plain": [
              "('utter_noworries',)"
            ]
          },
          "metadata": {
            "tags": []
          },
          "execution_count": 12
        }
      ]
    },
    {
      "cell_type": "markdown",
      "metadata": {
        "id": "qvkEelaEY3kb",
        "colab_type": "text"
      },
      "source": [
        "Ok, \"no woories\" is an expected response. Let's check if the \"goodbye\" user message is processed with the corresponding reply:"
      ]
    },
    {
      "cell_type": "code",
      "metadata": {
        "id": "aM9xCLMs5Ke5",
        "colab_type": "code",
        "colab": {}
      },
      "source": [
        "bot.reset()\n",
        "bot([\"start\"])\n",
        "\n",
        "bot_response_actions = bot([\"bye\"])[0][0].actions_tuple"
      ],
      "execution_count": 13,
      "outputs": []
    },
    {
      "cell_type": "code",
      "metadata": {
        "id": "qhqKmwbO6K1v",
        "colab_type": "code",
        "colab": {
          "base_uri": "https://localhost:8080/",
          "height": 35
        },
        "outputId": "919e5b8e-c591-45f0-e9ad-8a6d6f215af1"
      },
      "source": [
        "import yaml\n",
        "\n",
        "system_utter2text = yaml.load(open(\"domain.yml\"))[\"responses\"]\n",
        "system_utter2text[bot_response_actions[0]][0][\"text\"]"
      ],
      "execution_count": 14,
      "outputs": [
        {
          "output_type": "execute_result",
          "data": {
            "application/vnd.google.colaboratory.intrinsic+json": {
              "type": "string"
            },
            "text/plain": [
              "'Bye!'"
            ]
          },
          "metadata": {
            "tags": []
          },
          "execution_count": 14
        }
      ]
    },
    {
      "cell_type": "markdown",
      "metadata": {
        "id": "UJUFlCjinRsP",
        "colab_type": "text"
      },
      "source": [
        "## More Realistic Demo: Using the DSTSC Schema-Guided Dialogue Dataset"
      ]
    },
    {
      "cell_type": "code",
      "metadata": {
        "id": "ilk5KxbBi98e",
        "colab_type": "code",
        "colab": {}
      },
      "source": [
        "DP_BIG_DEMO_DIR = \"dp_big_demo_dir\"  # we'll work in this directory"
      ],
      "execution_count": 15,
      "outputs": []
    },
    {
      "cell_type": "code",
      "metadata": {
        "id": "JqCEXGyEjDrQ",
        "colab_type": "code",
        "colab": {
          "base_uri": "https://localhost:8080/",
          "height": 51
        },
        "outputId": "2137f378-abe6-46b3-9a07-442416b140fb"
      },
      "source": [
        "import os\n",
        "\n",
        "%cd /content\n",
        "os.makedirs(DP_BIG_DEMO_DIR, exist_ok=True)\n",
        "%cd {DP_BIG_DEMO_DIR}"
      ],
      "execution_count": 16,
      "outputs": [
        {
          "output_type": "stream",
          "text": [
            "/content\n",
            "/content/dp_big_demo_dir\n"
          ],
          "name": "stdout"
        }
      ]
    },
    {
      "cell_type": "markdown",
      "metadata": {
        "id": "rQ4q33U39pMp",
        "colab_type": "text"
      },
      "source": [
        "Now let's take the [Schema](https://github.com/google-research-datasets/dstc8-schema-guided-dialogue) dataset.\n",
        "\n",
        "This dataset is consisted of lots of annotated human-machine conversations \n",
        "crowdsourced in an [M2M manner](https://arxiv.org/pdf/1801.04871.pdf) for various real-life scenarios and domains.\n",
        "\n",
        "One of such domains is a *Restaurants* domain. \n",
        "Here, users are searhing for restaurants or booking tables via interacting with the bot.  \n",
        "We will proceed with training a restaurants-assistant bot using the Restaurants domain data provided in the Schema dataset.\n",
        "\n"
      ]
    },
    {
      "cell_type": "markdown",
      "metadata": {
        "id": "2XcO1oe7nw7G",
        "colab_type": "text"
      },
      "source": [
        "##### Download the data used in this tutorial section"
      ]
    },
    {
      "cell_type": "code",
      "metadata": {
        "id": "QSgoo2CSk0Ku",
        "colab_type": "code",
        "colab": {
          "base_uri": "https://localhost:8080/",
          "height": 204
        },
        "outputId": "33679c56-a0b3-47ad-eba9-d3e0bd1b133c"
      },
      "source": [
        "# let's get the mentioned converted Schema-dataset subset\n",
        "!wget http://files.deeppavlov.ai/datasets/schema_resto_md_yaml.tar.gz\n",
        "!tar -zxf schema_resto_md_yaml.tar.gz "
      ],
      "execution_count": 17,
      "outputs": [
        {
          "output_type": "stream",
          "text": [
            "--2020-08-03 14:33:02--  http://files.deeppavlov.ai/datasets/schema_resto_md_yaml.tar.gz\n",
            "Resolving files.deeppavlov.ai (files.deeppavlov.ai)... 93.175.29.74\n",
            "Connecting to files.deeppavlov.ai (files.deeppavlov.ai)|93.175.29.74|:80... connected.\n",
            "HTTP request sent, awaiting response... 200 OK\n",
            "Length: 98725 (96K) [application/octet-stream]\n",
            "Saving to: ‘schema_resto_md_yaml.tar.gz’\n",
            "\n",
            "schema_resto_md_yam 100%[===================>]  96.41K   274KB/s    in 0.4s    \n",
            "\n",
            "2020-08-03 14:33:03 (274 KB/s) - ‘schema_resto_md_yaml.tar.gz’ saved [98725/98725]\n",
            "\n"
          ],
          "name": "stdout"
        }
      ]
    },
    {
      "cell_type": "markdown",
      "metadata": {
        "id": "r-3Jz_IpA9hg",
        "colab_type": "text"
      },
      "source": [
        "##### Technical note on the origin of DSL-files used to train the restaurants bot."
      ]
    },
    {
      "cell_type": "markdown",
      "metadata": {
        "id": "inqqJqYoBOzX",
        "colab_type": "text"
      },
      "source": [
        "Schema dataset is provided in DSTC (dialogue state tracking challenge) challenge format.\n",
        "The DSTC format has its own advantages: it is very detailed and allows for various additional info to be incorporated to the dataset itsef.\n",
        "\n",
        "But the DSL we're illustrating here is different from the DSTC: it is meant to be neat and minimalistic.\n",
        "\n",
        "So we did perform an automatical conversion of the Schema Restaurants dataset from the DSTC format to RASA DSL."
      ]
    },
    {
      "cell_type": "markdown",
      "metadata": {
        "id": "UPvxwuuMC6EY",
        "colab_type": "text"
      },
      "source": [
        "### The role of additional NLU components in the workflow of building the Goal-Oriented Bot"
      ]
    },
    {
      "cell_type": "markdown",
      "metadata": {
        "id": "Bt8LSQtQDDci",
        "colab_type": "text"
      },
      "source": [
        "When building the go-bot with deeppavlov one usually has to set up some NLU components.\n",
        "All of these separate NLU components are optional by design in the go-bot pipeline except the slotfiller.\n",
        "\n",
        "The goal of slotfiller is to recognize and normalize slot-filling info provided in user's utterances. \n",
        "That is, if user is informing the system with an explicit interest in booking a table *in London*, \n",
        "it is the goal of the slotfiller component to understand that the `city` slot information was explicitely provided. \n",
        "\n",
        "We're providing the pretrained slotfiller for the dataset. See [the small notebook](todo/link) on how the slotfiller was trained."
      ]
    },
    {
      "cell_type": "markdown",
      "metadata": {
        "id": "VpidkMrqYX9B",
        "colab_type": "text"
      },
      "source": [
        "#### [TODO УБРАТЬ СЕКЦИЮ!!!] Training an additional slotfiller component for goal-oriented bot"
      ]
    },
    {
      "cell_type": "code",
      "metadata": {
        "id": "mX9yLwjoltDU",
        "colab_type": "code",
        "colab": {}
      },
      "source": [
        "from deeppavlov import configs, train_model\n",
        "from deeppavlov.core.common.file import read_json\n",
        "\n",
        "ner_config = read_json(configs.ner.ner_conll2003)\n",
        "ner_config[\"dataset_reader\"] = read_json(configs.ner.ner_few_shot_ru)[\"dataset_reader\"]\n",
        "ner_config[\"dataset_reader\"][\"data_path\"] = \"schema_resto_md_yaml/ner\""
      ],
      "execution_count": 18,
      "outputs": []
    },
    {
      "cell_type": "code",
      "metadata": {
        "id": "5lAcp-Rxm-IX",
        "colab_type": "code",
        "colab": {
          "base_uri": "https://localhost:8080/",
          "height": 122
        },
        "outputId": "a07104d9-7e2d-4556-a103-f492523b8892"
      },
      "source": [
        "!python -m deeppavlov download ner_conll2003\n",
        "!rm -r /root/.deeppavlov/models/ner_conll2003  # remove cached models if present"
      ],
      "execution_count": 19,
      "outputs": [
        {
          "output_type": "stream",
          "text": [
            "2020-08-03 14:33:06.630 INFO in 'deeppavlov.core.common.file'['file'] at line 32: Interpreting 'ner_conll2003' as '/usr/local/lib/python3.6/dist-packages/deeppavlov/configs/ner/ner_conll2003.json'\n",
            "2020-08-03 14:33:08.205 INFO in 'deeppavlov.download'['download'] at line 132: Skipped http://files.deeppavlov.ai/embeddings/glove.6B.100d.txt?config=ner_conll2003 download because of matching hashes\n",
            "2020-08-03 14:33:08.745 INFO in 'deeppavlov.core.data.utils'['utils'] at line 94: Downloading from http://files.deeppavlov.ai/deeppavlov_data/ner_conll2003_v5.tar.gz?config=ner_conll2003 to /root/.deeppavlov/ner_conll2003_v5.tar.gz\n",
            "100% 3.12M/3.12M [00:01<00:00, 2.00MB/s]\n",
            "2020-08-03 14:33:10.682 INFO in 'deeppavlov.core.data.utils'['utils'] at line 269: Extracting /root/.deeppavlov/ner_conll2003_v5.tar.gz archive into /root/.deeppavlov/models\n"
          ],
          "name": "stdout"
        }
      ]
    },
    {
      "cell_type": "code",
      "metadata": {
        "id": "bXaU3YlNbS2f",
        "colab_type": "code",
        "colab": {
          "base_uri": "https://localhost:8080/",
          "height": 51
        },
        "outputId": "04c1ae33-afe1-4b30-d428-0368788119d8"
      },
      "source": [
        "# if rm says that these files are missing that's ok \n",
        "#   (we just deleted the whole folder containing these paths ^__^)\n",
        "# but if they're present we should delete them \n",
        "# cause they're checkpoints of some other model\n",
        "!rm /root/.deeppavlov/models/ner_conll2003/{checkpoint,model_no_pos}*"
      ],
      "execution_count": 20,
      "outputs": [
        {
          "output_type": "stream",
          "text": [
            "rm: cannot remove '/root/.deeppavlov/models/ner_conll2003/checkpoint*': No such file or directory\n",
            "rm: cannot remove '/root/.deeppavlov/models/ner_conll2003/model_no_pos*': No such file or directory\n"
          ],
          "name": "stdout"
        }
      ]
    },
    {
      "cell_type": "code",
      "metadata": {
        "id": "Ui1hyjUxbU6g",
        "colab_type": "code",
        "colab": {
          "base_uri": "https://localhost:8080/",
          "height": 1000
        },
        "outputId": "04399a87-14ff-45cb-b2c7-53b21519182c"
      },
      "source": [
        "ner_model = train_model(ner_config)"
      ],
      "execution_count": 21,
      "outputs": [
        {
          "output_type": "stream",
          "text": [
            "2020-08-03 14:33:14.965 INFO in 'deeppavlov.core.data.simple_vocab'['simple_vocab'] at line 101: [saving vocabulary to /root/.deeppavlov/models/ner_conll2003/word.dict]\n",
            "2020-08-03 14:33:14.973 INFO in 'deeppavlov.core.data.simple_vocab'['simple_vocab'] at line 101: [saving vocabulary to /root/.deeppavlov/models/ner_conll2003/tag.dict]\n",
            "2020-08-03 14:33:14.993 INFO in 'deeppavlov.core.data.simple_vocab'['simple_vocab'] at line 101: [saving vocabulary to /root/.deeppavlov/models/ner_conll2003/char.dict]\n",
            "2020-08-03 14:33:14.997 INFO in 'deeppavlov.models.embedders.glove_embedder'['glove_embedder'] at line 52: [loading GloVe embeddings from `/root/.deeppavlov/downloads/embeddings/glove.6B.100d.txt`]\n"
          ],
          "name": "stderr"
        },
        {
          "output_type": "stream",
          "text": [
            "WARNING:tensorflow:From /usr/local/lib/python3.6/dist-packages/deeppavlov/models/ner/network.py:96: The name tf.set_random_seed is deprecated. Please use tf.compat.v1.set_random_seed instead.\n",
            "\n",
            "WARNING:tensorflow:From /usr/local/lib/python3.6/dist-packages/deeppavlov/core/layers/tf_layers.py:420: conv2d (from tensorflow.python.layers.convolutional) is deprecated and will be removed in a future version.\n",
            "Instructions for updating:\n",
            "Use `tf.keras.layers.Conv2D` instead.\n",
            "WARNING:tensorflow:From /usr/local/lib/python3.6/dist-packages/deeppavlov/models/ner/network.py:211: to_int32 (from tensorflow.python.ops.math_ops) is deprecated and will be removed in a future version.\n",
            "Instructions for updating:\n",
            "Use `tf.cast` instead.\n",
            "WARNING:tensorflow:From /usr/local/lib/python3.6/dist-packages/deeppavlov/core/common/check_gpu.py:29: The name tf.ConfigProto is deprecated. Please use tf.compat.v1.ConfigProto instead.\n",
            "\n"
          ],
          "name": "stdout"
        },
        {
          "output_type": "stream",
          "text": [
            "2020-08-03 14:33:52.274 INFO in 'deeppavlov.core.layers.tf_layers'['tf_layers'] at line 760: \n",
            "Warning! tf.contrib.cudnn_rnn.CudnnCompatibleLSTMCell is used. It is okay for inference mode, but if you train your model with this cell it could NOT be used with tf.contrib.cudnn_rnn.CudnnLSTMCell later. \n"
          ],
          "name": "stderr"
        },
        {
          "output_type": "stream",
          "text": [
            "WARNING:tensorflow:\n",
            "The TensorFlow contrib module will not be included in TensorFlow 2.0.\n",
            "For more information, please see:\n",
            "  * https://github.com/tensorflow/community/blob/master/rfcs/20180907-contrib-sunset.md\n",
            "  * https://github.com/tensorflow/addons\n",
            "  * https://github.com/tensorflow/io (for I/O related ops)\n",
            "If you depend on functionality not listed there, please file an issue.\n",
            "\n",
            "WARNING:tensorflow:From /usr/local/lib/python3.6/dist-packages/deeppavlov/core/layers/tf_layers.py:733: MultiRNNCell.__init__ (from tensorflow.python.ops.rnn_cell_impl) is deprecated and will be removed in a future version.\n",
            "Instructions for updating:\n",
            "This class is equivalent as tf.keras.layers.StackedRNNCells, and will be replaced by that in Tensorflow 2.0.\n",
            "WARNING:tensorflow:From /usr/local/lib/python3.6/dist-packages/deeppavlov/core/layers/tf_layers.py:865: calling reverse_sequence (from tensorflow.python.ops.array_ops) with seq_dim is deprecated and will be removed in a future version.\n",
            "Instructions for updating:\n",
            "seq_dim is deprecated, use seq_axis instead\n",
            "WARNING:tensorflow:From /usr/local/lib/python3.6/dist-packages/tensorflow_core/python/util/deprecation.py:507: calling reverse_sequence (from tensorflow.python.ops.array_ops) with batch_dim is deprecated and will be removed in a future version.\n",
            "Instructions for updating:\n",
            "batch_dim is deprecated, use batch_axis instead\n"
          ],
          "name": "stdout"
        },
        {
          "output_type": "stream",
          "text": [
            "2020-08-03 14:33:52.375 INFO in 'deeppavlov.core.layers.tf_layers'['tf_layers'] at line 760: \n",
            "Warning! tf.contrib.cudnn_rnn.CudnnCompatibleLSTMCell is used. It is okay for inference mode, but if you train your model with this cell it could NOT be used with tf.contrib.cudnn_rnn.CudnnLSTMCell later. \n",
            "2020-08-03 14:33:55.33 DEBUG in 'deeppavlov.metrics.fmeasure'['fmeasure'] at line 397: processed 1424 tokens with 32 phrases; found: 1049 phrases; correct: 0.\n",
            "\n",
            "precision:  0.00%; recall:  0.00%; FB1:  0.00\n",
            "\n",
            "\tcity: precision:  0.00%; recall:  0.00%; F1:  0.00 85\n",
            "\n",
            "\tcuisine: precision:  0.00%; recall:  0.00%; F1:  0.00 227\n",
            "\n",
            "\tdate: precision:  0.00%; recall:  0.00%; F1:  0.00 248\n",
            "\n",
            "\tprice_range: precision:  0.00%; recall:  0.00%; F1:  0.00 127\n",
            "\n",
            "\trestaurant_name: precision:  0.00%; recall:  0.00%; F1:  0.00 34\n",
            "\n",
            "\ttime: precision:  0.00%; recall:  0.00%; F1:  0.00 328\n",
            "\n",
            "\n",
            "2020-08-03 14:33:55.37 INFO in 'deeppavlov.core.trainers.nn_trainer'['nn_trainer'] at line 198: Initial best ner_f1 of 0\n"
          ],
          "name": "stderr"
        },
        {
          "output_type": "stream",
          "text": [
            "{\"valid\": {\"eval_examples_count\": 214, \"metrics\": {\"ner_f1\": 0, \"ner_token_f1\": 1.3761}, \"time_spent\": \"0:00:01\", \"epochs_done\": 0, \"batches_seen\": 0, \"train_examples_seen\": 0, \"impatience\": 0, \"patience_limit\": 7}}\n"
          ],
          "name": "stdout"
        },
        {
          "output_type": "stream",
          "text": [
            "2020-08-03 14:33:59.698 DEBUG in 'deeppavlov.metrics.fmeasure'['fmeasure'] at line 397: processed 410 tokens with 9 phrases; found: 2 phrases; correct: 0.\n",
            "\n",
            "precision:  50.00%; recall:  11.11%; FB1:  18.18\n",
            "\n",
            "\tcity: precision:  0.00%; recall:  0.00%; F1:  0.00 0\n",
            "\n",
            "\tcuisine: precision:  0.00%; recall:  0.00%; F1:  0.00 0\n",
            "\n",
            "\trestaurant_name: precision:  0.00%; recall:  0.00%; F1:  0.00 0\n",
            "\n",
            "\ttime: precision:  50.00%; recall:  33.33%; F1:  40.00 2\n",
            "\n",
            "\n"
          ],
          "name": "stderr"
        },
        {
          "output_type": "stream",
          "text": [
            "{\"train\": {\"eval_examples_count\": 64, \"metrics\": {\"ner_f1\": 18.1818, \"ner_token_f1\": 23.5294}, \"time_spent\": \"0:00:06\", \"epochs_done\": 1, \"batches_seen\": 14, \"train_examples_seen\": 854, \"learning_rate\": 0.01, \"momentum\": null, \"loss\": 3.843539902142116}}\n"
          ],
          "name": "stdout"
        },
        {
          "output_type": "stream",
          "text": [
            "2020-08-03 14:34:00.2 DEBUG in 'deeppavlov.metrics.fmeasure'['fmeasure'] at line 397: processed 1424 tokens with 32 phrases; found: 1 phrases; correct: 0.\n",
            "\n",
            "precision:  0.00%; recall:  0.00%; FB1:  0.00\n",
            "\n",
            "\tcity: precision:  0.00%; recall:  0.00%; F1:  0.00 0\n",
            "\n",
            "\tcuisine: precision:  0.00%; recall:  0.00%; F1:  0.00 0\n",
            "\n",
            "\tdate: precision:  0.00%; recall:  0.00%; F1:  0.00 0\n",
            "\n",
            "\tprice_range: precision:  0.00%; recall:  0.00%; F1:  0.00 0\n",
            "\n",
            "\trestaurant_name: precision:  0.00%; recall:  0.00%; F1:  0.00 0\n",
            "\n",
            "\ttime: precision:  0.00%; recall:  0.00%; F1:  0.00 1\n",
            "\n",
            "\n",
            "2020-08-03 14:34:00.6 INFO in 'deeppavlov.core.trainers.nn_trainer'['nn_trainer'] at line 211: Did not improve on the ner_f1 of 0\n"
          ],
          "name": "stderr"
        },
        {
          "output_type": "stream",
          "text": [
            "{\"valid\": {\"eval_examples_count\": 214, \"metrics\": {\"ner_f1\": 0, \"ner_token_f1\": 3.8462}, \"time_spent\": \"0:00:06\", \"epochs_done\": 1, \"batches_seen\": 14, \"train_examples_seen\": 854, \"impatience\": 1, \"patience_limit\": 7}}\n",
            "WARNING:tensorflow:From /usr/local/lib/python3.6/dist-packages/deeppavlov/core/models/tf_model.py:211: The name tf.assign is deprecated. Please use tf.compat.v1.assign instead.\n",
            "\n"
          ],
          "name": "stdout"
        },
        {
          "output_type": "stream",
          "text": [
            "2020-08-03 14:34:03.826 DEBUG in 'deeppavlov.metrics.fmeasure'['fmeasure'] at line 397: processed 459 tokens with 14 phrases; found: 8 phrases; correct: 0.\n",
            "\n",
            "precision:  25.00%; recall:  14.29%; FB1:  18.18\n",
            "\n",
            "\tcity: precision:  0.00%; recall:  0.00%; F1:  0.00 0\n",
            "\n",
            "\tcuisine: precision:  0.00%; recall:  0.00%; F1:  0.00 0\n",
            "\n",
            "\tdate: precision:  0.00%; recall:  0.00%; F1:  0.00 0\n",
            "\n",
            "\trestaurant_name: precision:  0.00%; recall:  0.00%; F1:  0.00 0\n",
            "\n",
            "\ttime: precision:  25.00%; recall:  50.00%; F1:  33.33 8\n",
            "\n",
            "\n"
          ],
          "name": "stderr"
        },
        {
          "output_type": "stream",
          "text": [
            "{\"train\": {\"eval_examples_count\": 64, \"metrics\": {\"ner_f1\": 18.1818, \"ner_token_f1\": 25.8065}, \"time_spent\": \"0:00:10\", \"epochs_done\": 2, \"batches_seen\": 28, \"train_examples_seen\": 1708, \"learning_rate\": 0.01, \"momentum\": null, \"loss\": 1.2898311487265997}}\n"
          ],
          "name": "stdout"
        },
        {
          "output_type": "stream",
          "text": [
            "2020-08-03 14:34:04.130 DEBUG in 'deeppavlov.metrics.fmeasure'['fmeasure'] at line 397: processed 1424 tokens with 32 phrases; found: 17 phrases; correct: 0.\n",
            "\n",
            "precision:  5.88%; recall:  3.12%; FB1:  4.08\n",
            "\n",
            "\tcity: precision:  0.00%; recall:  0.00%; F1:  0.00 0\n",
            "\n",
            "\tcuisine: precision:  0.00%; recall:  0.00%; F1:  0.00 0\n",
            "\n",
            "\tdate: precision:  0.00%; recall:  0.00%; F1:  0.00 0\n",
            "\n",
            "\tprice_range: precision:  0.00%; recall:  0.00%; F1:  0.00 0\n",
            "\n",
            "\trestaurant_name: precision:  0.00%; recall:  0.00%; F1:  0.00 0\n",
            "\n",
            "\ttime: precision:  5.88%; recall:  33.33%; F1:  10.00 17\n",
            "\n",
            "\n",
            "2020-08-03 14:34:04.134 INFO in 'deeppavlov.core.trainers.nn_trainer'['nn_trainer'] at line 206: Improved best ner_f1 of 4.0816\n",
            "2020-08-03 14:34:04.138 INFO in 'deeppavlov.core.trainers.nn_trainer'['nn_trainer'] at line 208: Saving model\n",
            "2020-08-03 14:34:04.141 INFO in 'deeppavlov.core.models.tf_model'['tf_model'] at line 75: [saving model to /root/.deeppavlov/models/ner_conll2003/model_no_pos]\n"
          ],
          "name": "stderr"
        },
        {
          "output_type": "stream",
          "text": [
            "{\"valid\": {\"eval_examples_count\": 214, \"metrics\": {\"ner_f1\": 4.0816, \"ner_token_f1\": 14.7059}, \"time_spent\": \"0:00:10\", \"epochs_done\": 2, \"batches_seen\": 28, \"train_examples_seen\": 1708, \"impatience\": 0, \"patience_limit\": 7}}\n"
          ],
          "name": "stdout"
        },
        {
          "output_type": "stream",
          "text": [
            "2020-08-03 14:34:08.325 DEBUG in 'deeppavlov.metrics.fmeasure'['fmeasure'] at line 397: processed 377 tokens with 12 phrases; found: 10 phrases; correct: 0.\n",
            "\n",
            "precision:  30.00%; recall:  25.00%; FB1:  27.27\n",
            "\n",
            "\tcity: precision:  0.00%; recall:  0.00%; F1:  0.00 1\n",
            "\n",
            "\tcuisine: precision:  0.00%; recall:  0.00%; F1:  0.00 3\n",
            "\n",
            "\tdate: precision:  0.00%; recall:  0.00%; F1:  0.00 0\n",
            "\n",
            "\trestaurant_name: precision:  0.00%; recall:  0.00%; F1:  0.00 0\n",
            "\n",
            "\ttime: precision:  50.00%; recall:  75.00%; F1:  60.00 6\n",
            "\n",
            "\n"
          ],
          "name": "stderr"
        },
        {
          "output_type": "stream",
          "text": [
            "{\"train\": {\"eval_examples_count\": 64, \"metrics\": {\"ner_f1\": 27.2727, \"ner_token_f1\": 47.0588}, \"time_spent\": \"0:00:14\", \"epochs_done\": 3, \"batches_seen\": 42, \"train_examples_seen\": 2562, \"learning_rate\": 0.01, \"momentum\": null, \"loss\": 0.8711844874279839}}\n"
          ],
          "name": "stdout"
        },
        {
          "output_type": "stream",
          "text": [
            "2020-08-03 14:34:08.624 DEBUG in 'deeppavlov.metrics.fmeasure'['fmeasure'] at line 397: processed 1424 tokens with 32 phrases; found: 14 phrases; correct: 0.\n",
            "\n",
            "precision:  28.57%; recall:  12.50%; FB1:  17.39\n",
            "\n",
            "\tcity: precision:  66.67%; recall:  25.00%; F1:  36.36 3\n",
            "\n",
            "\tcuisine: precision:  0.00%; recall:  0.00%; F1:  0.00 6\n",
            "\n",
            "\tdate: precision:  0.00%; recall:  0.00%; F1:  0.00 0\n",
            "\n",
            "\tprice_range: precision:  0.00%; recall:  0.00%; F1:  0.00 0\n",
            "\n",
            "\trestaurant_name: precision:  0.00%; recall:  0.00%; F1:  0.00 0\n",
            "\n",
            "\ttime: precision:  40.00%; recall:  66.67%; F1:  50.00 5\n",
            "\n",
            "\n",
            "2020-08-03 14:34:08.627 INFO in 'deeppavlov.core.trainers.nn_trainer'['nn_trainer'] at line 206: Improved best ner_f1 of 17.3913\n",
            "2020-08-03 14:34:08.629 INFO in 'deeppavlov.core.trainers.nn_trainer'['nn_trainer'] at line 208: Saving model\n",
            "2020-08-03 14:34:08.631 INFO in 'deeppavlov.core.models.tf_model'['tf_model'] at line 75: [saving model to /root/.deeppavlov/models/ner_conll2003/model_no_pos]\n"
          ],
          "name": "stderr"
        },
        {
          "output_type": "stream",
          "text": [
            "{\"valid\": {\"eval_examples_count\": 214, \"metrics\": {\"ner_f1\": 17.3913, \"ner_token_f1\": 33.3333}, \"time_spent\": \"0:00:15\", \"epochs_done\": 3, \"batches_seen\": 42, \"train_examples_seen\": 2562, \"impatience\": 0, \"patience_limit\": 7}}\n"
          ],
          "name": "stdout"
        },
        {
          "output_type": "stream",
          "text": [
            "2020-08-03 14:34:12.811 DEBUG in 'deeppavlov.metrics.fmeasure'['fmeasure'] at line 397: processed 380 tokens with 8 phrases; found: 12 phrases; correct: 0.\n",
            "\n",
            "precision:  33.33%; recall:  50.00%; FB1:  40.00\n",
            "\n",
            "\tcity: precision:  20.00%; recall:  33.33%; F1:  25.00 5\n",
            "\n",
            "\tcuisine: precision:  66.67%; recall:  100.00%; F1:  80.00 3\n",
            "\n",
            "\ttime: precision:  25.00%; recall:  33.33%; F1:  28.57 4\n",
            "\n",
            "\n"
          ],
          "name": "stderr"
        },
        {
          "output_type": "stream",
          "text": [
            "{\"train\": {\"eval_examples_count\": 64, \"metrics\": {\"ner_f1\": 40.0, \"ner_token_f1\": 90.9091}, \"time_spent\": \"0:00:19\", \"epochs_done\": 4, \"batches_seen\": 56, \"train_examples_seen\": 3416, \"learning_rate\": 0.01, \"momentum\": null, \"loss\": 0.51848801864045}}\n"
          ],
          "name": "stdout"
        },
        {
          "output_type": "stream",
          "text": [
            "2020-08-03 14:34:13.106 DEBUG in 'deeppavlov.metrics.fmeasure'['fmeasure'] at line 397: processed 1424 tokens with 32 phrases; found: 34 phrases; correct: 0.\n",
            "\n",
            "precision:  44.12%; recall:  46.88%; FB1:  45.45\n",
            "\n",
            "\tcity: precision:  50.00%; recall:  75.00%; F1:  60.00 12\n",
            "\n",
            "\tcuisine: precision:  41.18%; recall:  53.85%; F1:  46.67 17\n",
            "\n",
            "\tdate: precision:  0.00%; recall:  0.00%; F1:  0.00 0\n",
            "\n",
            "\tprice_range: precision:  0.00%; recall:  0.00%; F1:  0.00 0\n",
            "\n",
            "\trestaurant_name: precision:  0.00%; recall:  0.00%; F1:  0.00 0\n",
            "\n",
            "\ttime: precision:  40.00%; recall:  66.67%; F1:  50.00 5\n",
            "\n",
            "\n",
            "2020-08-03 14:34:13.110 INFO in 'deeppavlov.core.trainers.nn_trainer'['nn_trainer'] at line 206: Improved best ner_f1 of 45.4545\n",
            "2020-08-03 14:34:13.111 INFO in 'deeppavlov.core.trainers.nn_trainer'['nn_trainer'] at line 208: Saving model\n",
            "2020-08-03 14:34:13.113 INFO in 'deeppavlov.core.models.tf_model'['tf_model'] at line 75: [saving model to /root/.deeppavlov/models/ner_conll2003/model_no_pos]\n"
          ],
          "name": "stderr"
        },
        {
          "output_type": "stream",
          "text": [
            "{\"valid\": {\"eval_examples_count\": 214, \"metrics\": {\"ner_f1\": 45.4545, \"ner_token_f1\": 74.1573}, \"time_spent\": \"0:00:19\", \"epochs_done\": 4, \"batches_seen\": 56, \"train_examples_seen\": 3416, \"impatience\": 0, \"patience_limit\": 7}}\n"
          ],
          "name": "stdout"
        },
        {
          "output_type": "stream",
          "text": [
            "2020-08-03 14:34:17.480 DEBUG in 'deeppavlov.metrics.fmeasure'['fmeasure'] at line 397: processed 450 tokens with 8 phrases; found: 9 phrases; correct: 0.\n",
            "\n",
            "precision:  55.56%; recall:  62.50%; FB1:  58.82\n",
            "\n",
            "\tcity: precision:  100.00%; recall:  100.00%; F1:  100.00 1\n",
            "\n",
            "\tcuisine: precision:  100.00%; recall:  100.00%; F1:  100.00 3\n",
            "\n",
            "\tdate: precision:  0.00%; recall:  0.00%; F1:  0.00 1\n",
            "\n",
            "\tprice_range: precision:  0.00%; recall:  0.00%; F1:  0.00 0\n",
            "\n",
            "\trestaurant_name: precision:  0.00%; recall:  0.00%; F1:  0.00 0\n",
            "\n",
            "\ttime: precision:  25.00%; recall:  50.00%; F1:  33.33 4\n",
            "\n",
            "\n"
          ],
          "name": "stderr"
        },
        {
          "output_type": "stream",
          "text": [
            "{\"train\": {\"eval_examples_count\": 64, \"metrics\": {\"ner_f1\": 58.8235, \"ner_token_f1\": 76.1905}, \"time_spent\": \"0:00:23\", \"epochs_done\": 5, \"batches_seen\": 70, \"train_examples_seen\": 4270, \"learning_rate\": 0.01, \"momentum\": null, \"loss\": 0.3003089288582227}}\n"
          ],
          "name": "stdout"
        },
        {
          "output_type": "stream",
          "text": [
            "2020-08-03 14:34:17.793 DEBUG in 'deeppavlov.metrics.fmeasure'['fmeasure'] at line 397: processed 1424 tokens with 32 phrases; found: 31 phrases; correct: 0.\n",
            "\n",
            "precision:  58.06%; recall:  56.25%; FB1:  57.14\n",
            "\n",
            "\tcity: precision:  100.00%; recall:  87.50%; F1:  93.33 7\n",
            "\n",
            "\tcuisine: precision:  40.00%; recall:  61.54%; F1:  48.48 20\n",
            "\n",
            "\tdate: precision:  0.00%; recall:  0.00%; F1:  0.00 0\n",
            "\n",
            "\tprice_range: precision:  0.00%; recall:  0.00%; F1:  0.00 0\n",
            "\n",
            "\trestaurant_name: precision:  0.00%; recall:  0.00%; F1:  0.00 0\n",
            "\n",
            "\ttime: precision:  75.00%; recall:  100.00%; F1:  85.71 4\n",
            "\n",
            "\n",
            "2020-08-03 14:34:17.797 INFO in 'deeppavlov.core.trainers.nn_trainer'['nn_trainer'] at line 206: Improved best ner_f1 of 57.1429\n",
            "2020-08-03 14:34:17.799 INFO in 'deeppavlov.core.trainers.nn_trainer'['nn_trainer'] at line 208: Saving model\n",
            "2020-08-03 14:34:17.800 INFO in 'deeppavlov.core.models.tf_model'['tf_model'] at line 75: [saving model to /root/.deeppavlov/models/ner_conll2003/model_no_pos]\n"
          ],
          "name": "stderr"
        },
        {
          "output_type": "stream",
          "text": [
            "{\"valid\": {\"eval_examples_count\": 214, \"metrics\": {\"ner_f1\": 57.1429, \"ner_token_f1\": 77.4194}, \"time_spent\": \"0:00:24\", \"epochs_done\": 5, \"batches_seen\": 70, \"train_examples_seen\": 4270, \"impatience\": 0, \"patience_limit\": 7}}\n"
          ],
          "name": "stdout"
        },
        {
          "output_type": "stream",
          "text": [
            "2020-08-03 14:34:22.76 DEBUG in 'deeppavlov.metrics.fmeasure'['fmeasure'] at line 397: processed 439 tokens with 8 phrases; found: 8 phrases; correct: 0.\n",
            "\n",
            "precision:  100.00%; recall:  100.00%; FB1:  100.00\n",
            "\n",
            "\tcuisine: precision:  100.00%; recall:  100.00%; F1:  100.00 2\n",
            "\n",
            "\tprice_range: precision:  100.00%; recall:  100.00%; F1:  100.00 1\n",
            "\n",
            "\ttime: precision:  100.00%; recall:  100.00%; F1:  100.00 5\n",
            "\n",
            "\n"
          ],
          "name": "stderr"
        },
        {
          "output_type": "stream",
          "text": [
            "{\"train\": {\"eval_examples_count\": 64, \"metrics\": {\"ner_f1\": 100.0, \"ner_token_f1\": 100.0}, \"time_spent\": \"0:00:28\", \"epochs_done\": 6, \"batches_seen\": 84, \"train_examples_seen\": 5124, \"learning_rate\": 0.01, \"momentum\": null, \"loss\": 0.1755477792716452}}\n"
          ],
          "name": "stdout"
        },
        {
          "output_type": "stream",
          "text": [
            "2020-08-03 14:34:22.385 DEBUG in 'deeppavlov.metrics.fmeasure'['fmeasure'] at line 397: processed 1424 tokens with 32 phrases; found: 35 phrases; correct: 0.\n",
            "\n",
            "precision:  71.43%; recall:  78.12%; FB1:  74.63\n",
            "\n",
            "\tcity: precision:  100.00%; recall:  100.00%; F1:  100.00 8\n",
            "\n",
            "\tcuisine: precision:  52.63%; recall:  76.92%; F1:  62.50 19\n",
            "\n",
            "\tdate: precision:  0.00%; recall:  0.00%; F1:  0.00 0\n",
            "\n",
            "\tprice_range: precision:  100.00%; recall:  100.00%; F1:  100.00 4\n",
            "\n",
            "\trestaurant_name: precision:  0.00%; recall:  0.00%; F1:  0.00 0\n",
            "\n",
            "\ttime: precision:  75.00%; recall:  100.00%; F1:  85.71 4\n",
            "\n",
            "\n",
            "2020-08-03 14:34:22.391 INFO in 'deeppavlov.core.trainers.nn_trainer'['nn_trainer'] at line 206: Improved best ner_f1 of 74.6269\n",
            "2020-08-03 14:34:22.393 INFO in 'deeppavlov.core.trainers.nn_trainer'['nn_trainer'] at line 208: Saving model\n",
            "2020-08-03 14:34:22.394 INFO in 'deeppavlov.core.models.tf_model'['tf_model'] at line 75: [saving model to /root/.deeppavlov/models/ner_conll2003/model_no_pos]\n"
          ],
          "name": "stderr"
        },
        {
          "output_type": "stream",
          "text": [
            "{\"valid\": {\"eval_examples_count\": 214, \"metrics\": {\"ner_f1\": 74.6269, \"ner_token_f1\": 88.0}, \"time_spent\": \"0:00:28\", \"epochs_done\": 6, \"batches_seen\": 84, \"train_examples_seen\": 5124, \"impatience\": 0, \"patience_limit\": 7}}\n"
          ],
          "name": "stdout"
        },
        {
          "output_type": "stream",
          "text": [
            "2020-08-03 14:34:26.728 DEBUG in 'deeppavlov.metrics.fmeasure'['fmeasure'] at line 397: processed 382 tokens with 12 phrases; found: 12 phrases; correct: 0.\n",
            "\n",
            "precision:  91.67%; recall:  91.67%; FB1:  91.67\n",
            "\n",
            "\tcity: precision:  100.00%; recall:  100.00%; F1:  100.00 5\n",
            "\n",
            "\tcuisine: precision:  100.00%; recall:  100.00%; F1:  100.00 1\n",
            "\n",
            "\tdate: precision:  0.00%; recall:  0.00%; F1:  0.00 1\n",
            "\n",
            "\ttime: precision:  100.00%; recall:  100.00%; F1:  100.00 5\n",
            "\n",
            "\n"
          ],
          "name": "stderr"
        },
        {
          "output_type": "stream",
          "text": [
            "{\"train\": {\"eval_examples_count\": 64, \"metrics\": {\"ner_f1\": 91.6667, \"ner_token_f1\": 97.561}, \"time_spent\": \"0:00:33\", \"epochs_done\": 7, \"batches_seen\": 98, \"train_examples_seen\": 5978, \"learning_rate\": 0.01, \"momentum\": null, \"loss\": 0.10546248672263962}}\n"
          ],
          "name": "stdout"
        },
        {
          "output_type": "stream",
          "text": [
            "2020-08-03 14:34:27.42 DEBUG in 'deeppavlov.metrics.fmeasure'['fmeasure'] at line 397: processed 1424 tokens with 32 phrases; found: 34 phrases; correct: 0.\n",
            "\n",
            "precision:  67.65%; recall:  71.88%; FB1:  69.70\n",
            "\n",
            "\tcity: precision:  87.50%; recall:  87.50%; F1:  87.50 8\n",
            "\n",
            "\tcuisine: precision:  52.94%; recall:  69.23%; F1:  60.00 17\n",
            "\n",
            "\tdate: precision:  100.00%; recall:  100.00%; F1:  100.00 1\n",
            "\n",
            "\tprice_range: precision:  100.00%; recall:  100.00%; F1:  100.00 4\n",
            "\n",
            "\trestaurant_name: precision:  0.00%; recall:  0.00%; F1:  0.00 0\n",
            "\n",
            "\ttime: precision:  50.00%; recall:  66.67%; F1:  57.14 4\n",
            "\n",
            "\n",
            "2020-08-03 14:34:27.47 INFO in 'deeppavlov.core.trainers.nn_trainer'['nn_trainer'] at line 211: Did not improve on the ner_f1 of 74.6269\n"
          ],
          "name": "stderr"
        },
        {
          "output_type": "stream",
          "text": [
            "{\"valid\": {\"eval_examples_count\": 214, \"metrics\": {\"ner_f1\": 69.697, \"ner_token_f1\": 84.7826}, \"time_spent\": \"0:00:33\", \"epochs_done\": 7, \"batches_seen\": 98, \"train_examples_seen\": 5978, \"impatience\": 1, \"patience_limit\": 7}}\n"
          ],
          "name": "stdout"
        },
        {
          "output_type": "stream",
          "text": [
            "2020-08-03 14:34:30.817 DEBUG in 'deeppavlov.metrics.fmeasure'['fmeasure'] at line 397: processed 396 tokens with 9 phrases; found: 9 phrases; correct: 0.\n",
            "\n",
            "precision:  100.00%; recall:  100.00%; FB1:  100.00\n",
            "\n",
            "\tcity: precision:  100.00%; recall:  100.00%; F1:  100.00 6\n",
            "\n",
            "\ttime: precision:  100.00%; recall:  100.00%; F1:  100.00 3\n",
            "\n",
            "\n"
          ],
          "name": "stderr"
        },
        {
          "output_type": "stream",
          "text": [
            "{\"train\": {\"eval_examples_count\": 64, \"metrics\": {\"ner_f1\": 100.0, \"ner_token_f1\": 100.0}, \"time_spent\": \"0:00:37\", \"epochs_done\": 8, \"batches_seen\": 112, \"train_examples_seen\": 6832, \"learning_rate\": 0.01, \"momentum\": null, \"loss\": 0.09281538291335371}}\n"
          ],
          "name": "stdout"
        },
        {
          "output_type": "stream",
          "text": [
            "2020-08-03 14:34:31.112 DEBUG in 'deeppavlov.metrics.fmeasure'['fmeasure'] at line 397: processed 1424 tokens with 32 phrases; found: 30 phrases; correct: 0.\n",
            "\n",
            "precision:  63.33%; recall:  59.38%; FB1:  61.29\n",
            "\n",
            "\tcity: precision:  77.78%; recall:  87.50%; F1:  82.35 9\n",
            "\n",
            "\tcuisine: precision:  60.00%; recall:  46.15%; F1:  52.17 10\n",
            "\n",
            "\tdate: precision:  0.00%; recall:  0.00%; F1:  0.00 0\n",
            "\n",
            "\tprice_range: precision:  66.67%; recall:  100.00%; F1:  80.00 6\n",
            "\n",
            "\trestaurant_name: precision:  0.00%; recall:  0.00%; F1:  0.00 0\n",
            "\n",
            "\ttime: precision:  40.00%; recall:  66.67%; F1:  50.00 5\n",
            "\n",
            "\n",
            "2020-08-03 14:34:31.115 INFO in 'deeppavlov.core.trainers.nn_trainer'['nn_trainer'] at line 211: Did not improve on the ner_f1 of 74.6269\n"
          ],
          "name": "stderr"
        },
        {
          "output_type": "stream",
          "text": [
            "{\"valid\": {\"eval_examples_count\": 214, \"metrics\": {\"ner_f1\": 61.2903, \"ner_token_f1\": 71.1111}, \"time_spent\": \"0:00:37\", \"epochs_done\": 8, \"batches_seen\": 112, \"train_examples_seen\": 6832, \"impatience\": 2, \"patience_limit\": 7}}\n"
          ],
          "name": "stdout"
        },
        {
          "output_type": "stream",
          "text": [
            "2020-08-03 14:34:34.935 DEBUG in 'deeppavlov.metrics.fmeasure'['fmeasure'] at line 397: processed 387 tokens with 7 phrases; found: 9 phrases; correct: 0.\n",
            "\n",
            "precision:  66.67%; recall:  85.71%; FB1:  75.00\n",
            "\n",
            "\tcity: precision:  100.00%; recall:  100.00%; F1:  100.00 2\n",
            "\n",
            "\tcuisine: precision:  100.00%; recall:  100.00%; F1:  100.00 2\n",
            "\n",
            "\tdate: precision:  0.00%; recall:  0.00%; F1:  0.00 1\n",
            "\n",
            "\tprice_range: precision:  100.00%; recall:  100.00%; F1:  100.00 2\n",
            "\n",
            "\ttime: precision:  0.00%; recall:  0.00%; F1:  0.00 2\n",
            "\n",
            "\n"
          ],
          "name": "stderr"
        },
        {
          "output_type": "stream",
          "text": [
            "{\"train\": {\"eval_examples_count\": 64, \"metrics\": {\"ner_f1\": 75.0, \"ner_token_f1\": 84.2105}, \"time_spent\": \"0:00:41\", \"epochs_done\": 9, \"batches_seen\": 126, \"train_examples_seen\": 7686, \"learning_rate\": 0.01, \"momentum\": null, \"loss\": 0.06966676902292031}}\n"
          ],
          "name": "stdout"
        },
        {
          "output_type": "stream",
          "text": [
            "2020-08-03 14:34:35.253 DEBUG in 'deeppavlov.metrics.fmeasure'['fmeasure'] at line 397: processed 1424 tokens with 32 phrases; found: 36 phrases; correct: 0.\n",
            "\n",
            "precision:  66.67%; recall:  75.00%; FB1:  70.59\n",
            "\n",
            "\tcity: precision:  87.50%; recall:  87.50%; F1:  87.50 8\n",
            "\n",
            "\tcuisine: precision:  52.63%; recall:  76.92%; F1:  62.50 19\n",
            "\n",
            "\tdate: precision:  50.00%; recall:  100.00%; F1:  66.67 2\n",
            "\n",
            "\tprice_range: precision:  100.00%; recall:  100.00%; F1:  100.00 4\n",
            "\n",
            "\trestaurant_name: precision:  0.00%; recall:  0.00%; F1:  0.00 0\n",
            "\n",
            "\ttime: precision:  66.67%; recall:  66.67%; F1:  66.67 3\n",
            "\n",
            "\n",
            "2020-08-03 14:34:35.258 INFO in 'deeppavlov.core.trainers.nn_trainer'['nn_trainer'] at line 211: Did not improve on the ner_f1 of 74.6269\n"
          ],
          "name": "stderr"
        },
        {
          "output_type": "stream",
          "text": [
            "{\"valid\": {\"eval_examples_count\": 214, \"metrics\": {\"ner_f1\": 70.5882, \"ner_token_f1\": 80.8511}, \"time_spent\": \"0:00:41\", \"epochs_done\": 9, \"batches_seen\": 126, \"train_examples_seen\": 7686, \"impatience\": 3, \"patience_limit\": 7}}\n"
          ],
          "name": "stdout"
        },
        {
          "output_type": "stream",
          "text": [
            "2020-08-03 14:34:39.180 DEBUG in 'deeppavlov.metrics.fmeasure'['fmeasure'] at line 397: processed 418 tokens with 11 phrases; found: 11 phrases; correct: 0.\n",
            "\n",
            "precision:  90.91%; recall:  90.91%; FB1:  90.91\n",
            "\n",
            "\tcity: precision:  100.00%; recall:  100.00%; F1:  100.00 2\n",
            "\n",
            "\tcuisine: precision:  100.00%; recall:  100.00%; F1:  100.00 2\n",
            "\n",
            "\tdate: precision:  0.00%; recall:  0.00%; F1:  0.00 0\n",
            "\n",
            "\trestaurant_name: precision:  100.00%; recall:  100.00%; F1:  100.00 1\n",
            "\n",
            "\ttime: precision:  83.33%; recall:  100.00%; F1:  90.91 6\n",
            "\n",
            "\n"
          ],
          "name": "stderr"
        },
        {
          "output_type": "stream",
          "text": [
            "{\"train\": {\"eval_examples_count\": 64, \"metrics\": {\"ner_f1\": 90.9091, \"ner_token_f1\": 92.8571}, \"time_spent\": \"0:00:45\", \"epochs_done\": 10, \"batches_seen\": 140, \"train_examples_seen\": 8540, \"learning_rate\": 0.01, \"momentum\": null, \"loss\": 0.07980765282575573}}\n"
          ],
          "name": "stdout"
        },
        {
          "output_type": "stream",
          "text": [
            "2020-08-03 14:34:39.474 DEBUG in 'deeppavlov.metrics.fmeasure'['fmeasure'] at line 397: processed 1424 tokens with 32 phrases; found: 27 phrases; correct: 0.\n",
            "\n",
            "precision:  66.67%; recall:  56.25%; FB1:  61.02\n",
            "\n",
            "\tcity: precision:  75.00%; recall:  75.00%; F1:  75.00 8\n",
            "\n",
            "\tcuisine: precision:  50.00%; recall:  38.46%; F1:  43.48 10\n",
            "\n",
            "\tdate: precision:  0.00%; recall:  0.00%; F1:  0.00 0\n",
            "\n",
            "\tprice_range: precision:  100.00%; recall:  100.00%; F1:  100.00 4\n",
            "\n",
            "\trestaurant_name: precision:  0.00%; recall:  0.00%; F1:  0.00 0\n",
            "\n",
            "\ttime: precision:  60.00%; recall:  100.00%; F1:  75.00 5\n",
            "\n",
            "\n",
            "2020-08-03 14:34:39.479 INFO in 'deeppavlov.core.trainers.nn_trainer'['nn_trainer'] at line 211: Did not improve on the ner_f1 of 74.6269\n"
          ],
          "name": "stderr"
        },
        {
          "output_type": "stream",
          "text": [
            "{\"valid\": {\"eval_examples_count\": 214, \"metrics\": {\"ner_f1\": 61.0169, \"ner_token_f1\": 74.1573}, \"time_spent\": \"0:00:45\", \"epochs_done\": 10, \"batches_seen\": 140, \"train_examples_seen\": 8540, \"impatience\": 4, \"patience_limit\": 7}}\n"
          ],
          "name": "stdout"
        },
        {
          "output_type": "stream",
          "text": [
            "2020-08-03 14:34:43.68 DEBUG in 'deeppavlov.metrics.fmeasure'['fmeasure'] at line 397: processed 378 tokens with 7 phrases; found: 7 phrases; correct: 0.\n",
            "\n",
            "precision:  100.00%; recall:  100.00%; FB1:  100.00\n",
            "\n",
            "\tcity: precision:  100.00%; recall:  100.00%; F1:  100.00 1\n",
            "\n",
            "\tprice_range: precision:  100.00%; recall:  100.00%; F1:  100.00 1\n",
            "\n",
            "\ttime: precision:  100.00%; recall:  100.00%; F1:  100.00 5\n",
            "\n",
            "\n"
          ],
          "name": "stderr"
        },
        {
          "output_type": "stream",
          "text": [
            "{\"train\": {\"eval_examples_count\": 64, \"metrics\": {\"ner_f1\": 100.0, \"ner_token_f1\": 100.0}, \"time_spent\": \"0:00:49\", \"epochs_done\": 11, \"batches_seen\": 154, \"train_examples_seen\": 9394, \"learning_rate\": 0.01, \"momentum\": null, \"loss\": 0.0568856783710154}}\n"
          ],
          "name": "stdout"
        },
        {
          "output_type": "stream",
          "text": [
            "2020-08-03 14:34:43.377 DEBUG in 'deeppavlov.metrics.fmeasure'['fmeasure'] at line 397: processed 1424 tokens with 32 phrases; found: 32 phrases; correct: 0.\n",
            "\n",
            "precision:  84.38%; recall:  84.38%; FB1:  84.38\n",
            "\n",
            "\tcity: precision:  87.50%; recall:  87.50%; F1:  87.50 8\n",
            "\n",
            "\tcuisine: precision:  86.67%; recall:  100.00%; F1:  92.86 15\n",
            "\n",
            "\tdate: precision:  100.00%; recall:  100.00%; F1:  100.00 1\n",
            "\n",
            "\tprice_range: precision:  100.00%; recall:  100.00%; F1:  100.00 4\n",
            "\n",
            "\trestaurant_name: precision:  0.00%; recall:  0.00%; F1:  0.00 1\n",
            "\n",
            "\ttime: precision:  66.67%; recall:  66.67%; F1:  66.67 3\n",
            "\n",
            "\n",
            "2020-08-03 14:34:43.381 INFO in 'deeppavlov.core.trainers.nn_trainer'['nn_trainer'] at line 206: Improved best ner_f1 of 84.375\n",
            "2020-08-03 14:34:43.384 INFO in 'deeppavlov.core.trainers.nn_trainer'['nn_trainer'] at line 208: Saving model\n",
            "2020-08-03 14:34:43.385 INFO in 'deeppavlov.core.models.tf_model'['tf_model'] at line 75: [saving model to /root/.deeppavlov/models/ner_conll2003/model_no_pos]\n"
          ],
          "name": "stderr"
        },
        {
          "output_type": "stream",
          "text": [
            "{\"valid\": {\"eval_examples_count\": 214, \"metrics\": {\"ner_f1\": 84.375, \"ner_token_f1\": 83.871}, \"time_spent\": \"0:00:49\", \"epochs_done\": 11, \"batches_seen\": 154, \"train_examples_seen\": 9394, \"impatience\": 0, \"patience_limit\": 7}}\n"
          ],
          "name": "stdout"
        },
        {
          "output_type": "stream",
          "text": [
            "2020-08-03 14:34:47.524 DEBUG in 'deeppavlov.metrics.fmeasure'['fmeasure'] at line 397: processed 457 tokens with 8 phrases; found: 8 phrases; correct: 0.\n",
            "\n",
            "precision:  100.00%; recall:  100.00%; FB1:  100.00\n",
            "\n",
            "\tcity: precision:  100.00%; recall:  100.00%; F1:  100.00 3\n",
            "\n",
            "\tcuisine: precision:  100.00%; recall:  100.00%; F1:  100.00 2\n",
            "\n",
            "\ttime: precision:  100.00%; recall:  100.00%; F1:  100.00 3\n",
            "\n",
            "\n"
          ],
          "name": "stderr"
        },
        {
          "output_type": "stream",
          "text": [
            "{\"train\": {\"eval_examples_count\": 64, \"metrics\": {\"ner_f1\": 100.0, \"ner_token_f1\": 100.0}, \"time_spent\": \"0:00:53\", \"epochs_done\": 12, \"batches_seen\": 168, \"train_examples_seen\": 10248, \"learning_rate\": 0.01, \"momentum\": null, \"loss\": 0.040984418629834964}}\n"
          ],
          "name": "stdout"
        },
        {
          "output_type": "stream",
          "text": [
            "2020-08-03 14:34:47.832 DEBUG in 'deeppavlov.metrics.fmeasure'['fmeasure'] at line 397: processed 1424 tokens with 32 phrases; found: 36 phrases; correct: 0.\n",
            "\n",
            "precision:  66.67%; recall:  75.00%; FB1:  70.59\n",
            "\n",
            "\tcity: precision:  100.00%; recall:  87.50%; F1:  93.33 7\n",
            "\n",
            "\tcuisine: precision:  50.00%; recall:  76.92%; F1:  60.61 20\n",
            "\n",
            "\tdate: precision:  100.00%; recall:  100.00%; F1:  100.00 1\n",
            "\n",
            "\tprice_range: precision:  100.00%; recall:  100.00%; F1:  100.00 4\n",
            "\n",
            "\trestaurant_name: precision:  0.00%; recall:  0.00%; F1:  0.00 0\n",
            "\n",
            "\ttime: precision:  50.00%; recall:  66.67%; F1:  57.14 4\n",
            "\n",
            "\n",
            "2020-08-03 14:34:47.835 INFO in 'deeppavlov.core.trainers.nn_trainer'['nn_trainer'] at line 211: Did not improve on the ner_f1 of 84.375\n"
          ],
          "name": "stderr"
        },
        {
          "output_type": "stream",
          "text": [
            "{\"valid\": {\"eval_examples_count\": 214, \"metrics\": {\"ner_f1\": 70.5882, \"ner_token_f1\": 82.1053}, \"time_spent\": \"0:00:54\", \"epochs_done\": 12, \"batches_seen\": 168, \"train_examples_seen\": 10248, \"impatience\": 1, \"patience_limit\": 7}}\n"
          ],
          "name": "stdout"
        },
        {
          "output_type": "stream",
          "text": [
            "2020-08-03 14:34:51.568 DEBUG in 'deeppavlov.metrics.fmeasure'['fmeasure'] at line 397: processed 493 tokens with 8 phrases; found: 8 phrases; correct: 0.\n",
            "\n",
            "precision:  100.00%; recall:  100.00%; FB1:  100.00\n",
            "\n",
            "\tcity: precision:  100.00%; recall:  100.00%; F1:  100.00 1\n",
            "\n",
            "\tcuisine: precision:  100.00%; recall:  100.00%; F1:  100.00 1\n",
            "\n",
            "\tprice_range: precision:  100.00%; recall:  100.00%; F1:  100.00 1\n",
            "\n",
            "\ttime: precision:  100.00%; recall:  100.00%; F1:  100.00 5\n",
            "\n",
            "\n"
          ],
          "name": "stderr"
        },
        {
          "output_type": "stream",
          "text": [
            "{\"train\": {\"eval_examples_count\": 64, \"metrics\": {\"ner_f1\": 100.0, \"ner_token_f1\": 100.0}, \"time_spent\": \"0:00:58\", \"epochs_done\": 13, \"batches_seen\": 182, \"train_examples_seen\": 11102, \"learning_rate\": 0.01, \"momentum\": null, \"loss\": 0.038808677112683654}}\n"
          ],
          "name": "stdout"
        },
        {
          "output_type": "stream",
          "text": [
            "2020-08-03 14:34:51.864 DEBUG in 'deeppavlov.metrics.fmeasure'['fmeasure'] at line 397: processed 1424 tokens with 32 phrases; found: 33 phrases; correct: 0.\n",
            "\n",
            "precision:  84.85%; recall:  87.50%; FB1:  86.15\n",
            "\n",
            "\tcity: precision:  100.00%; recall:  100.00%; F1:  100.00 8\n",
            "\n",
            "\tcuisine: precision:  81.25%; recall:  100.00%; F1:  89.66 16\n",
            "\n",
            "\tdate: precision:  100.00%; recall:  100.00%; F1:  100.00 1\n",
            "\n",
            "\tprice_range: precision:  100.00%; recall:  100.00%; F1:  100.00 4\n",
            "\n",
            "\trestaurant_name: precision:  0.00%; recall:  0.00%; F1:  0.00 0\n",
            "\n",
            "\ttime: precision:  50.00%; recall:  66.67%; F1:  57.14 4\n",
            "\n",
            "\n",
            "2020-08-03 14:34:51.867 INFO in 'deeppavlov.core.trainers.nn_trainer'['nn_trainer'] at line 206: Improved best ner_f1 of 86.1538\n",
            "2020-08-03 14:34:51.869 INFO in 'deeppavlov.core.trainers.nn_trainer'['nn_trainer'] at line 208: Saving model\n",
            "2020-08-03 14:34:51.872 INFO in 'deeppavlov.core.models.tf_model'['tf_model'] at line 75: [saving model to /root/.deeppavlov/models/ner_conll2003/model_no_pos]\n"
          ],
          "name": "stderr"
        },
        {
          "output_type": "stream",
          "text": [
            "{\"valid\": {\"eval_examples_count\": 214, \"metrics\": {\"ner_f1\": 86.1538, \"ner_token_f1\": 85.4167}, \"time_spent\": \"0:00:58\", \"epochs_done\": 13, \"batches_seen\": 182, \"train_examples_seen\": 11102, \"impatience\": 0, \"patience_limit\": 7}}\n"
          ],
          "name": "stdout"
        },
        {
          "output_type": "stream",
          "text": [
            "2020-08-03 14:34:56.41 DEBUG in 'deeppavlov.metrics.fmeasure'['fmeasure'] at line 397: processed 398 tokens with 6 phrases; found: 6 phrases; correct: 0.\n",
            "\n",
            "precision:  100.00%; recall:  100.00%; FB1:  100.00\n",
            "\n",
            "\tcity: precision:  100.00%; recall:  100.00%; F1:  100.00 1\n",
            "\n",
            "\tcuisine: precision:  100.00%; recall:  100.00%; F1:  100.00 2\n",
            "\n",
            "\tprice_range: precision:  100.00%; recall:  100.00%; F1:  100.00 2\n",
            "\n",
            "\ttime: precision:  100.00%; recall:  100.00%; F1:  100.00 1\n",
            "\n",
            "\n"
          ],
          "name": "stderr"
        },
        {
          "output_type": "stream",
          "text": [
            "{\"train\": {\"eval_examples_count\": 64, \"metrics\": {\"ner_f1\": 100.0, \"ner_token_f1\": 100.0}, \"time_spent\": \"0:01:02\", \"epochs_done\": 14, \"batches_seen\": 196, \"train_examples_seen\": 11956, \"learning_rate\": 0.01, \"momentum\": null, \"loss\": 0.04144899710081518}}\n"
          ],
          "name": "stdout"
        },
        {
          "output_type": "stream",
          "text": [
            "2020-08-03 14:34:56.362 DEBUG in 'deeppavlov.metrics.fmeasure'['fmeasure'] at line 397: processed 1424 tokens with 32 phrases; found: 34 phrases; correct: 0.\n",
            "\n",
            "precision:  82.35%; recall:  87.50%; FB1:  84.85\n",
            "\n",
            "\tcity: precision:  87.50%; recall:  87.50%; F1:  87.50 8\n",
            "\n",
            "\tcuisine: precision:  86.67%; recall:  100.00%; F1:  92.86 15\n",
            "\n",
            "\tdate: precision:  100.00%; recall:  100.00%; F1:  100.00 1\n",
            "\n",
            "\tprice_range: precision:  100.00%; recall:  100.00%; F1:  100.00 4\n",
            "\n",
            "\trestaurant_name: precision:  0.00%; recall:  0.00%; F1:  0.00 0\n",
            "\n",
            "\ttime: precision:  50.00%; recall:  100.00%; F1:  66.67 6\n",
            "\n",
            "\n",
            "2020-08-03 14:34:56.367 INFO in 'deeppavlov.core.trainers.nn_trainer'['nn_trainer'] at line 211: Did not improve on the ner_f1 of 86.1538\n"
          ],
          "name": "stderr"
        },
        {
          "output_type": "stream",
          "text": [
            "{\"valid\": {\"eval_examples_count\": 214, \"metrics\": {\"ner_f1\": 84.8485, \"ner_token_f1\": 86.5385}, \"time_spent\": \"0:01:02\", \"epochs_done\": 14, \"batches_seen\": 196, \"train_examples_seen\": 11956, \"impatience\": 1, \"patience_limit\": 7}}\n"
          ],
          "name": "stdout"
        },
        {
          "output_type": "stream",
          "text": [
            "2020-08-03 14:35:00.379 DEBUG in 'deeppavlov.metrics.fmeasure'['fmeasure'] at line 397: processed 385 tokens with 5 phrases; found: 5 phrases; correct: 0.\n",
            "\n",
            "precision:  100.00%; recall:  100.00%; FB1:  100.00\n",
            "\n",
            "\tcuisine: precision:  100.00%; recall:  100.00%; F1:  100.00 1\n",
            "\n",
            "\ttime: precision:  100.00%; recall:  100.00%; F1:  100.00 4\n",
            "\n",
            "\n"
          ],
          "name": "stderr"
        },
        {
          "output_type": "stream",
          "text": [
            "{\"train\": {\"eval_examples_count\": 64, \"metrics\": {\"ner_f1\": 100.0, \"ner_token_f1\": 100.0}, \"time_spent\": \"0:01:06\", \"epochs_done\": 15, \"batches_seen\": 210, \"train_examples_seen\": 12810, \"learning_rate\": 0.01, \"momentum\": null, \"loss\": 0.051928071571247916}}\n"
          ],
          "name": "stdout"
        },
        {
          "output_type": "stream",
          "text": [
            "2020-08-03 14:35:00.681 DEBUG in 'deeppavlov.metrics.fmeasure'['fmeasure'] at line 397: processed 1424 tokens with 32 phrases; found: 33 phrases; correct: 0.\n",
            "\n",
            "precision:  84.85%; recall:  87.50%; FB1:  86.15\n",
            "\n",
            "\tcity: precision:  100.00%; recall:  100.00%; F1:  100.00 8\n",
            "\n",
            "\tcuisine: precision:  86.67%; recall:  100.00%; F1:  92.86 15\n",
            "\n",
            "\tdate: precision:  100.00%; recall:  100.00%; F1:  100.00 1\n",
            "\n",
            "\tprice_range: precision:  100.00%; recall:  100.00%; F1:  100.00 4\n",
            "\n",
            "\trestaurant_name: precision:  0.00%; recall:  0.00%; F1:  0.00 0\n",
            "\n",
            "\ttime: precision:  40.00%; recall:  66.67%; F1:  50.00 5\n",
            "\n",
            "\n",
            "2020-08-03 14:35:00.686 INFO in 'deeppavlov.core.trainers.nn_trainer'['nn_trainer'] at line 211: Did not improve on the ner_f1 of 86.1538\n"
          ],
          "name": "stderr"
        },
        {
          "output_type": "stream",
          "text": [
            "{\"valid\": {\"eval_examples_count\": 214, \"metrics\": {\"ner_f1\": 86.1538, \"ner_token_f1\": 86.8687}, \"time_spent\": \"0:01:07\", \"epochs_done\": 15, \"batches_seen\": 210, \"train_examples_seen\": 12810, \"impatience\": 2, \"patience_limit\": 7}}\n"
          ],
          "name": "stdout"
        },
        {
          "output_type": "stream",
          "text": [
            "2020-08-03 14:35:04.772 DEBUG in 'deeppavlov.metrics.fmeasure'['fmeasure'] at line 397: processed 384 tokens with 7 phrases; found: 7 phrases; correct: 0.\n",
            "\n",
            "precision:  100.00%; recall:  100.00%; FB1:  100.00\n",
            "\n",
            "\tcuisine: precision:  100.00%; recall:  100.00%; F1:  100.00 4\n",
            "\n",
            "\ttime: precision:  100.00%; recall:  100.00%; F1:  100.00 3\n",
            "\n",
            "\n"
          ],
          "name": "stderr"
        },
        {
          "output_type": "stream",
          "text": [
            "{\"train\": {\"eval_examples_count\": 64, \"metrics\": {\"ner_f1\": 100.0, \"ner_token_f1\": 100.0}, \"time_spent\": \"0:01:11\", \"epochs_done\": 16, \"batches_seen\": 224, \"train_examples_seen\": 13664, \"learning_rate\": 0.01, \"momentum\": null, \"loss\": 0.020503681976281638}}\n"
          ],
          "name": "stdout"
        },
        {
          "output_type": "stream",
          "text": [
            "2020-08-03 14:35:05.87 DEBUG in 'deeppavlov.metrics.fmeasure'['fmeasure'] at line 397: processed 1424 tokens with 32 phrases; found: 34 phrases; correct: 0.\n",
            "\n",
            "precision:  79.41%; recall:  84.38%; FB1:  81.82\n",
            "\n",
            "\tcity: precision:  88.89%; recall:  100.00%; F1:  94.12 9\n",
            "\n",
            "\tcuisine: precision:  81.25%; recall:  100.00%; F1:  89.66 16\n",
            "\n",
            "\tdate: precision:  0.00%; recall:  0.00%; F1:  0.00 1\n",
            "\n",
            "\tprice_range: precision:  100.00%; recall:  100.00%; F1:  100.00 4\n",
            "\n",
            "\trestaurant_name: precision:  0.00%; recall:  0.00%; F1:  0.00 0\n",
            "\n",
            "\ttime: precision:  50.00%; recall:  66.67%; F1:  57.14 4\n",
            "\n",
            "\n",
            "2020-08-03 14:35:05.90 INFO in 'deeppavlov.core.trainers.nn_trainer'['nn_trainer'] at line 211: Did not improve on the ner_f1 of 86.1538\n"
          ],
          "name": "stderr"
        },
        {
          "output_type": "stream",
          "text": [
            "{\"valid\": {\"eval_examples_count\": 214, \"metrics\": {\"ner_f1\": 81.8182, \"ner_token_f1\": 84.5361}, \"time_spent\": \"0:01:11\", \"epochs_done\": 16, \"batches_seen\": 224, \"train_examples_seen\": 13664, \"impatience\": 3, \"patience_limit\": 7}}\n"
          ],
          "name": "stdout"
        },
        {
          "output_type": "stream",
          "text": [
            "2020-08-03 14:35:09.29 DEBUG in 'deeppavlov.metrics.fmeasure'['fmeasure'] at line 397: processed 375 tokens with 11 phrases; found: 11 phrases; correct: 0.\n",
            "\n",
            "precision:  100.00%; recall:  100.00%; FB1:  100.00\n",
            "\n",
            "\tcity: precision:  100.00%; recall:  100.00%; F1:  100.00 2\n",
            "\n",
            "\tcuisine: precision:  100.00%; recall:  100.00%; F1:  100.00 3\n",
            "\n",
            "\tprice_range: precision:  100.00%; recall:  100.00%; F1:  100.00 1\n",
            "\n",
            "\ttime: precision:  100.00%; recall:  100.00%; F1:  100.00 5\n",
            "\n",
            "\n"
          ],
          "name": "stderr"
        },
        {
          "output_type": "stream",
          "text": [
            "{\"train\": {\"eval_examples_count\": 64, \"metrics\": {\"ner_f1\": 100.0, \"ner_token_f1\": 100.0}, \"time_spent\": \"0:01:15\", \"epochs_done\": 17, \"batches_seen\": 238, \"train_examples_seen\": 14518, \"learning_rate\": 0.01, \"momentum\": null, \"loss\": 0.012593871880588787}}\n"
          ],
          "name": "stdout"
        },
        {
          "output_type": "stream",
          "text": [
            "2020-08-03 14:35:09.351 DEBUG in 'deeppavlov.metrics.fmeasure'['fmeasure'] at line 397: processed 1424 tokens with 32 phrases; found: 35 phrases; correct: 0.\n",
            "\n",
            "precision:  68.57%; recall:  75.00%; FB1:  71.64\n",
            "\n",
            "\tcity: precision:  100.00%; recall:  100.00%; F1:  100.00 8\n",
            "\n",
            "\tcuisine: precision:  52.94%; recall:  69.23%; F1:  60.00 17\n",
            "\n",
            "\tdate: precision:  100.00%; recall:  100.00%; F1:  100.00 1\n",
            "\n",
            "\tprice_range: precision:  100.00%; recall:  100.00%; F1:  100.00 4\n",
            "\n",
            "\trestaurant_name: precision:  0.00%; recall:  0.00%; F1:  0.00 0\n",
            "\n",
            "\ttime: precision:  40.00%; recall:  66.67%; F1:  50.00 5\n",
            "\n",
            "\n",
            "2020-08-03 14:35:09.355 INFO in 'deeppavlov.core.trainers.nn_trainer'['nn_trainer'] at line 211: Did not improve on the ner_f1 of 86.1538\n"
          ],
          "name": "stderr"
        },
        {
          "output_type": "stream",
          "text": [
            "{\"valid\": {\"eval_examples_count\": 214, \"metrics\": {\"ner_f1\": 71.6418, \"ner_token_f1\": 86.3158}, \"time_spent\": \"0:01:15\", \"epochs_done\": 17, \"batches_seen\": 238, \"train_examples_seen\": 14518, \"impatience\": 4, \"patience_limit\": 7}}\n"
          ],
          "name": "stdout"
        },
        {
          "output_type": "stream",
          "text": [
            "2020-08-03 14:35:13.189 DEBUG in 'deeppavlov.metrics.fmeasure'['fmeasure'] at line 397: processed 431 tokens with 7 phrases; found: 7 phrases; correct: 0.\n",
            "\n",
            "precision:  100.00%; recall:  100.00%; FB1:  100.00\n",
            "\n",
            "\tcity: precision:  100.00%; recall:  100.00%; F1:  100.00 2\n",
            "\n",
            "\tcuisine: precision:  100.00%; recall:  100.00%; F1:  100.00 1\n",
            "\n",
            "\trestaurant_name: precision:  100.00%; recall:  100.00%; F1:  100.00 1\n",
            "\n",
            "\ttime: precision:  100.00%; recall:  100.00%; F1:  100.00 3\n",
            "\n",
            "\n"
          ],
          "name": "stderr"
        },
        {
          "output_type": "stream",
          "text": [
            "{\"train\": {\"eval_examples_count\": 64, \"metrics\": {\"ner_f1\": 100.0, \"ner_token_f1\": 100.0}, \"time_spent\": \"0:01:19\", \"epochs_done\": 18, \"batches_seen\": 252, \"train_examples_seen\": 15372, \"learning_rate\": 0.01, \"momentum\": null, \"loss\": 0.010418353722863165}}\n"
          ],
          "name": "stdout"
        },
        {
          "output_type": "stream",
          "text": [
            "2020-08-03 14:35:13.493 DEBUG in 'deeppavlov.metrics.fmeasure'['fmeasure'] at line 397: processed 1424 tokens with 32 phrases; found: 35 phrases; correct: 0.\n",
            "\n",
            "precision:  68.57%; recall:  75.00%; FB1:  71.64\n",
            "\n",
            "\tcity: precision:  100.00%; recall:  100.00%; F1:  100.00 8\n",
            "\n",
            "\tcuisine: precision:  52.94%; recall:  69.23%; F1:  60.00 17\n",
            "\n",
            "\tdate: precision:  0.00%; recall:  0.00%; F1:  0.00 1\n",
            "\n",
            "\tprice_range: precision:  100.00%; recall:  100.00%; F1:  100.00 4\n",
            "\n",
            "\trestaurant_name: precision:  0.00%; recall:  0.00%; F1:  0.00 0\n",
            "\n",
            "\ttime: precision:  60.00%; recall:  100.00%; F1:  75.00 5\n",
            "\n",
            "\n",
            "2020-08-03 14:35:13.497 INFO in 'deeppavlov.core.trainers.nn_trainer'['nn_trainer'] at line 211: Did not improve on the ner_f1 of 86.1538\n",
            "2020-08-03 14:35:13.655 INFO in 'deeppavlov.core.models.lr_scheduled_model'['lr_scheduled_model'] at line 429: New learning rate dividor = 10.0\n"
          ],
          "name": "stderr"
        },
        {
          "output_type": "stream",
          "text": [
            "{\"valid\": {\"eval_examples_count\": 214, \"metrics\": {\"ner_f1\": 71.6418, \"ner_token_f1\": 88.0}, \"time_spent\": \"0:01:19\", \"epochs_done\": 18, \"batches_seen\": 252, \"train_examples_seen\": 15372, \"impatience\": 5, \"patience_limit\": 7}}\n"
          ],
          "name": "stdout"
        },
        {
          "output_type": "stream",
          "text": [
            "2020-08-03 14:35:17.624 DEBUG in 'deeppavlov.metrics.fmeasure'['fmeasure'] at line 397: processed 421 tokens with 11 phrases; found: 11 phrases; correct: 0.\n",
            "\n",
            "precision:  100.00%; recall:  100.00%; FB1:  100.00\n",
            "\n",
            "\tcity: precision:  100.00%; recall:  100.00%; F1:  100.00 3\n",
            "\n",
            "\tcuisine: precision:  100.00%; recall:  100.00%; F1:  100.00 2\n",
            "\n",
            "\tprice_range: precision:  100.00%; recall:  100.00%; F1:  100.00 1\n",
            "\n",
            "\ttime: precision:  100.00%; recall:  100.00%; F1:  100.00 5\n",
            "\n",
            "\n"
          ],
          "name": "stderr"
        },
        {
          "output_type": "stream",
          "text": [
            "{\"train\": {\"eval_examples_count\": 64, \"metrics\": {\"ner_f1\": 100.0, \"ner_token_f1\": 100.0}, \"time_spent\": \"0:01:24\", \"epochs_done\": 19, \"batches_seen\": 266, \"train_examples_seen\": 16226, \"learning_rate\": 0.001, \"momentum\": null, \"loss\": 0.004637324238761461}}\n"
          ],
          "name": "stdout"
        },
        {
          "output_type": "stream",
          "text": [
            "2020-08-03 14:35:17.938 DEBUG in 'deeppavlov.metrics.fmeasure'['fmeasure'] at line 397: processed 1424 tokens with 32 phrases; found: 35 phrases; correct: 0.\n",
            "\n",
            "precision:  68.57%; recall:  75.00%; FB1:  71.64\n",
            "\n",
            "\tcity: precision:  100.00%; recall:  100.00%; F1:  100.00 8\n",
            "\n",
            "\tcuisine: precision:  52.94%; recall:  69.23%; F1:  60.00 17\n",
            "\n",
            "\tdate: precision:  0.00%; recall:  0.00%; F1:  0.00 1\n",
            "\n",
            "\tprice_range: precision:  100.00%; recall:  100.00%; F1:  100.00 4\n",
            "\n",
            "\trestaurant_name: precision:  0.00%; recall:  0.00%; F1:  0.00 0\n",
            "\n",
            "\ttime: precision:  60.00%; recall:  100.00%; F1:  75.00 5\n",
            "\n",
            "\n",
            "2020-08-03 14:35:17.942 INFO in 'deeppavlov.core.trainers.nn_trainer'['nn_trainer'] at line 211: Did not improve on the ner_f1 of 86.1538\n"
          ],
          "name": "stderr"
        },
        {
          "output_type": "stream",
          "text": [
            "{\"valid\": {\"eval_examples_count\": 214, \"metrics\": {\"ner_f1\": 71.6418, \"ner_token_f1\": 88.8889}, \"time_spent\": \"0:01:24\", \"epochs_done\": 19, \"batches_seen\": 266, \"train_examples_seen\": 16226, \"impatience\": 6, \"patience_limit\": 7}}\n"
          ],
          "name": "stdout"
        },
        {
          "output_type": "stream",
          "text": [
            "2020-08-03 14:35:21.719 DEBUG in 'deeppavlov.metrics.fmeasure'['fmeasure'] at line 397: processed 415 tokens with 10 phrases; found: 10 phrases; correct: 0.\n",
            "\n",
            "precision:  100.00%; recall:  100.00%; FB1:  100.00\n",
            "\n",
            "\tcity: precision:  100.00%; recall:  100.00%; F1:  100.00 2\n",
            "\n",
            "\tcuisine: precision:  100.00%; recall:  100.00%; F1:  100.00 6\n",
            "\n",
            "\ttime: precision:  100.00%; recall:  100.00%; F1:  100.00 2\n",
            "\n",
            "\n"
          ],
          "name": "stderr"
        },
        {
          "output_type": "stream",
          "text": [
            "{\"train\": {\"eval_examples_count\": 64, \"metrics\": {\"ner_f1\": 100.0, \"ner_token_f1\": 100.0}, \"time_spent\": \"0:01:28\", \"epochs_done\": 20, \"batches_seen\": 280, \"train_examples_seen\": 17080, \"learning_rate\": 0.001, \"momentum\": null, \"loss\": 0.006372170556070549}}\n"
          ],
          "name": "stdout"
        },
        {
          "output_type": "stream",
          "text": [
            "2020-08-03 14:35:22.17 DEBUG in 'deeppavlov.metrics.fmeasure'['fmeasure'] at line 397: processed 1424 tokens with 32 phrases; found: 35 phrases; correct: 0.\n",
            "\n",
            "precision:  68.57%; recall:  75.00%; FB1:  71.64\n",
            "\n",
            "\tcity: precision:  100.00%; recall:  100.00%; F1:  100.00 8\n",
            "\n",
            "\tcuisine: precision:  52.94%; recall:  69.23%; F1:  60.00 17\n",
            "\n",
            "\tdate: precision:  0.00%; recall:  0.00%; F1:  0.00 1\n",
            "\n",
            "\tprice_range: precision:  100.00%; recall:  100.00%; F1:  100.00 4\n",
            "\n",
            "\trestaurant_name: precision:  0.00%; recall:  0.00%; F1:  0.00 0\n",
            "\n",
            "\ttime: precision:  60.00%; recall:  100.00%; F1:  75.00 5\n",
            "\n",
            "\n",
            "2020-08-03 14:35:22.20 INFO in 'deeppavlov.core.trainers.nn_trainer'['nn_trainer'] at line 211: Did not improve on the ner_f1 of 86.1538\n",
            "2020-08-03 14:35:22.143 INFO in 'deeppavlov.core.trainers.nn_trainer'['nn_trainer'] at line 328: Ran out of patience\n"
          ],
          "name": "stderr"
        },
        {
          "output_type": "stream",
          "text": [
            "{\"valid\": {\"eval_examples_count\": 214, \"metrics\": {\"ner_f1\": 71.6418, \"ner_token_f1\": 88.8889}, \"time_spent\": \"0:01:28\", \"epochs_done\": 20, \"batches_seen\": 280, \"train_examples_seen\": 17080, \"impatience\": 7, \"patience_limit\": 7}}\n"
          ],
          "name": "stdout"
        },
        {
          "output_type": "stream",
          "text": [
            "2020-08-03 14:35:22.430 INFO in 'deeppavlov.core.data.simple_vocab'['simple_vocab'] at line 115: [loading vocabulary from /root/.deeppavlov/models/ner_conll2003/word.dict]\n",
            "2020-08-03 14:35:22.433 INFO in 'deeppavlov.core.data.simple_vocab'['simple_vocab'] at line 115: [loading vocabulary from /root/.deeppavlov/models/ner_conll2003/tag.dict]\n",
            "2020-08-03 14:35:22.438 INFO in 'deeppavlov.core.data.simple_vocab'['simple_vocab'] at line 115: [loading vocabulary from /root/.deeppavlov/models/ner_conll2003/char.dict]\n",
            "2020-08-03 14:35:22.441 INFO in 'deeppavlov.models.embedders.glove_embedder'['glove_embedder'] at line 52: [loading GloVe embeddings from `/root/.deeppavlov/downloads/embeddings/glove.6B.100d.txt`]\n",
            "2020-08-03 14:36:00.564 INFO in 'deeppavlov.core.layers.tf_layers'['tf_layers'] at line 760: \n",
            "Warning! tf.contrib.cudnn_rnn.CudnnCompatibleLSTMCell is used. It is okay for inference mode, but if you train your model with this cell it could NOT be used with tf.contrib.cudnn_rnn.CudnnLSTMCell later. \n",
            "2020-08-03 14:36:00.652 INFO in 'deeppavlov.core.layers.tf_layers'['tf_layers'] at line 760: \n",
            "Warning! tf.contrib.cudnn_rnn.CudnnCompatibleLSTMCell is used. It is okay for inference mode, but if you train your model with this cell it could NOT be used with tf.contrib.cudnn_rnn.CudnnLSTMCell later. \n",
            "2020-08-03 14:36:02.278 INFO in 'deeppavlov.core.models.tf_model'['tf_model'] at line 51: [loading model from /root/.deeppavlov/models/ner_conll2003/model_no_pos]\n"
          ],
          "name": "stderr"
        },
        {
          "output_type": "stream",
          "text": [
            "INFO:tensorflow:Restoring parameters from /root/.deeppavlov/models/ner_conll2003/model_no_pos\n"
          ],
          "name": "stdout"
        },
        {
          "output_type": "stream",
          "text": [
            "2020-08-03 14:36:02.814 DEBUG in 'deeppavlov.metrics.fmeasure'['fmeasure'] at line 397: processed 1424 tokens with 32 phrases; found: 33 phrases; correct: 0.\n",
            "\n",
            "precision:  84.85%; recall:  87.50%; FB1:  86.15\n",
            "\n",
            "\tcity: precision:  100.00%; recall:  100.00%; F1:  100.00 8\n",
            "\n",
            "\tcuisine: precision:  81.25%; recall:  100.00%; F1:  89.66 16\n",
            "\n",
            "\tdate: precision:  100.00%; recall:  100.00%; F1:  100.00 1\n",
            "\n",
            "\tprice_range: precision:  100.00%; recall:  100.00%; F1:  100.00 4\n",
            "\n",
            "\trestaurant_name: precision:  0.00%; recall:  0.00%; F1:  0.00 0\n",
            "\n",
            "\ttime: precision:  50.00%; recall:  66.67%; F1:  57.14 4\n",
            "\n",
            "\n"
          ],
          "name": "stderr"
        },
        {
          "output_type": "stream",
          "text": [
            "{\"valid\": {\"eval_examples_count\": 214, \"metrics\": {\"ner_f1\": 86.1538, \"ner_token_f1\": 85.4167}, \"time_spent\": \"0:00:01\"}}\n"
          ],
          "name": "stdout"
        },
        {
          "output_type": "stream",
          "text": [
            "2020-08-03 14:36:03.169 DEBUG in 'deeppavlov.metrics.fmeasure'['fmeasure'] at line 397: processed 1846 tokens with 50 phrases; found: 54 phrases; correct: 0.\n",
            "\n",
            "precision:  75.93%; recall:  82.00%; FB1:  78.85\n",
            "\n",
            "\tcity: precision:  73.33%; recall:  84.62%; F1:  78.57 15\n",
            "\n",
            "\tcuisine: precision:  86.67%; recall:  92.86%; F1:  89.66 15\n",
            "\n",
            "\tdate: precision:  50.00%; recall:  33.33%; F1:  40.00 4\n",
            "\n",
            "\tprice_range: precision:  75.00%; recall:  100.00%; F1:  85.71 4\n",
            "\n",
            "\trestaurant_name: precision:  0.00%; recall:  0.00%; F1:  0.00 1\n",
            "\n",
            "\ttime: precision:  80.00%; recall:  92.31%; F1:  85.71 15\n",
            "\n",
            "\n"
          ],
          "name": "stderr"
        },
        {
          "output_type": "stream",
          "text": [
            "{\"test\": {\"eval_examples_count\": 267, \"metrics\": {\"ner_f1\": 78.8462, \"ner_token_f1\": 88.1188}, \"time_spent\": \"0:00:01\"}}\n"
          ],
          "name": "stdout"
        },
        {
          "output_type": "stream",
          "text": [
            "2020-08-03 14:36:03.459 INFO in 'deeppavlov.core.data.simple_vocab'['simple_vocab'] at line 115: [loading vocabulary from /root/.deeppavlov/models/ner_conll2003/word.dict]\n",
            "2020-08-03 14:36:03.465 INFO in 'deeppavlov.core.data.simple_vocab'['simple_vocab'] at line 115: [loading vocabulary from /root/.deeppavlov/models/ner_conll2003/tag.dict]\n",
            "2020-08-03 14:36:03.467 INFO in 'deeppavlov.core.data.simple_vocab'['simple_vocab'] at line 115: [loading vocabulary from /root/.deeppavlov/models/ner_conll2003/char.dict]\n",
            "2020-08-03 14:36:03.470 INFO in 'deeppavlov.models.embedders.glove_embedder'['glove_embedder'] at line 52: [loading GloVe embeddings from `/root/.deeppavlov/downloads/embeddings/glove.6B.100d.txt`]\n",
            "2020-08-03 14:36:40.652 INFO in 'deeppavlov.core.layers.tf_layers'['tf_layers'] at line 760: \n",
            "Warning! tf.contrib.cudnn_rnn.CudnnCompatibleLSTMCell is used. It is okay for inference mode, but if you train your model with this cell it could NOT be used with tf.contrib.cudnn_rnn.CudnnLSTMCell later. \n",
            "2020-08-03 14:36:40.737 INFO in 'deeppavlov.core.layers.tf_layers'['tf_layers'] at line 760: \n",
            "Warning! tf.contrib.cudnn_rnn.CudnnCompatibleLSTMCell is used. It is okay for inference mode, but if you train your model with this cell it could NOT be used with tf.contrib.cudnn_rnn.CudnnLSTMCell later. \n",
            "2020-08-03 14:36:42.462 INFO in 'deeppavlov.core.models.tf_model'['tf_model'] at line 51: [loading model from /root/.deeppavlov/models/ner_conll2003/model_no_pos]\n"
          ],
          "name": "stderr"
        },
        {
          "output_type": "stream",
          "text": [
            "INFO:tensorflow:Restoring parameters from /root/.deeppavlov/models/ner_conll2003/model_no_pos\n"
          ],
          "name": "stdout"
        }
      ]
    },
    {
      "cell_type": "markdown",
      "metadata": {
        "id": "G01hfCemaI_C",
        "colab_type": "text"
      },
      "source": [
        "Ner performs OK for everything except the restaurants' name identification.  \n",
        "That's mostly because we avoid the usage of restaurants database here."
      ]
    },
    {
      "cell_type": "markdown",
      "metadata": {
        "id": "2PXzLz-Jaf4I",
        "colab_type": "text"
      },
      "source": [
        "Let's check the NER performance running some slotfilling experiment"
      ]
    },
    {
      "cell_type": "code",
      "metadata": {
        "id": "7eKIgrOqbfgQ",
        "colab_type": "code",
        "colab": {}
      },
      "source": [
        "import json\n",
        "\n",
        "json.dump(ner_config, open('ner_config.json', 'wt'))"
      ],
      "execution_count": 22,
      "outputs": []
    },
    {
      "cell_type": "code",
      "metadata": {
        "id": "QTcFFxhAbxSx",
        "colab_type": "code",
        "colab": {
          "base_uri": "https://localhost:8080/",
          "height": 224
        },
        "outputId": "df6cbb55-eeca-4c46-9e9b-9931b2c76625"
      },
      "source": [
        "import json\n",
        "from deeppavlov import configs\n",
        "\n",
        "from deeppavlov.core.common.file import read_json\n",
        "from deeppavlov import build_model\n",
        "\n",
        "slotfill_config = read_json(configs.ner.slotfill_dstc2)\n",
        "slotfill_config['dataset_reader']['class_name'] = \"md_yaml_dialogs_reader\"\n",
        "slotfill_config['metadata']['variables']['DATA_PATH'] = 'schema_resto_md_yaml'\n",
        "slotfill_config['metadata']['variables']['SLOT_VALS_PATH'] = 'schema_resto_md_yaml/slotfill.json'\n",
        "slotfill_config[\"chainer\"][\"pipe\"][-1][\"load_path\"] = \"schema_resto_md_yaml/slotfill.json\"\n",
        "slotfill_config[\"metadata\"][\"variables\"][\"NER_CONFIG_PATH\"] = \"ner_config.json\"\n",
        "slotfiller = build_model(slotfill_config, download=False)"
      ],
      "execution_count": 23,
      "outputs": [
        {
          "output_type": "stream",
          "text": [
            "2020-08-03 14:36:42.862 INFO in 'deeppavlov.core.data.simple_vocab'['simple_vocab'] at line 115: [loading vocabulary from /root/.deeppavlov/models/ner_conll2003/word.dict]\n",
            "2020-08-03 14:36:42.866 INFO in 'deeppavlov.core.data.simple_vocab'['simple_vocab'] at line 115: [loading vocabulary from /root/.deeppavlov/models/ner_conll2003/tag.dict]\n",
            "2020-08-03 14:36:42.869 INFO in 'deeppavlov.core.data.simple_vocab'['simple_vocab'] at line 115: [loading vocabulary from /root/.deeppavlov/models/ner_conll2003/char.dict]\n",
            "2020-08-03 14:36:42.871 INFO in 'deeppavlov.models.embedders.glove_embedder'['glove_embedder'] at line 52: [loading GloVe embeddings from `/root/.deeppavlov/downloads/embeddings/glove.6B.100d.txt`]\n",
            "2020-08-03 14:37:20.16 INFO in 'deeppavlov.core.layers.tf_layers'['tf_layers'] at line 760: \n",
            "Warning! tf.contrib.cudnn_rnn.CudnnCompatibleLSTMCell is used. It is okay for inference mode, but if you train your model with this cell it could NOT be used with tf.contrib.cudnn_rnn.CudnnLSTMCell later. \n",
            "2020-08-03 14:37:20.108 INFO in 'deeppavlov.core.layers.tf_layers'['tf_layers'] at line 760: \n",
            "Warning! tf.contrib.cudnn_rnn.CudnnCompatibleLSTMCell is used. It is okay for inference mode, but if you train your model with this cell it could NOT be used with tf.contrib.cudnn_rnn.CudnnLSTMCell later. \n",
            "2020-08-03 14:37:21.768 INFO in 'deeppavlov.core.models.tf_model'['tf_model'] at line 51: [loading model from /root/.deeppavlov/models/ner_conll2003/model_no_pos]\n"
          ],
          "name": "stderr"
        },
        {
          "output_type": "stream",
          "text": [
            "INFO:tensorflow:Restoring parameters from /root/.deeppavlov/models/ner_conll2003/model_no_pos\n"
          ],
          "name": "stdout"
        },
        {
          "output_type": "stream",
          "text": [
            "2020-08-03 14:37:21.905 WARNING in 'deeppavlov.core.models.serializable'['serializable'] at line 45: Load path '/content/dp_big_demo_dir/schema_resto_md_yaml/slotfill.json' differs from save path '/root/.deeppavlov/models/slotfill_dstc2/model' in 'infer' mode for DstcSlotFillingNetwork.\n"
          ],
          "name": "stderr"
        }
      ]
    },
    {
      "cell_type": "code",
      "metadata": {
        "id": "6slj0dKFdXZC",
        "colab_type": "code",
        "colab": {
          "base_uri": "https://localhost:8080/",
          "height": 34
        },
        "outputId": "fbb440c2-3709-4057-9929-0bb9b7479536"
      },
      "source": [
        "slotfiller([\"i'm looking for a thai food somewhere in SFO\"])"
      ],
      "execution_count": 24,
      "outputs": [
        {
          "output_type": "execute_result",
          "data": {
            "text/plain": [
              "[{'city': 'SFO', 'cuisine': 'Thai'}]"
            ]
          },
          "metadata": {
            "tags": []
          },
          "execution_count": 24
        }
      ]
    },
    {
      "cell_type": "markdown",
      "metadata": {
        "id": "ZG8Zk-ypankD",
        "colab_type": "text"
      },
      "source": [
        "Seems OK. Let's save our slotfiller config to train and evaluate the restaurants bot, finally."
      ]
    },
    {
      "cell_type": "code",
      "metadata": {
        "id": "6DKCnXjGd6Q0",
        "colab_type": "code",
        "colab": {}
      },
      "source": [
        "import json\n",
        "\n",
        "json.dump(slotfill_config, open('slotfill_config.json', 'wt'))"
      ],
      "execution_count": 25,
      "outputs": []
    },
    {
      "cell_type": "markdown",
      "metadata": {
        "id": "KtQcZzXTa8e7",
        "colab_type": "text"
      },
      "source": [
        "### The restaurants assistant bot"
      ]
    },
    {
      "cell_type": "markdown",
      "metadata": {
        "id": "5QVLkqcXbyjt",
        "colab_type": "text"
      },
      "source": [
        "Again, we will use the `stories.md`, `nlu.md` and `domain.yml` to train the bot.\n",
        "\n",
        "But the data now is a bit more sophisticated to mimic the real scenario of the go-bot usage.\n",
        "\n",
        "The only strong simplification we perform here is that we excluded all the interaction with the DB from the training data.  \n",
        "This would damage the overall performance of the bot though it should still be able to generalize and use the global patterns underlying in conversations. "
      ]
    },
    {
      "cell_type": "markdown",
      "metadata": {
        "id": "XZQepTn7g650",
        "colab_type": "text"
      },
      "source": [
        "Let's first take a look at our DSL files"
      ]
    },
    {
      "cell_type": "markdown",
      "metadata": {
        "id": "C5qaUcdMmO-e",
        "colab_type": "text"
      },
      "source": [
        "`stories.md`\n",
        "\n",
        "Stories are still showing the metainformation beyond the possible dialogues.\n",
        "That is user intents are provided in the `intent_name+informed_slots_info` format. \n",
        "And the system respones are provided as response-class labels too."
      ]
    },
    {
      "cell_type": "code",
      "metadata": {
        "id": "cH81FW6Wdokg",
        "colab_type": "code",
        "colab": {
          "base_uri": "https://localhost:8080/",
          "height": 527
        },
        "outputId": "f8ef9086-282f-49d0-e85d-8995ea97f7d1"
      },
      "source": [
        "!head -500 schema_resto_md_yaml/stories.md | tail -30"
      ],
      "execution_count": 26,
      "outputs": [
        {
          "output_type": "stream",
          "text": [
            "  - utter_INFORM_Cuisine+INFORM_StreetAddress+NOTIFY_SUCCESS\n",
            "* THANK_YOU+GOODBYE{}\n",
            "  - utter_GOODBYE\n",
            "\n",
            "## 25\n",
            "* hi{}\n",
            "  - utter_hi\n",
            "* INFORM_INTENT_Intent{\"intent\": \"FindRestaurants\"}\n",
            "  - utter_REQUEST_City\n",
            "* INFORM_City{\"city\": \"Oakland\"}\n",
            "  - utter_REQUEST_Cuisine\n",
            "* INFORM_Cuisine{\"cuisine\": \"Fish\"}\n",
            "  - utter_OFFER_RestaurantName+OFFER_City+INFORM_COUNT_Count\n",
            "* REQUEST_ALTS{}\n",
            "  - utter_OFFER_RestaurantName+OFFER_City\n",
            "* INFORM_PriceRange+REQUEST_ALTS{\"price_range\": \"moderate\"}\n",
            "  - utter_OFFER_RestaurantName+OFFER_City+INFORM_COUNT_Count\n",
            "* REQUEST_ServesAlcohol+REQUEST_HasLiveMusic{}\n",
            "  - utter_INFORM_HasLiveMusic+INFORM_ServesAlcohol\n",
            "* INFORM_INTENT_Intent+SELECT{\"intent\": \"ReserveRestaurant\"}\n",
            "  - utter_REQUEST_Time\n",
            "* INFORM_PartySize+INFORM_Time{\"party_size\": \"2\", \"time\": \"10:30 in the morning\"}\n",
            "  - utter_CONFIRM_RestaurantName+CONFIRM_City+CONFIRM_Time+CONFIRM_PartySize+CONFIRM_Date\n",
            "* REQUEST_StreetAddress+REQUEST_PhoneNumber+AFFIRM{}\n",
            "  - utter_NOTIFY_FAILURE+REQ_MORE\n",
            "* INFORM_PartySize+INFORM_Time+INFORM_INTENT_Intent{\"party_size\": \"1\", \"time\": \"12:30\", \"intent\": \"ReserveRestaurant\"}\n",
            "  - utter_CONFIRM_RestaurantName+CONFIRM_City+CONFIRM_Time+CONFIRM_PartySize+CONFIRM_Date\n",
            "* AFFIRM{}\n",
            "  - utter_NOTIFY_SUCCESS\n",
            "* THANK_YOU+GOODBYE{}\n"
          ],
          "name": "stdout"
        }
      ]
    },
    {
      "cell_type": "markdown",
      "metadata": {
        "id": "1LMcU7YnmRkn",
        "colab_type": "text"
      },
      "source": [
        "`nlu.md`\n",
        "\n",
        "NLU file still shows the examples of user utterances for the possible intent classes.\n",
        "The slotfilling and NER information is provided in the form of inline mark-up."
      ]
    },
    {
      "cell_type": "code",
      "metadata": {
        "id": "GCgB0VugfWhe",
        "colab_type": "code",
        "colab": {
          "base_uri": "https://localhost:8080/",
          "height": 357
        },
        "outputId": "0cedd7a8-332e-4adc-e2e4-f73ce5a1db4f"
      },
      "source": [
        "!head -50 schema_resto_md_yaml/nlu.md | tail -20"
      ],
      "execution_count": 27,
      "outputs": [
        {
          "output_type": "stream",
          "text": [
            "- [Evening 7:15](time) at Mcdonald's.\n",
            "- [6:15 in the evening](time) at Bistro liaison.\n",
            "- Let's set it up for [6:30 pm](time) at Sakoon.\n",
            "- I would like a reservation in [Flames Eatery](restaurant_name) at [19:00](time)\n",
            "- I'm thinking about Rice Bowl, at [morning 11:30](time)\n",
            "\n",
            "## intent:REQUEST_Cuisine+AFFIRM\n",
            "- Sounds great. Do you know if they cook [Taiwanese](cuisine) food?\n",
            "- yeah. what do they serve?\n",
            "\n",
            "## intent:AFFIRM\n",
            "- Yes\n",
            "- That's great.\n",
            "- Sure that sounds good.\n",
            "- That works!\n",
            "- that would be great.\n",
            "- That sounds good.\n",
            "- Yes that works for me\n",
            "- Sure, that sounds great!\n",
            "- This is good for me\n"
          ],
          "name": "stdout"
        }
      ]
    },
    {
      "cell_type": "markdown",
      "metadata": {
        "id": "WIoT26lqmUAa",
        "colab_type": "text"
      },
      "source": [
        "`domain.yml`\n",
        "The domain file now provides the list of slots and entities relevant for the bot as well as possible intent classes and system response text templates."
      ]
    },
    {
      "cell_type": "code",
      "metadata": {
        "id": "y14jLZzJfYye",
        "colab_type": "code",
        "colab": {
          "base_uri": "https://localhost:8080/",
          "height": 935
        },
        "outputId": "41cc9981-26b6-4d39-d0a6-c2c5c61f7161"
      },
      "source": [
        "!head -40 schema_resto_md_yaml/domain.yml && echo \"...\"\n",
        "!grep -B 1 -A 10 responses schema_resto_md_yaml/domain.yml && echo \"...\""
      ],
      "execution_count": 28,
      "outputs": [
        {
          "output_type": "stream",
          "text": [
            "slots:\n",
            "  price_range:\n",
            "    type: text\n",
            "  cuisine:\n",
            "    type: text\n",
            "  date:\n",
            "    type: text\n",
            "  restaurant_name:\n",
            "    type: text\n",
            "  intent:\n",
            "    type: text\n",
            "  party_size:\n",
            "    type: text\n",
            "  time:\n",
            "    type: text\n",
            "  has_live_music:\n",
            "    type: text\n",
            "  city:\n",
            "    type: text\n",
            "  serves_alcohol:\n",
            "    type: text\n",
            "\n",
            "entities:\n",
            "- price_range\n",
            "- cuisine\n",
            "- date\n",
            "- restaurant_name\n",
            "- intent\n",
            "- party_size\n",
            "- time\n",
            "- has_live_music\n",
            "- city\n",
            "- serves_alcohol\n",
            "\n",
            "intents:\n",
            "  - INFORM_RestaurantName+INFORM_Time\n",
            "  - THANK_YOU+GOODBYE\n",
            "  - INFORM_Time+INFORM_RestaurantName\n",
            "  - INFORM_PriceRange+REQUEST_ALTS\n",
            "  - REQUEST_PhoneNumber+REQUEST_StreetAddress+AFFIRM\n",
            "...\n",
            "\n",
            "responses:\n",
            "  utter_REQUEST_Cuisine:\n",
            "    - text: \"What are you in the mood for? {cuisine}? {cuisine}\"\n",
            "  utter_REQUEST_City:\n",
            "    - text: \"What city are you interested in?\"\n",
            "  utter_OFFER_RestaurantName+OFFER_City:\n",
            "    - text: \"Great! {restaurant_name} is a great restaurant in {city}\"\n",
            "  utter_INFORM_PhoneNumber+INFORM_HasLiveMusic:\n",
            "    - text: \"The contact number is {phone_number}\"\n",
            "  utter_OFFER_INTENT_Intent:\n",
            "    - text: \"Would you like to reserve a table here?\"\n",
            "...\n"
          ],
          "name": "stdout"
        }
      ]
    },
    {
      "cell_type": "markdown",
      "metadata": {
        "id": "NgXOUIWQmYUO",
        "colab_type": "text"
      },
      "source": [
        "These files are what we need to train the GO-bot so let's do it."
      ]
    },
    {
      "cell_type": "code",
      "metadata": {
        "id": "_CkliRfVdlxm",
        "colab_type": "code",
        "colab": {}
      },
      "source": [
        "from deeppavlov import configs\n",
        "from deeppavlov.core.common.file import read_json\n",
        "\n",
        "\n",
        "gobot_config = read_json(configs.go_bot.gobot_md_yaml_minimal)\n",
        "gobot_config['chainer']['pipe'][-1]['slot_filler'] = {\"config_path\": \"slotfill_config.json\"}\n",
        "\n",
        "gobot_config['metadata']['variables']['DATA_PATH'] = 'schema_resto_md_yaml'\n",
        "gobot_config['metadata']['variables']['MODEL_PATH'] = '.'"
      ],
      "execution_count": 29,
      "outputs": []
    },
    {
      "cell_type": "markdown",
      "metadata": {
        "id": "DuGCARujbbBs",
        "colab_type": "text"
      },
      "source": [
        "Since our data is the tutorial data we will use the same subsamples for all of train, test and valid subsamples.\n",
        "\n",
        "However, for a real system you should use different train, test, and valid sample stories.md files."
      ]
    },
    {
      "cell_type": "code",
      "metadata": {
        "id": "R4HWEXlEeW92",
        "colab_type": "code",
        "colab": {}
      },
      "source": [
        "!cp schema_resto_md_yaml/stories.md schema_resto_md_yaml/stories-trn.md\n",
        "!cp schema_resto_md_yaml/stories.md schema_resto_md_yaml/stories-tst.md\n",
        "!cp schema_resto_md_yaml/stories.md schema_resto_md_yaml/stories-val.md"
      ],
      "execution_count": 30,
      "outputs": []
    },
    {
      "cell_type": "code",
      "metadata": {
        "id": "WMbazF8ad6_N",
        "colab_type": "code",
        "colab": {
          "base_uri": "https://localhost:8080/",
          "height": 224
        },
        "outputId": "5018b9cf-32de-4354-a9ca-b264ec5f0e1b"
      },
      "source": [
        "from deeppavlov import train_model\n",
        "\n",
        "train_model(gobot_config, download=False);"
      ],
      "execution_count": 49,
      "outputs": [
        {
          "output_type": "stream",
          "text": [
            "2020-08-03 15:02:25.894 INFO in 'deeppavlov.core.layers.tf_layers'['tf_layers'] at line 760: \n",
            "Warning! tf.contrib.cudnn_rnn.CudnnCompatibleLSTMCell is used. It is okay for inference mode, but if you train your model with this cell it could NOT be used with tf.contrib.cudnn_rnn.CudnnLSTMCell later. \n",
            "2020-08-03 15:02:25.987 INFO in 'deeppavlov.core.layers.tf_layers'['tf_layers'] at line 760: \n",
            "Warning! tf.contrib.cudnn_rnn.CudnnCompatibleLSTMCell is used. It is okay for inference mode, but if you train your model with this cell it could NOT be used with tf.contrib.cudnn_rnn.CudnnLSTMCell later. \n",
            "2020-08-03 15:02:27.735 INFO in 'deeppavlov.core.models.tf_model'['tf_model'] at line 51: [loading model from /root/.deeppavlov/models/ner_conll2003/model_no_pos]\n"
          ],
          "name": "stderr"
        },
        {
          "output_type": "stream",
          "text": [
            "INFO:tensorflow:Restoring parameters from /root/.deeppavlov/models/ner_conll2003/model_no_pos\n"
          ],
          "name": "stdout"
        },
        {
          "output_type": "stream",
          "text": [
            "2020-08-03 15:02:27.919 WARNING in 'deeppavlov.core.models.serializable'['serializable'] at line 45: Load path '/content/dp_big_demo_dir/schema_resto_md_yaml/slotfill.json' differs from save path '/root/.deeppavlov/models/slotfill_dstc2/model' in 'infer' mode for DstcSlotFillingNetwork.\n",
            "2020-08-03 15:02:27.923 INFO in 'deeppavlov.models.embedders.glove_embedder'['glove_embedder'] at line 52: [loading GloVe embeddings from `/root/.deeppavlov/downloads/embeddings/glove.6B.100d.txt`]\n",
            "2020-08-03 15:03:05.966 INFO in 'deeppavlov.models.go_bot.policy.policy_network'['policy_network'] at line 86: INSIDE PolicyNetwork init(). Initializing PolicyNetwork from checkpoint.\n",
            "2020-08-03 15:03:05.972 INFO in 'deeppavlov.core.models.tf_model'['tf_model'] at line 51: [loading model from /content/dp_big_demo_dir/model/policy]\n"
          ],
          "name": "stderr"
        },
        {
          "output_type": "stream",
          "text": [
            "INFO:tensorflow:Restoring parameters from /content/dp_big_demo_dir/model/policy\n"
          ],
          "name": "stdout"
        }
      ]
    },
    {
      "cell_type": "code",
      "metadata": {
        "id": "tk6inTKkeOql",
        "colab_type": "code",
        "colab": {
          "base_uri": "https://localhost:8080/",
          "height": 224
        },
        "outputId": "c484f155-5779-4986-bb56-512294e291da"
      },
      "source": [
        "bot = build_model(gobot_config)"
      ],
      "execution_count": 50,
      "outputs": [
        {
          "output_type": "stream",
          "text": [
            "2020-08-03 15:04:06.723 INFO in 'deeppavlov.core.layers.tf_layers'['tf_layers'] at line 760: \n",
            "Warning! tf.contrib.cudnn_rnn.CudnnCompatibleLSTMCell is used. It is okay for inference mode, but if you train your model with this cell it could NOT be used with tf.contrib.cudnn_rnn.CudnnLSTMCell later. \n",
            "2020-08-03 15:04:06.812 INFO in 'deeppavlov.core.layers.tf_layers'['tf_layers'] at line 760: \n",
            "Warning! tf.contrib.cudnn_rnn.CudnnCompatibleLSTMCell is used. It is okay for inference mode, but if you train your model with this cell it could NOT be used with tf.contrib.cudnn_rnn.CudnnLSTMCell later. \n",
            "2020-08-03 15:04:08.538 INFO in 'deeppavlov.core.models.tf_model'['tf_model'] at line 51: [loading model from /root/.deeppavlov/models/ner_conll2003/model_no_pos]\n"
          ],
          "name": "stderr"
        },
        {
          "output_type": "stream",
          "text": [
            "INFO:tensorflow:Restoring parameters from /root/.deeppavlov/models/ner_conll2003/model_no_pos\n"
          ],
          "name": "stdout"
        },
        {
          "output_type": "stream",
          "text": [
            "2020-08-03 15:04:08.713 WARNING in 'deeppavlov.core.models.serializable'['serializable'] at line 45: Load path '/content/dp_big_demo_dir/schema_resto_md_yaml/slotfill.json' differs from save path '/root/.deeppavlov/models/slotfill_dstc2/model' in 'infer' mode for DstcSlotFillingNetwork.\n",
            "2020-08-03 15:04:08.716 INFO in 'deeppavlov.models.embedders.glove_embedder'['glove_embedder'] at line 52: [loading GloVe embeddings from `/root/.deeppavlov/downloads/embeddings/glove.6B.100d.txt`]\n",
            "2020-08-03 15:04:45.989 INFO in 'deeppavlov.models.go_bot.policy.policy_network'['policy_network'] at line 86: INSIDE PolicyNetwork init(). Initializing PolicyNetwork from checkpoint.\n",
            "2020-08-03 15:04:45.996 INFO in 'deeppavlov.core.models.tf_model'['tf_model'] at line 51: [loading model from /content/dp_big_demo_dir/model/policy]\n"
          ],
          "name": "stderr"
        },
        {
          "output_type": "stream",
          "text": [
            "INFO:tensorflow:Restoring parameters from /content/dp_big_demo_dir/model/policy\n"
          ],
          "name": "stdout"
        }
      ]
    },
    {
      "cell_type": "code",
      "metadata": {
        "id": "U2Iv0GNgfjlM",
        "colab_type": "code",
        "colab": {
          "base_uri": "https://localhost:8080/",
          "height": 34
        },
        "outputId": "2e7fe7c1-0381-45c8-c898-9c759ce97396"
      },
      "source": [
        "bot.reset()\n",
        "\n",
        "bot([\"Hey!\"])[0][0].actions_tuple"
      ],
      "execution_count": 51,
      "outputs": [
        {
          "output_type": "execute_result",
          "data": {
            "text/plain": [
              "('utter_hi',)"
            ]
          },
          "metadata": {
            "tags": []
          },
          "execution_count": 51
        }
      ]
    },
    {
      "cell_type": "markdown",
      "metadata": {
        "id": "ZKwg9N2zbD0B",
        "colab_type": "text"
      },
      "source": [
        "Ok the bot performs OK on greeting"
      ]
    },
    {
      "cell_type": "code",
      "metadata": {
        "id": "5c-oNomgswak",
        "colab_type": "code",
        "colab": {
          "base_uri": "https://localhost:8080/",
          "height": 34
        },
        "outputId": "232a4f6b-fc33-4426-fda4-661471da28bd"
      },
      "source": [
        "bot([\"I'd like to find a restaurant for this evening\"])[0][0].actions_tuple"
      ],
      "execution_count": 52,
      "outputs": [
        {
          "output_type": "execute_result",
          "data": {
            "text/plain": [
              "('utter_REQUEST_City',)"
            ]
          },
          "metadata": {
            "tags": []
          },
          "execution_count": 52
        }
      ]
    },
    {
      "cell_type": "markdown",
      "metadata": {
        "id": "oxJwUqtCbJ6N",
        "colab_type": "text"
      },
      "source": [
        "The bot asks for an inevitably necessary information."
      ]
    },
    {
      "cell_type": "code",
      "metadata": {
        "id": "otpYIs_khwPw",
        "colab_type": "code",
        "colab": {
          "base_uri": "https://localhost:8080/",
          "height": 34
        },
        "outputId": "20498922-5658-4c24-8913-6b55fba6e626"
      },
      "source": [
        "bot([\"Somewhere in Oakland, sushi and for two people please\"])[0][0].actions_tuple"
      ],
      "execution_count": 53,
      "outputs": [
        {
          "output_type": "execute_result",
          "data": {
            "text/plain": [
              "('utter_OFFER_RestaurantName', 'OFFER_City')"
            ]
          },
          "metadata": {
            "tags": []
          },
          "execution_count": 53
        }
      ]
    },
    {
      "cell_type": "markdown",
      "metadata": {
        "id": "g4Ab-S4WbUJL",
        "colab_type": "text"
      },
      "source": [
        "And so on."
      ]
    },
    {
      "cell_type": "code",
      "metadata": {
        "id": "51ViTAFjtZTq",
        "colab_type": "code",
        "colab": {
          "base_uri": "https://localhost:8080/",
          "height": 34
        },
        "outputId": "a4d466ee-e9aa-408f-e967-fbb28e4493c9"
      },
      "source": [
        "bot([\"Cool! That's what I was looking for, thanks!\"])[0][0].actions_tuple"
      ],
      "execution_count": 54,
      "outputs": [
        {
          "output_type": "execute_result",
          "data": {
            "text/plain": [
              "('utter_REQUEST_Time',)"
            ]
          },
          "metadata": {
            "tags": []
          },
          "execution_count": 54
        }
      ]
    },
    {
      "cell_type": "markdown",
      "metadata": {
        "id": "YIgU4aSSbmlS",
        "colab_type": "text"
      },
      "source": [
        "Let's say goodbye to our bot"
      ]
    },
    {
      "cell_type": "code",
      "metadata": {
        "id": "wNrBveyzhw7V",
        "colab_type": "code",
        "colab": {
          "base_uri": "https://localhost:8080/",
          "height": 102
        },
        "outputId": "9a7604fb-bcf8-46c0-c5d2-612491ca9594"
      },
      "source": [
        "bot([\"Bye bot\"])[0][0].actions_tuple"
      ],
      "execution_count": 55,
      "outputs": [
        {
          "output_type": "execute_result",
          "data": {
            "text/plain": [
              "('utter_CONFIRM_RestaurantName',\n",
              " 'CONFIRM_City',\n",
              " 'CONFIRM_Time',\n",
              " 'CONFIRM_Date',\n",
              " 'CONFIRM_PartySize')"
            ]
          },
          "metadata": {
            "tags": []
          },
          "execution_count": 55
        }
      ]
    },
    {
      "cell_type": "markdown",
      "metadata": {
        "id": "B--vLcEBbpRp",
        "colab_type": "text"
      },
      "source": [
        "After the goodbye bot does perform uninterpretable. That's what most of recurrent system do after the end of the sequence cause no one reaches that poing. "
      ]
    },
    {
      "cell_type": "code",
      "metadata": {
        "id": "-4ASqT_Fu4TH",
        "colab_type": "code",
        "colab": {
          "base_uri": "https://localhost:8080/",
          "height": 34
        },
        "outputId": "13be5dff-2ff2-4f3a-ade4-328069b1ca60"
      },
      "source": [
        "bot([\"Bye bot\"])[0][0].actions_tuple"
      ],
      "execution_count": 56,
      "outputs": [
        {
          "output_type": "execute_result",
          "data": {
            "text/plain": [
              "('utter_NOTIFY_SUCCESS',)"
            ]
          },
          "metadata": {
            "tags": []
          },
          "execution_count": 56
        }
      ]
    },
    {
      "cell_type": "markdown",
      "metadata": {
        "id": "Ug6-3fYwb-BX",
        "colab_type": "text"
      },
      "source": [
        "## Final words"
      ]
    },
    {
      "cell_type": "markdown",
      "metadata": {
        "id": "hzcVEXleb_aU",
        "colab_type": "text"
      },
      "source": [
        "More of in-depth examples of goal-oriented bots and their features are coming with future releases, stay tuned!"
      ]
    }
  ]
}